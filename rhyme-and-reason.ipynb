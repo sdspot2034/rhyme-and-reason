{
 "cells": [
  {
   "cell_type": "code",
   "execution_count": 1,
   "id": "90f23e5a",
   "metadata": {},
   "outputs": [],
   "source": [
    "import requests\n",
    "import base64\n",
    "import json"
   ]
  },
  {
   "cell_type": "code",
   "execution_count": 2,
   "id": "68a74422",
   "metadata": {
    "scrolled": false
   },
   "outputs": [],
   "source": [
    "with open('client-secrets-rnr.json','r+') as secrets_file:\n",
    "    secrets = json.load(secrets_file)\n",
    "\n",
    "client_id = secrets[\"client_id\"]\n",
    "client_secret = secrets[\"client_secret\"]\n",
    "redirect_url = secrets[\"redirect_url\"]"
   ]
  },
  {
   "cell_type": "markdown",
   "id": "d81f19fb",
   "metadata": {},
   "source": [
    "# OAuth Authorization"
   ]
  },
  {
   "cell_type": "code",
   "execution_count": 3,
   "id": "8e692053",
   "metadata": {
    "scrolled": false
   },
   "outputs": [
    {
     "name": "stdout",
     "output_type": "stream",
     "text": [
      " * Serving Flask app \"__main__\" (lazy loading)\n",
      " * Environment: production\n",
      "\u001b[31m   WARNING: This is a development server. Do not use it in a production deployment.\u001b[0m\n",
      "\u001b[2m   Use a production WSGI server instead.\u001b[0m\n",
      " * Debug mode: off\n"
     ]
    },
    {
     "name": "stderr",
     "output_type": "stream",
     "text": [
      " * Running on http://localhost:5050/ (Press CTRL+C to quit)\n",
      "127.0.0.1 - - [16/Feb/2024 01:24:15] \"GET / HTTP/1.1\" 302 -\n",
      "/var/folders/_m/s8jbyc4n0yjb3n2vnvp2pc4h0000gn/T/ipykernel_20657/3966248663.py:48: UserWarning: The 'environ['werkzeug.server.shutdown']' function is deprecated and will be removed in Werkzeug 2.1.\n",
      "  func()\n"
     ]
    }
   ],
   "source": [
    "import flask\n",
    "import urllib.parse as urlparse\n",
    "\n",
    "code = None\n",
    "app = flask.Flask(__name__)\n",
    "\n",
    "scopes = \" \".join([\n",
    "    \"user-read-playback-state\"\n",
    "    ,\"user-read-currently-playing\"\n",
    "    ,\"playlist-read-private\"\n",
    "    ,\"playlist-read-collaborative\"\n",
    "    ,\"user-read-playback-position\"\n",
    "    ,\"user-top-read\"\n",
    "    ,\"user-read-recently-played\"\n",
    "    ,\"user-library-read\"\n",
    "    ,\"user-read-email\"\n",
    "    ,\"user-read-private\"])\n",
    "\n",
    "@app.route(\"/\")\n",
    "def index():\n",
    "    \n",
    "    user_auth_url = 'https://accounts.spotify.com/authorize?' + urlparse.urlencode({\n",
    "        'client_id': client_id,\n",
    "        'response_type': 'code',\n",
    "        'scope': scopes,\n",
    "        'redirect_uri': redirect_url,\n",
    "    })  \n",
    "    return flask.redirect(user_auth_url)\n",
    "\n",
    "@app.route(\"/callback\")\n",
    "def callback():\n",
    "    code = flask.request.args.get('code')\n",
    "    if code is None:\n",
    "        err = flask.request.args.get('error')\n",
    "        shutdown_server()\n",
    "        return f\"Authorization failed with the following error: {err}\"\n",
    "    else:\n",
    "        with open('auth_code.txt','w+') as file:\n",
    "            file.write(code)\n",
    "\n",
    "        shutdown_server()\n",
    "        return \"<h1> Authorization successful. Please close this window. </h1>\"\n",
    "\n",
    "def shutdown_server():\n",
    "    func = flask.request.environ.get('werkzeug.server.shutdown')\n",
    "    if func is None:\n",
    "        raise RuntimeError('Not running with the Werkzeug Server')\n",
    "    func()\n",
    "\n",
    "if __name__ == \"__main__\":\n",
    "    app.run(host=\"localhost\", port=5050)"
   ]
  },
  {
   "cell_type": "markdown",
   "id": "8c1dbaaa",
   "metadata": {},
   "source": [
    "# Get Token"
   ]
  },
  {
   "cell_type": "code",
   "execution_count": 4,
   "id": "25169346",
   "metadata": {},
   "outputs": [],
   "source": [
    "def get_token():\n",
    "    auth_string = client_id + \":\" + client_secret\n",
    "    auth_bytes = auth_string.encode(\"utf-8\")\n",
    "    auth_encoded = str(base64.b64encode(auth_bytes), \"utf-8\")\n",
    "    \n",
    "    auth_api_url = \"https://accounts.spotify.com/api/token\"\n",
    "    headers = {\n",
    "        \"Authorization\": \"Basic \" + auth_encoded,\n",
    "        \"Content-type\": \"application/x-www-form-urlencoded\"\n",
    "    }\n",
    "    data = {\"grant_type\": \"client_credentials\"}\n",
    "    result = requests.post(auth_api_url, headers=headers, data=data)\n",
    "    json_results = json.loads(result.content)\n",
    "    token = json_results[\"access_token\"]\n",
    "    return(token)"
   ]
  },
  {
   "cell_type": "code",
   "execution_count": 5,
   "id": "05ecbd6b",
   "metadata": {},
   "outputs": [],
   "source": [
    "def get_auth_tokens():\n",
    "    auth_string = client_id + \":\" + client_secret\n",
    "    auth_bytes = auth_string.encode(\"utf-8\")\n",
    "    auth_encoded = str(base64.b64encode(auth_bytes), \"utf-8\")\n",
    "    \n",
    "    with open('auth_code.txt','r+') as file:\n",
    "        auth_code = file.read()\n",
    "    \n",
    "    token_endpoint = \"https://accounts.spotify.com/api/token\"\n",
    "    data = {\n",
    "        \"grant_type\":\"authorization_code\",\n",
    "        \"code\":auth_code,\n",
    "        \"redirect_uri\":redirect_url,\n",
    "    }\n",
    "    headers = {\n",
    "        \"Authorization\": \"Basic \" + auth_encoded,\n",
    "        \"Content-type\": \"application/x-www-form-urlencoded\"\n",
    "    }\n",
    "    result = requests.post(token_endpoint, headers=headers, data=data)\n",
    "    json_results = json.loads(result.content)\n",
    "    return json_results"
   ]
  },
  {
   "cell_type": "code",
   "execution_count": 6,
   "id": "48d3b289",
   "metadata": {},
   "outputs": [],
   "source": [
    "output = get_auth_tokens()\n",
    "if 'error' in output.keys():\n",
    "    print(\"Error! \", output[\"error_description\"])\n",
    "else:\n",
    "    with open('auth_tokens.json','w+') as file:\n",
    "        json.dump(output, file, indent=4)"
   ]
  },
  {
   "cell_type": "code",
   "execution_count": 14,
   "id": "0a7f5d68",
   "metadata": {},
   "outputs": [],
   "source": [
    "def refresh_access_tokens(refresh_token):\n",
    "    auth_string = client_id + \":\" + client_secret\n",
    "    auth_bytes = auth_string.encode(\"utf-8\")\n",
    "    auth_encoded = str(base64.b64encode(auth_bytes), \"utf-8\")\n",
    "    \n",
    "    refresh_endpoint = 'https://accounts.spotify.com/api/token'\n",
    "    data = {\n",
    "        \"grant_type\":\"refresh_token\",\n",
    "        \"refresh_token\":refresh_token\n",
    "    }\n",
    "    headers = {\n",
    "        \"Authorization\": \"Basic \" + auth_encoded,\n",
    "        \"Content-type\": \"application/x-www-form-urlencoded\"\n",
    "    }\n",
    "    \n",
    "    result = requests.post(refresh_endpoint, headers=headers, data=data)\n",
    "    json_results = json.loads(result.content)\n",
    "    return json_results"
   ]
  },
  {
   "cell_type": "code",
   "execution_count": 15,
   "id": "a1b4308b",
   "metadata": {},
   "outputs": [],
   "source": [
    "with open('auth_tokens.json','r+') as file:\n",
    "    auth_keys = json.load(file)\n",
    "    \n",
    "refresh_token = auth_keys['refresh_token']\n",
    "tokens = refresh_access_tokens(refresh_token)"
   ]
  },
  {
   "cell_type": "code",
   "execution_count": 16,
   "id": "b7c5cdf3",
   "metadata": {},
   "outputs": [],
   "source": [
    "if 'refresh_token' not in tokens.keys():\n",
    "    with open('refresh_token.json','w+') as file:\n",
    "        file.write(json.dumps({\"refresh_token\":f\"{refresh_token}\"}))\n",
    "\n",
    "with open('auth_tokens.json','w+') as file:\n",
    "        json.dump(tokens, file, indent=4)"
   ]
  },
  {
   "cell_type": "code",
   "execution_count": 12,
   "id": "d4f8b630",
   "metadata": {},
   "outputs": [
    {
     "name": "stdout",
     "output_type": "stream",
     "text": [
      "{'display_name': 'sdspot2034', 'external_urls': {'spotify': 'https://open.spotify.com/user/sdspot2034'}, 'href': 'https://api.spotify.com/v1/users/sdspot2034', 'id': 'sdspot2034', 'images': [{'url': 'https://i.scdn.co/image/ab67757000003b8280153af8b79b3144b24f1291', 'height': 64, 'width': 64}, {'url': 'https://i.scdn.co/image/ab6775700000ee8580153af8b79b3144b24f1291', 'height': 300, 'width': 300}], 'type': 'user', 'uri': 'spotify:user:sdspot2034', 'followers': {'href': None, 'total': 9}, 'country': 'IN', 'product': 'premium', 'explicit_content': {'filter_enabled': False, 'filter_locked': False}, 'email': 'shreyandas2034@gmail.com'}\n"
     ]
    }
   ],
   "source": [
    "with open('auth_tokens.json','r+') as file:\n",
    "    auth_keys = json.load(file)\n",
    "    \n",
    "token = auth_keys[\"access_token\"]\n",
    "\n",
    "result = requests.get(\"https://api.spotify.com/v1/me\", headers={\"Authorization\": \"Bearer \" + token,\n",
    "        \"Content-type\": \"application/x-www-form-urlencoded\"})\n",
    "json_results = json.loads(result.content)\n",
    "\n",
    "print(json_results)"
   ]
  }
 ],
 "metadata": {
  "kernelspec": {
   "display_name": "Python 3 (ipykernel)",
   "language": "python",
   "name": "python3"
  },
  "language_info": {
   "codemirror_mode": {
    "name": "ipython",
    "version": 3
   },
   "file_extension": ".py",
   "mimetype": "text/x-python",
   "name": "python",
   "nbconvert_exporter": "python",
   "pygments_lexer": "ipython3",
   "version": "3.9.13"
  }
 },
 "nbformat": 4,
 "nbformat_minor": 5
}
