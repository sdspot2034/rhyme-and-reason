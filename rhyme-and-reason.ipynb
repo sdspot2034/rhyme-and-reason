{
 "cells": [
  {
   "cell_type": "code",
   "execution_count": 1,
   "id": "90f23e5a",
   "metadata": {},
   "outputs": [],
   "source": [
    "import json\n",
    "from authorization import SpotifyAuth"
   ]
  },
  {
   "cell_type": "code",
   "execution_count": 2,
   "id": "d707fdc9",
   "metadata": {},
   "outputs": [],
   "source": [
    "%load_ext autoreload"
   ]
  },
  {
   "cell_type": "code",
   "execution_count": 3,
   "id": "7f56649d",
   "metadata": {},
   "outputs": [],
   "source": [
    "%autoreload 2"
   ]
  },
  {
   "cell_type": "code",
   "execution_count": 4,
   "id": "68a74422",
   "metadata": {
    "scrolled": false
   },
   "outputs": [],
   "source": [
    "with open('client-secrets-rnr.json','r+') as secrets_file:\n",
    "    secrets = json.load(secrets_file)\n",
    "\n",
    "client_id = secrets[\"client_id\"]\n",
    "client_secret = secrets[\"client_secret\"]\n",
    "redirect_url = secrets[\"redirect_url\"]"
   ]
  },
  {
   "cell_type": "code",
   "execution_count": 5,
   "id": "7c969b1d",
   "metadata": {
    "scrolled": true
   },
   "outputs": [],
   "source": [
    "spotify_authorisation = SpotifyAuth(client_id=client_id, client_secret=client_secret, redirect_url=redirect_url)\n",
    "spotify_authorisation.set_access_token_from_file('access_token.json')"
   ]
  },
  {
   "cell_type": "markdown",
   "id": "ec6cd9cf",
   "metadata": {},
   "source": [
    "# Get User Details"
   ]
  },
  {
   "cell_type": "code",
   "execution_count": 6,
   "id": "9cbe8ed2",
   "metadata": {},
   "outputs": [],
   "source": [
    "import spotify_functions as spotify"
   ]
  },
  {
   "cell_type": "code",
   "execution_count": 7,
   "id": "bd3ebc1c",
   "metadata": {},
   "outputs": [
    {
     "data": {
      "text/plain": [
       "{'display_name': 'sdspot2034',\n",
       " 'external_urls': {'spotify': 'https://open.spotify.com/user/sdspot2034'},\n",
       " 'href': 'https://api.spotify.com/v1/users/sdspot2034',\n",
       " 'id': 'sdspot2034',\n",
       " 'images': [{'url': 'https://i.scdn.co/image/ab67757000003b8280153af8b79b3144b24f1291',\n",
       "   'height': 64,\n",
       "   'width': 64},\n",
       "  {'url': 'https://i.scdn.co/image/ab6775700000ee8580153af8b79b3144b24f1291',\n",
       "   'height': 300,\n",
       "   'width': 300}],\n",
       " 'type': 'user',\n",
       " 'uri': 'spotify:user:sdspot2034',\n",
       " 'followers': {'href': None, 'total': 9},\n",
       " 'country': 'IN',\n",
       " 'product': 'premium',\n",
       " 'explicit_content': {'filter_enabled': False, 'filter_locked': False},\n",
       " 'email': 'shreyandas2034@gmail.com'}"
      ]
     },
     "execution_count": 7,
     "metadata": {},
     "output_type": "execute_result"
    }
   ],
   "source": [
    "spotify.get_user_details(spotify_authorisation.get_access_token())"
   ]
  },
  {
   "cell_type": "code",
   "execution_count": 8,
   "id": "27e29db8",
   "metadata": {},
   "outputs": [],
   "source": [
    "import datetime\n",
    "yesterday = datetime.datetime.now() - datetime.timedelta(days=1)\n",
    "# print(yesterday.timestamp()*1e3)\n",
    "cdc_time = int(yesterday.timestamp()*1e3)"
   ]
  },
  {
   "cell_type": "markdown",
   "id": "c45c66b4",
   "metadata": {},
   "source": [
    "# Get All Songs Played in the last one day"
   ]
  },
  {
   "cell_type": "code",
   "execution_count": 9,
   "id": "da0e887a",
   "metadata": {},
   "outputs": [],
   "source": [
    "token = spotify_authorisation.get_access_token()\n",
    "history = spotify.get_listening_history(token, cdc_time)['items']"
   ]
  },
  {
   "cell_type": "markdown",
   "id": "a2f47724",
   "metadata": {},
   "source": [
    "## EDA over recent history"
   ]
  },
  {
   "cell_type": "markdown",
   "id": "e5e8860f",
   "metadata": {},
   "source": [
    "### Number of songs played"
   ]
  },
  {
   "cell_type": "code",
   "execution_count": 10,
   "id": "30b4c792",
   "metadata": {},
   "outputs": [
    {
     "data": {
      "text/plain": [
       "12"
      ]
     },
     "execution_count": 10,
     "metadata": {},
     "output_type": "execute_result"
    }
   ],
   "source": [
    "len(history)"
   ]
  },
  {
   "cell_type": "markdown",
   "id": "af449a03",
   "metadata": {},
   "source": [
    "### Fetch details of a song"
   ]
  },
  {
   "cell_type": "markdown",
   "id": "0c0a32cf",
   "metadata": {},
   "source": [
    "#### See available data for a song"
   ]
  },
  {
   "cell_type": "code",
   "execution_count": 11,
   "id": "db0a7fed",
   "metadata": {
    "scrolled": true
   },
   "outputs": [
    {
     "data": {
      "text/plain": [
       "dict_keys(['track', 'played_at', 'context'])"
      ]
     },
     "execution_count": 11,
     "metadata": {},
     "output_type": "execute_result"
    }
   ],
   "source": [
    "history[0].keys()"
   ]
  },
  {
   "cell_type": "code",
   "execution_count": 12,
   "id": "84306bbe",
   "metadata": {},
   "outputs": [
    {
     "data": {
      "text/plain": [
       "['album',\n",
       " 'artists',\n",
       " 'disc_number',\n",
       " 'duration_ms',\n",
       " 'explicit',\n",
       " 'external_ids',\n",
       " 'external_urls',\n",
       " 'href',\n",
       " 'id',\n",
       " 'is_local',\n",
       " 'name',\n",
       " 'popularity',\n",
       " 'preview_url',\n",
       " 'track_number',\n",
       " 'type',\n",
       " 'uri']"
      ]
     },
     "execution_count": 12,
     "metadata": {},
     "output_type": "execute_result"
    }
   ],
   "source": [
    "list(history[0]['track'].keys())"
   ]
  },
  {
   "cell_type": "code",
   "execution_count": 13,
   "id": "49f220b3",
   "metadata": {},
   "outputs": [
    {
     "data": {
      "text/plain": [
       "'2024-08-04T06:59:20.791Z'"
      ]
     },
     "execution_count": 13,
     "metadata": {},
     "output_type": "execute_result"
    }
   ],
   "source": [
    "history[0]['played_at']"
   ]
  },
  {
   "cell_type": "code",
   "execution_count": 14,
   "id": "a7e3e817",
   "metadata": {},
   "outputs": [
    {
     "name": "stdout",
     "output_type": "stream",
     "text": [
      "{'type': 'playlist', 'external_urls': {'spotify': 'https://open.spotify.com/playlist/2m5BrqANdf443IYDvaYIRG?sessionId=1722729600003&mode=enhanced'}, 'href': 'https://api.spotify.com/v1/playlists/2m5BrqANdf443IYDvaYIRG', 'uri': 'spotify:playlist:2m5BrqANdf443IYDvaYIRG'}\n"
     ]
    }
   ],
   "source": [
    "print(history[0]['context'])"
   ]
  },
  {
   "cell_type": "markdown",
   "id": "11c177d0",
   "metadata": {},
   "source": [
    "# Transform"
   ]
  },
  {
   "cell_type": "markdown",
   "id": "e4c610a6",
   "metadata": {},
   "source": [
    "## Dimensions"
   ]
  },
  {
   "cell_type": "markdown",
   "id": "a9d06bd6",
   "metadata": {},
   "source": [
    "### DIM_ARTIST"
   ]
  },
  {
   "cell_type": "code",
   "execution_count": 15,
   "id": "c5339881",
   "metadata": {},
   "outputs": [],
   "source": [
    "import pandas as pd\n",
    "from sqlalchemy import Table, MetaData, Column, Integer, String\n",
    "import sql_functions"
   ]
  },
  {
   "cell_type": "code",
   "execution_count": 16,
   "id": "8270c0ce",
   "metadata": {},
   "outputs": [],
   "source": [
    "# stacked list-comprehension\n",
    "artist_list = [artist for artists in [play['track']['artists'] for play in history] for artist in artists]"
   ]
  },
  {
   "cell_type": "code",
   "execution_count": 17,
   "id": "857f220b",
   "metadata": {},
   "outputs": [
    {
     "data": {
      "text/html": [
       "<div>\n",
       "<style scoped>\n",
       "    .dataframe tbody tr th:only-of-type {\n",
       "        vertical-align: middle;\n",
       "    }\n",
       "\n",
       "    .dataframe tbody tr th {\n",
       "        vertical-align: top;\n",
       "    }\n",
       "\n",
       "    .dataframe thead th {\n",
       "        text-align: right;\n",
       "    }\n",
       "</style>\n",
       "<table border=\"1\" class=\"dataframe\">\n",
       "  <thead>\n",
       "    <tr style=\"text-align: right;\">\n",
       "      <th></th>\n",
       "      <th>spotify_id</th>\n",
       "      <th>artist_name</th>\n",
       "      <th>artist_type</th>\n",
       "    </tr>\n",
       "  </thead>\n",
       "  <tbody>\n",
       "    <tr>\n",
       "      <th>0</th>\n",
       "      <td>23zg3TcAtWQy7J6upgbUnj</td>\n",
       "      <td>USHER</td>\n",
       "      <td>artist</td>\n",
       "    </tr>\n",
       "    <tr>\n",
       "      <th>1</th>\n",
       "      <td>0TnOYISbd1XYRBk9myaseg</td>\n",
       "      <td>Pitbull</td>\n",
       "      <td>artist</td>\n",
       "    </tr>\n",
       "    <tr>\n",
       "      <th>2</th>\n",
       "      <td>0ekbDNE2eOq8QiaXM34wer</td>\n",
       "      <td>Howie Day</td>\n",
       "      <td>artist</td>\n",
       "    </tr>\n",
       "    <tr>\n",
       "      <th>3</th>\n",
       "      <td>5ILrArfIV0tMURcHJN8Q07</td>\n",
       "      <td>Vanessa Carlton</td>\n",
       "      <td>artist</td>\n",
       "    </tr>\n",
       "    <tr>\n",
       "      <th>4</th>\n",
       "      <td>6zvul52xwTWzilBZl6BUbT</td>\n",
       "      <td>Pixies</td>\n",
       "      <td>artist</td>\n",
       "    </tr>\n",
       "    <tr>\n",
       "      <th>5</th>\n",
       "      <td>1KCSPY1glIKqW2TotWuXOR</td>\n",
       "      <td>P!nk</td>\n",
       "      <td>artist</td>\n",
       "    </tr>\n",
       "    <tr>\n",
       "      <th>6</th>\n",
       "      <td>6fAEFVqFolcEhXeReay5u6</td>\n",
       "      <td>Loquat</td>\n",
       "      <td>artist</td>\n",
       "    </tr>\n",
       "    <tr>\n",
       "      <th>7</th>\n",
       "      <td>6deZN1bslXzeGvOLaLMOIF</td>\n",
       "      <td>Nickelback</td>\n",
       "      <td>artist</td>\n",
       "    </tr>\n",
       "    <tr>\n",
       "      <th>8</th>\n",
       "      <td>3AQRLZ9PuTAozP28Skbq8V</td>\n",
       "      <td>The Script</td>\n",
       "      <td>artist</td>\n",
       "    </tr>\n",
       "    <tr>\n",
       "      <th>9</th>\n",
       "      <td>2C9n4tQgNLhHPhSCmdsQnk</td>\n",
       "      <td>David Archuleta</td>\n",
       "      <td>artist</td>\n",
       "    </tr>\n",
       "    <tr>\n",
       "      <th>10</th>\n",
       "      <td>0oyaaWEHW362yIAlY4DAlT</td>\n",
       "      <td>Stars of Track and Field</td>\n",
       "      <td>artist</td>\n",
       "    </tr>\n",
       "    <tr>\n",
       "      <th>11</th>\n",
       "      <td>6VuMaDnrHyPL1p4EHjYLi7</td>\n",
       "      <td>Charlie Puth</td>\n",
       "      <td>artist</td>\n",
       "    </tr>\n",
       "    <tr>\n",
       "      <th>12</th>\n",
       "      <td>7z5WFjZAIYejWy0NI5lv4T</td>\n",
       "      <td>Dan + Shay</td>\n",
       "      <td>artist</td>\n",
       "    </tr>\n",
       "  </tbody>\n",
       "</table>\n",
       "</div>"
      ],
      "text/plain": [
       "                spotify_id               artist_name artist_type\n",
       "0   23zg3TcAtWQy7J6upgbUnj                     USHER      artist\n",
       "1   0TnOYISbd1XYRBk9myaseg                   Pitbull      artist\n",
       "2   0ekbDNE2eOq8QiaXM34wer                 Howie Day      artist\n",
       "3   5ILrArfIV0tMURcHJN8Q07           Vanessa Carlton      artist\n",
       "4   6zvul52xwTWzilBZl6BUbT                    Pixies      artist\n",
       "5   1KCSPY1glIKqW2TotWuXOR                      P!nk      artist\n",
       "6   6fAEFVqFolcEhXeReay5u6                    Loquat      artist\n",
       "7   6deZN1bslXzeGvOLaLMOIF                Nickelback      artist\n",
       "8   3AQRLZ9PuTAozP28Skbq8V                The Script      artist\n",
       "9   2C9n4tQgNLhHPhSCmdsQnk           David Archuleta      artist\n",
       "10  0oyaaWEHW362yIAlY4DAlT  Stars of Track and Field      artist\n",
       "11  6VuMaDnrHyPL1p4EHjYLi7              Charlie Puth      artist\n",
       "12  7z5WFjZAIYejWy0NI5lv4T                Dan + Shay      artist"
      ]
     },
     "execution_count": 17,
     "metadata": {},
     "output_type": "execute_result"
    }
   ],
   "source": [
    "df_artists = pd.DataFrame(artist_list)\n",
    "df_artists = df_artists.drop(columns=['href','uri','external_urls'])\n",
    "df_artists = df_artists.rename(columns={'id':'spotify_id','name':'artist_name','type':'artist_type'})\n",
    "df_artists.drop_duplicates(inplace=True)\n",
    "df_artists"
   ]
  },
  {
   "cell_type": "markdown",
   "id": "a73e774c",
   "metadata": {},
   "source": [
    "#### Load (Type 1 SCD)"
   ]
  },
  {
   "cell_type": "code",
   "execution_count": 18,
   "id": "70242c07",
   "metadata": {},
   "outputs": [],
   "source": [
    "metadata = MetaData()\n",
    "\n",
    "# Define the dimension table schema\n",
    "dim_table = Table('DIM_ARTIST', metadata,\n",
    "    Column('artist_wid', Integer, primary_key=True, autoincrement=True),\n",
    "    Column('spotify_id', String(255), nullable=False, unique=True),\n",
    "    Column('artist_name', String(255)),\n",
    "    Column('artist_type', String(255))\n",
    ")"
   ]
  },
  {
   "cell_type": "code",
   "execution_count": 30,
   "id": "f49b3ea7",
   "metadata": {},
   "outputs": [],
   "source": [
    "sql_functions.save_to_sql(df_artists, dim_table, key_cols=['spotify_id'], wid=['artist_wid'], mode='upsert')"
   ]
  },
  {
   "cell_type": "markdown",
   "id": "e5d5a7b4",
   "metadata": {},
   "source": [
    "### DIM_SONG"
   ]
  },
  {
   "cell_type": "code",
   "execution_count": 31,
   "id": "6dc4ca9a",
   "metadata": {},
   "outputs": [
    {
     "data": {
      "text/plain": [
       "dict_keys(['album', 'artists', 'disc_number', 'duration_ms', 'explicit', 'external_ids', 'external_urls', 'href', 'id', 'is_local', 'name', 'popularity', 'preview_url', 'track_number', 'type', 'uri'])"
      ]
     },
     "execution_count": 31,
     "metadata": {},
     "output_type": "execute_result"
    }
   ],
   "source": [
    "history[0]['track'].keys()"
   ]
  },
  {
   "cell_type": "code",
   "execution_count": 32,
   "id": "ab85fc80",
   "metadata": {},
   "outputs": [
    {
     "data": {
      "text/plain": [
       "{'album': {'album_type': 'album',\n",
       "  'artists': [{'external_urls': {'spotify': 'https://open.spotify.com/artist/23zg3TcAtWQy7J6upgbUnj'},\n",
       "    'href': 'https://api.spotify.com/v1/artists/23zg3TcAtWQy7J6upgbUnj',\n",
       "    'id': '23zg3TcAtWQy7J6upgbUnj',\n",
       "    'name': 'USHER',\n",
       "    'type': 'artist',\n",
       "    'uri': 'spotify:artist:23zg3TcAtWQy7J6upgbUnj'}],\n",
       "  'external_urls': {'spotify': 'https://open.spotify.com/album/6A1F3Fkq5dYeYYNkXflcTX'},\n",
       "  'href': 'https://api.spotify.com/v1/albums/6A1F3Fkq5dYeYYNkXflcTX',\n",
       "  'id': '6A1F3Fkq5dYeYYNkXflcTX',\n",
       "  'images': [{'height': 640,\n",
       "    'url': 'https://i.scdn.co/image/ab67616d0000b27386b0c9728ad3ed338eaeea79',\n",
       "    'width': 640},\n",
       "   {'height': 300,\n",
       "    'url': 'https://i.scdn.co/image/ab67616d00001e0286b0c9728ad3ed338eaeea79',\n",
       "    'width': 300},\n",
       "   {'height': 64,\n",
       "    'url': 'https://i.scdn.co/image/ab67616d0000485186b0c9728ad3ed338eaeea79',\n",
       "    'width': 64}],\n",
       "  'name': 'Raymond v Raymond (Expanded Edition)',\n",
       "  'release_date': '2010-03-30',\n",
       "  'release_date_precision': 'day',\n",
       "  'total_tracks': 22,\n",
       "  'type': 'album',\n",
       "  'uri': 'spotify:album:6A1F3Fkq5dYeYYNkXflcTX'},\n",
       " 'artists': [{'external_urls': {'spotify': 'https://open.spotify.com/artist/23zg3TcAtWQy7J6upgbUnj'},\n",
       "   'href': 'https://api.spotify.com/v1/artists/23zg3TcAtWQy7J6upgbUnj',\n",
       "   'id': '23zg3TcAtWQy7J6upgbUnj',\n",
       "   'name': 'USHER',\n",
       "   'type': 'artist',\n",
       "   'uri': 'spotify:artist:23zg3TcAtWQy7J6upgbUnj'},\n",
       "  {'external_urls': {'spotify': 'https://open.spotify.com/artist/0TnOYISbd1XYRBk9myaseg'},\n",
       "   'href': 'https://api.spotify.com/v1/artists/0TnOYISbd1XYRBk9myaseg',\n",
       "   'id': '0TnOYISbd1XYRBk9myaseg',\n",
       "   'name': 'Pitbull',\n",
       "   'type': 'artist',\n",
       "   'uri': 'spotify:artist:0TnOYISbd1XYRBk9myaseg'}],\n",
       " 'disc_number': 1,\n",
       " 'duration_ms': 220800,\n",
       " 'explicit': False,\n",
       " 'external_ids': {'isrc': 'USLF21000041'},\n",
       " 'external_urls': {'spotify': 'https://open.spotify.com/track/4356Typ82hUiFAynbLYbPn'},\n",
       " 'href': 'https://api.spotify.com/v1/tracks/4356Typ82hUiFAynbLYbPn',\n",
       " 'id': '4356Typ82hUiFAynbLYbPn',\n",
       " 'is_local': False,\n",
       " 'name': \"DJ Got Us Fallin' In Love (feat. Pitbull)\",\n",
       " 'popularity': 83,\n",
       " 'preview_url': 'https://p.scdn.co/mp3-preview/1619c7342806281d286f0ba4125ff59e80663c56?cid=96c6271f82bb42638facf3898032ddb7',\n",
       " 'track_number': 16,\n",
       " 'type': 'track',\n",
       " 'uri': 'spotify:track:4356Typ82hUiFAynbLYbPn'}"
      ]
     },
     "execution_count": 32,
     "metadata": {},
     "output_type": "execute_result"
    }
   ],
   "source": [
    "history[0]['track']"
   ]
  },
  {
   "cell_type": "code",
   "execution_count": 38,
   "id": "83ffb2a8",
   "metadata": {},
   "outputs": [],
   "source": [
    "track_list = [play['track'] for play in history]"
   ]
  },
  {
   "cell_type": "code",
   "execution_count": 68,
   "id": "88a2c556",
   "metadata": {
    "scrolled": true
   },
   "outputs": [
    {
     "data": {
      "text/html": [
       "<div>\n",
       "<style scoped>\n",
       "    .dataframe tbody tr th:only-of-type {\n",
       "        vertical-align: middle;\n",
       "    }\n",
       "\n",
       "    .dataframe tbody tr th {\n",
       "        vertical-align: top;\n",
       "    }\n",
       "\n",
       "    .dataframe thead th {\n",
       "        text-align: right;\n",
       "    }\n",
       "</style>\n",
       "<table border=\"1\" class=\"dataframe\">\n",
       "  <thead>\n",
       "    <tr style=\"text-align: right;\">\n",
       "      <th></th>\n",
       "      <th>album_wid</th>\n",
       "      <th>disc_number</th>\n",
       "      <th>duration_ms</th>\n",
       "      <th>explicit</th>\n",
       "      <th>song_id</th>\n",
       "      <th>is_local</th>\n",
       "      <th>name</th>\n",
       "      <th>preview_url</th>\n",
       "      <th>track_number</th>\n",
       "      <th>type</th>\n",
       "      <th>isrc_id</th>\n",
       "    </tr>\n",
       "  </thead>\n",
       "  <tbody>\n",
       "    <tr>\n",
       "      <th>0</th>\n",
       "      <td>None</td>\n",
       "      <td>1</td>\n",
       "      <td>220800</td>\n",
       "      <td>False</td>\n",
       "      <td>4356Typ82hUiFAynbLYbPn</td>\n",
       "      <td>False</td>\n",
       "      <td>DJ Got Us Fallin' In Love (feat. Pitbull)</td>\n",
       "      <td>https://p.scdn.co/mp3-preview/1619c7342806281d...</td>\n",
       "      <td>16</td>\n",
       "      <td>track</td>\n",
       "      <td>USLF21000041</td>\n",
       "    </tr>\n",
       "    <tr>\n",
       "      <th>1</th>\n",
       "      <td>None</td>\n",
       "      <td>1</td>\n",
       "      <td>249120</td>\n",
       "      <td>False</td>\n",
       "      <td>5aDpULK8MbJmHl42kR5KNI</td>\n",
       "      <td>False</td>\n",
       "      <td>Collide</td>\n",
       "      <td>https://p.scdn.co/mp3-preview/2f1f947c47d145da...</td>\n",
       "      <td>3</td>\n",
       "      <td>track</td>\n",
       "      <td>USSM10310894</td>\n",
       "    </tr>\n",
       "    <tr>\n",
       "      <th>2</th>\n",
       "      <td>None</td>\n",
       "      <td>1</td>\n",
       "      <td>237493</td>\n",
       "      <td>False</td>\n",
       "      <td>4w1lzcaoZ1IC2K5TwjalRP</td>\n",
       "      <td>False</td>\n",
       "      <td>A Thousand Miles</td>\n",
       "      <td>https://p.scdn.co/mp3-preview/1dab77144140b38c...</td>\n",
       "      <td>3</td>\n",
       "      <td>track</td>\n",
       "      <td>USIR10210955</td>\n",
       "    </tr>\n",
       "    <tr>\n",
       "      <th>3</th>\n",
       "      <td>None</td>\n",
       "      <td>1</td>\n",
       "      <td>229226</td>\n",
       "      <td>False</td>\n",
       "      <td>0KzAbK6nItSqNh8q70tb0K</td>\n",
       "      <td>False</td>\n",
       "      <td>Where Is My Mind?</td>\n",
       "      <td>https://p.scdn.co/mp3-preview/8414c9d0e363c390...</td>\n",
       "      <td>14</td>\n",
       "      <td>track</td>\n",
       "      <td>GBAFL9700100</td>\n",
       "    </tr>\n",
       "    <tr>\n",
       "      <th>4</th>\n",
       "      <td>None</td>\n",
       "      <td>1</td>\n",
       "      <td>203266</td>\n",
       "      <td>True</td>\n",
       "      <td>05qq6mwIbG1ZsQhlMKyDwN</td>\n",
       "      <td>False</td>\n",
       "      <td>Raise Your Glass</td>\n",
       "      <td>https://p.scdn.co/mp3-preview/e1749a65b6c70673...</td>\n",
       "      <td>17</td>\n",
       "      <td>track</td>\n",
       "      <td>USLF21000090</td>\n",
       "    </tr>\n",
       "    <tr>\n",
       "      <th>5</th>\n",
       "      <td>None</td>\n",
       "      <td>1</td>\n",
       "      <td>281386</td>\n",
       "      <td>False</td>\n",
       "      <td>4vR4jN5oYprr8lkQSlNu3M</td>\n",
       "      <td>False</td>\n",
       "      <td>Swingset Chain</td>\n",
       "      <td>https://p.scdn.co/mp3-preview/0044b25591dee368...</td>\n",
       "      <td>4</td>\n",
       "      <td>track</td>\n",
       "      <td>USJS10410118</td>\n",
       "    </tr>\n",
       "    <tr>\n",
       "      <th>6</th>\n",
       "      <td>None</td>\n",
       "      <td>1</td>\n",
       "      <td>223840</td>\n",
       "      <td>False</td>\n",
       "      <td>0gmbgwZ8iqyMPmXefof8Yf</td>\n",
       "      <td>False</td>\n",
       "      <td>How You Remind Me</td>\n",
       "      <td>https://p.scdn.co/mp3-preview/94fd201045f5b682...</td>\n",
       "      <td>2</td>\n",
       "      <td>track</td>\n",
       "      <td>NLA320119533</td>\n",
       "    </tr>\n",
       "    <tr>\n",
       "      <th>7</th>\n",
       "      <td>None</td>\n",
       "      <td>1</td>\n",
       "      <td>259880</td>\n",
       "      <td>False</td>\n",
       "      <td>0cnouzAiEjdjXB5xVVQ8Vo</td>\n",
       "      <td>False</td>\n",
       "      <td>Science &amp; Faith</td>\n",
       "      <td>https://p.scdn.co/mp3-preview/77a51e7a1ef65ddc...</td>\n",
       "      <td>4</td>\n",
       "      <td>track</td>\n",
       "      <td>GBARL1000956</td>\n",
       "    </tr>\n",
       "    <tr>\n",
       "      <th>8</th>\n",
       "      <td>None</td>\n",
       "      <td>1</td>\n",
       "      <td>213520</td>\n",
       "      <td>False</td>\n",
       "      <td>4wCD0qOFNRu1Q6O3N6ycm4</td>\n",
       "      <td>False</td>\n",
       "      <td>Crush</td>\n",
       "      <td>https://p.scdn.co/mp3-preview/98ec5e65324cc981...</td>\n",
       "      <td>1</td>\n",
       "      <td>track</td>\n",
       "      <td>GBCTA0800201</td>\n",
       "    </tr>\n",
       "    <tr>\n",
       "      <th>9</th>\n",
       "      <td>None</td>\n",
       "      <td>1</td>\n",
       "      <td>215666</td>\n",
       "      <td>False</td>\n",
       "      <td>2727cNzjNBfVtjkDHLpuzr</td>\n",
       "      <td>False</td>\n",
       "      <td>End Of All Time</td>\n",
       "      <td>https://p.scdn.co/mp3-preview/699d9c6c002857c4...</td>\n",
       "      <td>2</td>\n",
       "      <td>track</td>\n",
       "      <td>USWU30900192</td>\n",
       "    </tr>\n",
       "    <tr>\n",
       "      <th>10</th>\n",
       "      <td>None</td>\n",
       "      <td>1</td>\n",
       "      <td>165619</td>\n",
       "      <td>False</td>\n",
       "      <td>28a0aMV1OKoyNiCJuNsWrY</td>\n",
       "      <td>False</td>\n",
       "      <td>That’s Not How This Works (feat. Dan + Shay)</td>\n",
       "      <td>https://p.scdn.co/mp3-preview/37729b038cbe5572...</td>\n",
       "      <td>1</td>\n",
       "      <td>track</td>\n",
       "      <td>USAT22300816</td>\n",
       "    </tr>\n",
       "  </tbody>\n",
       "</table>\n",
       "</div>"
      ],
      "text/plain": [
       "   album_wid  disc_number  duration_ms  explicit                 song_id  \\\n",
       "0       None            1       220800     False  4356Typ82hUiFAynbLYbPn   \n",
       "1       None            1       249120     False  5aDpULK8MbJmHl42kR5KNI   \n",
       "2       None            1       237493     False  4w1lzcaoZ1IC2K5TwjalRP   \n",
       "3       None            1       229226     False  0KzAbK6nItSqNh8q70tb0K   \n",
       "4       None            1       203266      True  05qq6mwIbG1ZsQhlMKyDwN   \n",
       "5       None            1       281386     False  4vR4jN5oYprr8lkQSlNu3M   \n",
       "6       None            1       223840     False  0gmbgwZ8iqyMPmXefof8Yf   \n",
       "7       None            1       259880     False  0cnouzAiEjdjXB5xVVQ8Vo   \n",
       "8       None            1       213520     False  4wCD0qOFNRu1Q6O3N6ycm4   \n",
       "9       None            1       215666     False  2727cNzjNBfVtjkDHLpuzr   \n",
       "10      None            1       165619     False  28a0aMV1OKoyNiCJuNsWrY   \n",
       "\n",
       "    is_local                                          name  \\\n",
       "0      False     DJ Got Us Fallin' In Love (feat. Pitbull)   \n",
       "1      False                                       Collide   \n",
       "2      False                              A Thousand Miles   \n",
       "3      False                             Where Is My Mind?   \n",
       "4      False                              Raise Your Glass   \n",
       "5      False                                Swingset Chain   \n",
       "6      False                             How You Remind Me   \n",
       "7      False                               Science & Faith   \n",
       "8      False                                         Crush   \n",
       "9      False                               End Of All Time   \n",
       "10     False  That’s Not How This Works (feat. Dan + Shay)   \n",
       "\n",
       "                                          preview_url  track_number   type  \\\n",
       "0   https://p.scdn.co/mp3-preview/1619c7342806281d...            16  track   \n",
       "1   https://p.scdn.co/mp3-preview/2f1f947c47d145da...             3  track   \n",
       "2   https://p.scdn.co/mp3-preview/1dab77144140b38c...             3  track   \n",
       "3   https://p.scdn.co/mp3-preview/8414c9d0e363c390...            14  track   \n",
       "4   https://p.scdn.co/mp3-preview/e1749a65b6c70673...            17  track   \n",
       "5   https://p.scdn.co/mp3-preview/0044b25591dee368...             4  track   \n",
       "6   https://p.scdn.co/mp3-preview/94fd201045f5b682...             2  track   \n",
       "7   https://p.scdn.co/mp3-preview/77a51e7a1ef65ddc...             4  track   \n",
       "8   https://p.scdn.co/mp3-preview/98ec5e65324cc981...             1  track   \n",
       "9   https://p.scdn.co/mp3-preview/699d9c6c002857c4...             2  track   \n",
       "10  https://p.scdn.co/mp3-preview/37729b038cbe5572...             1  track   \n",
       "\n",
       "         isrc_id  \n",
       "0   USLF21000041  \n",
       "1   USSM10310894  \n",
       "2   USIR10210955  \n",
       "3   GBAFL9700100  \n",
       "4   USLF21000090  \n",
       "5   USJS10410118  \n",
       "6   NLA320119533  \n",
       "7   GBARL1000956  \n",
       "8   GBCTA0800201  \n",
       "9   USWU30900192  \n",
       "10  USAT22300816  "
      ]
     },
     "execution_count": 68,
     "metadata": {},
     "output_type": "execute_result"
    }
   ],
   "source": [
    "df_songs = pd.DataFrame(track_list)\n",
    "df_songs = df_songs.explode('artists')\n",
    "df_songs['artist_id'] = df_songs['artists'].apply(lambda x: x['id'])\n",
    "df_songs['isrc_id'] = df_songs['external_ids'].apply(lambda x: x['isrc'])\n",
    "df_songs = df_songs.drop(columns=['href','uri','external_urls','artists','external_ids', 'artist_id', 'popularity'])\n",
    "df_songs['album'] = None\n",
    "df_songs = df_songs.drop_duplicates()\n",
    "df_songs = df_songs.rename(columns={'id':'song_id','album':'album_wid'})\n",
    "df_songs"
   ]
  },
  {
   "cell_type": "markdown",
   "id": "19025329",
   "metadata": {},
   "source": [
    "#### Load (Type 1 SCD)"
   ]
  },
  {
   "cell_type": "code",
   "execution_count": 69,
   "id": "a8533925",
   "metadata": {},
   "outputs": [],
   "source": [
    "from sqlalchemy import BigInteger, Boolean, Text\n",
    "\n",
    "\n",
    "metadata = MetaData()\n",
    "\n",
    "dim_song = Table(\n",
    "    'DIM_SONG', metadata,\n",
    "    Column('song_wid', Integer, primary_key=True, autoincrement=True),\n",
    "    Column('song_id', String(62), nullable=False, unique=True),\n",
    "    Column('album_wid', Integer),\n",
    "    Column('disc_number', Integer),\n",
    "    Column('duration_ms', BigInteger, nullable=False),\n",
    "    Column('explicit', Boolean),\n",
    "    Column('is_local', Boolean),\n",
    "    Column('name', Text, nullable=False),\n",
    "    Column('preview_url', Text),\n",
    "    Column('track_number', Integer),\n",
    "    Column('type', String(50)),\n",
    "    Column('isrc_id', String(100))\n",
    ")"
   ]
  },
  {
   "cell_type": "code",
   "execution_count": 70,
   "id": "17bc19ff",
   "metadata": {},
   "outputs": [],
   "source": [
    "sql_functions.save_to_sql(df_songs, dim_song, key_cols = ['song_id'], wid = ['song_wid'], mode = 'upsert')"
   ]
  }
 ],
 "metadata": {
  "kernelspec": {
   "display_name": "Python 3 (ipykernel)",
   "language": "python",
   "name": "python3"
  },
  "language_info": {
   "codemirror_mode": {
    "name": "ipython",
    "version": 3
   },
   "file_extension": ".py",
   "mimetype": "text/x-python",
   "name": "python",
   "nbconvert_exporter": "python",
   "pygments_lexer": "ipython3",
   "version": "3.9.13"
  }
 },
 "nbformat": 4,
 "nbformat_minor": 5
}
