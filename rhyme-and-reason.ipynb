{
 "cells": [
  {
   "cell_type": "code",
   "execution_count": 1,
   "id": "90f23e5a",
   "metadata": {},
   "outputs": [],
   "source": [
    "import json\n",
    "from authorization import SpotifyAuth"
   ]
  },
  {
   "cell_type": "code",
   "execution_count": 2,
   "id": "68a74422",
   "metadata": {
    "scrolled": false
   },
   "outputs": [],
   "source": [
    "with open('client-secrets-rnr.json','r+') as secrets_file:\n",
    "    secrets = json.load(secrets_file)\n",
    "\n",
    "client_id = secrets[\"client_id\"]\n",
    "client_secret = secrets[\"client_secret\"]\n",
    "redirect_url = secrets[\"redirect_url\"]"
   ]
  },
  {
   "cell_type": "code",
   "execution_count": 3,
   "id": "7c969b1d",
   "metadata": {
    "scrolled": true
   },
   "outputs": [],
   "source": [
    "spotify_authorisation = SpotifyAuth(client_id=client_id, client_secret=client_secret, redirect_url=redirect_url)\n",
    "spotify_authorisation.set_access_token_from_file('access_token.json')"
   ]
  },
  {
   "cell_type": "markdown",
   "id": "ec6cd9cf",
   "metadata": {},
   "source": [
    "# Get User Details"
   ]
  },
  {
   "cell_type": "code",
   "execution_count": 4,
   "id": "9cbe8ed2",
   "metadata": {},
   "outputs": [],
   "source": [
    "import spotify_functions as spotify"
   ]
  },
  {
   "cell_type": "code",
   "execution_count": 5,
   "id": "bd3ebc1c",
   "metadata": {},
   "outputs": [
    {
     "data": {
      "text/plain": [
       "{'display_name': 'sdspot2034',\n",
       " 'external_urls': {'spotify': 'https://open.spotify.com/user/sdspot2034'},\n",
       " 'href': 'https://api.spotify.com/v1/users/sdspot2034',\n",
       " 'id': 'sdspot2034',\n",
       " 'images': [{'url': 'https://i.scdn.co/image/ab67757000003b8280153af8b79b3144b24f1291',\n",
       "   'height': 64,\n",
       "   'width': 64},\n",
       "  {'url': 'https://i.scdn.co/image/ab6775700000ee8580153af8b79b3144b24f1291',\n",
       "   'height': 300,\n",
       "   'width': 300}],\n",
       " 'type': 'user',\n",
       " 'uri': 'spotify:user:sdspot2034',\n",
       " 'followers': {'href': None, 'total': 9},\n",
       " 'country': 'IN',\n",
       " 'product': 'premium',\n",
       " 'explicit_content': {'filter_enabled': False, 'filter_locked': False},\n",
       " 'email': 'shreyandas2034@gmail.com'}"
      ]
     },
     "execution_count": 5,
     "metadata": {},
     "output_type": "execute_result"
    }
   ],
   "source": [
    "spotify.get_user_details(spotify_authorisation.get_access_token())"
   ]
  },
  {
   "cell_type": "code",
   "execution_count": 6,
   "id": "27e29db8",
   "metadata": {},
   "outputs": [],
   "source": [
    "import datetime\n",
    "yesterday = datetime.datetime.now() - datetime.timedelta(days=1)\n",
    "# print(yesterday.timestamp()*1e3)\n",
    "cdc_time = int(yesterday.timestamp()*1e3)"
   ]
  },
  {
   "cell_type": "markdown",
   "id": "c45c66b4",
   "metadata": {},
   "source": [
    "# Get All Songs Played in the last one day"
   ]
  },
  {
   "cell_type": "code",
   "execution_count": 7,
   "id": "da0e887a",
   "metadata": {},
   "outputs": [],
   "source": [
    "token = spotify_authorisation.get_access_token()\n",
    "history = spotify.get_listening_history(token, cdc_time)['items']"
   ]
  },
  {
   "cell_type": "markdown",
   "id": "a2f47724",
   "metadata": {},
   "source": [
    "## EDA over recent history"
   ]
  },
  {
   "cell_type": "markdown",
   "id": "e5e8860f",
   "metadata": {},
   "source": [
    "### Number of songs played"
   ]
  },
  {
   "cell_type": "code",
   "execution_count": 8,
   "id": "30b4c792",
   "metadata": {},
   "outputs": [
    {
     "data": {
      "text/plain": [
       "18"
      ]
     },
     "execution_count": 8,
     "metadata": {},
     "output_type": "execute_result"
    }
   ],
   "source": [
    "len(history)"
   ]
  },
  {
   "cell_type": "markdown",
   "id": "af449a03",
   "metadata": {},
   "source": [
    "### Fetch details of a song"
   ]
  },
  {
   "cell_type": "markdown",
   "id": "0c0a32cf",
   "metadata": {},
   "source": [
    "#### See available data for a song"
   ]
  },
  {
   "cell_type": "code",
   "execution_count": 9,
   "id": "db0a7fed",
   "metadata": {},
   "outputs": [
    {
     "data": {
      "text/plain": [
       "dict_keys(['track', 'played_at', 'context'])"
      ]
     },
     "execution_count": 9,
     "metadata": {},
     "output_type": "execute_result"
    }
   ],
   "source": [
    "history[0].keys()"
   ]
  },
  {
   "cell_type": "code",
   "execution_count": 10,
   "id": "84306bbe",
   "metadata": {},
   "outputs": [
    {
     "data": {
      "text/plain": [
       "['album',\n",
       " 'artists',\n",
       " 'disc_number',\n",
       " 'duration_ms',\n",
       " 'explicit',\n",
       " 'external_ids',\n",
       " 'external_urls',\n",
       " 'href',\n",
       " 'id',\n",
       " 'is_local',\n",
       " 'name',\n",
       " 'popularity',\n",
       " 'preview_url',\n",
       " 'track_number',\n",
       " 'type',\n",
       " 'uri']"
      ]
     },
     "execution_count": 10,
     "metadata": {},
     "output_type": "execute_result"
    }
   ],
   "source": [
    "list(history[0]['track'].keys())"
   ]
  },
  {
   "cell_type": "code",
   "execution_count": 11,
   "id": "e1973077",
   "metadata": {},
   "outputs": [
    {
     "data": {
      "text/plain": [
       "{'album': {'album_type': 'single',\n",
       "  'artists': [{'external_urls': {'spotify': 'https://open.spotify.com/artist/5pKCCKE2ajJHZ9KAiaK11H'},\n",
       "    'href': 'https://api.spotify.com/v1/artists/5pKCCKE2ajJHZ9KAiaK11H',\n",
       "    'id': '5pKCCKE2ajJHZ9KAiaK11H',\n",
       "    'name': 'Rihanna',\n",
       "    'type': 'artist',\n",
       "    'uri': 'spotify:artist:5pKCCKE2ajJHZ9KAiaK11H'},\n",
       "   {'external_urls': {'spotify': 'https://open.spotify.com/artist/5K4W6rqBFWDnAN6FQUkS6x'},\n",
       "    'href': 'https://api.spotify.com/v1/artists/5K4W6rqBFWDnAN6FQUkS6x',\n",
       "    'id': '5K4W6rqBFWDnAN6FQUkS6x',\n",
       "    'name': 'Kanye West',\n",
       "    'type': 'artist',\n",
       "    'uri': 'spotify:artist:5K4W6rqBFWDnAN6FQUkS6x'},\n",
       "   {'external_urls': {'spotify': 'https://open.spotify.com/artist/4STHEaNw4mPZ2tzheohgXB'},\n",
       "    'href': 'https://api.spotify.com/v1/artists/4STHEaNw4mPZ2tzheohgXB',\n",
       "    'id': '4STHEaNw4mPZ2tzheohgXB',\n",
       "    'name': 'Paul McCartney',\n",
       "    'type': 'artist',\n",
       "    'uri': 'spotify:artist:4STHEaNw4mPZ2tzheohgXB'}],\n",
       "  'external_urls': {'spotify': 'https://open.spotify.com/album/7yBl4uFyJzH48Vy6tPieXL'},\n",
       "  'href': 'https://api.spotify.com/v1/albums/7yBl4uFyJzH48Vy6tPieXL',\n",
       "  'id': '7yBl4uFyJzH48Vy6tPieXL',\n",
       "  'images': [{'height': 640,\n",
       "    'url': 'https://i.scdn.co/image/ab67616d0000b27336a9ed72b45e54ff307641be',\n",
       "    'width': 640},\n",
       "   {'height': 300,\n",
       "    'url': 'https://i.scdn.co/image/ab67616d00001e0236a9ed72b45e54ff307641be',\n",
       "    'width': 300},\n",
       "   {'height': 64,\n",
       "    'url': 'https://i.scdn.co/image/ab67616d0000485136a9ed72b45e54ff307641be',\n",
       "    'width': 64}],\n",
       "  'name': 'FourFiveSeconds',\n",
       "  'release_date': '2015-01-24',\n",
       "  'release_date_precision': 'day',\n",
       "  'total_tracks': 1,\n",
       "  'type': 'album',\n",
       "  'uri': 'spotify:album:7yBl4uFyJzH48Vy6tPieXL'},\n",
       " 'artists': [{'external_urls': {'spotify': 'https://open.spotify.com/artist/5pKCCKE2ajJHZ9KAiaK11H'},\n",
       "   'href': 'https://api.spotify.com/v1/artists/5pKCCKE2ajJHZ9KAiaK11H',\n",
       "   'id': '5pKCCKE2ajJHZ9KAiaK11H',\n",
       "   'name': 'Rihanna',\n",
       "   'type': 'artist',\n",
       "   'uri': 'spotify:artist:5pKCCKE2ajJHZ9KAiaK11H'},\n",
       "  {'external_urls': {'spotify': 'https://open.spotify.com/artist/5K4W6rqBFWDnAN6FQUkS6x'},\n",
       "   'href': 'https://api.spotify.com/v1/artists/5K4W6rqBFWDnAN6FQUkS6x',\n",
       "   'id': '5K4W6rqBFWDnAN6FQUkS6x',\n",
       "   'name': 'Kanye West',\n",
       "   'type': 'artist',\n",
       "   'uri': 'spotify:artist:5K4W6rqBFWDnAN6FQUkS6x'},\n",
       "  {'external_urls': {'spotify': 'https://open.spotify.com/artist/4STHEaNw4mPZ2tzheohgXB'},\n",
       "   'href': 'https://api.spotify.com/v1/artists/4STHEaNw4mPZ2tzheohgXB',\n",
       "   'id': '4STHEaNw4mPZ2tzheohgXB',\n",
       "   'name': 'Paul McCartney',\n",
       "   'type': 'artist',\n",
       "   'uri': 'spotify:artist:4STHEaNw4mPZ2tzheohgXB'}],\n",
       " 'disc_number': 1,\n",
       " 'duration_ms': 188238,\n",
       " 'explicit': False,\n",
       " 'external_ids': {'isrc': 'USJMT1500001'},\n",
       " 'external_urls': {'spotify': 'https://open.spotify.com/track/78TTtXnFQPzwqlbtbwqN0y'},\n",
       " 'href': 'https://api.spotify.com/v1/tracks/78TTtXnFQPzwqlbtbwqN0y',\n",
       " 'id': '78TTtXnFQPzwqlbtbwqN0y',\n",
       " 'is_local': False,\n",
       " 'name': 'FourFiveSeconds',\n",
       " 'popularity': 77,\n",
       " 'preview_url': 'https://p.scdn.co/mp3-preview/6fdd4470dabeaf54e72b566a4f8f2d064236927f?cid=96c6271f82bb42638facf3898032ddb7',\n",
       " 'track_number': 1,\n",
       " 'type': 'track',\n",
       " 'uri': 'spotify:track:78TTtXnFQPzwqlbtbwqN0y'}"
      ]
     },
     "execution_count": 11,
     "metadata": {},
     "output_type": "execute_result"
    }
   ],
   "source": [
    "history[0]['track']"
   ]
  },
  {
   "cell_type": "code",
   "execution_count": 12,
   "id": "49f220b3",
   "metadata": {},
   "outputs": [
    {
     "data": {
      "text/plain": [
       "'2024-08-01T14:18:07.429Z'"
      ]
     },
     "execution_count": 12,
     "metadata": {},
     "output_type": "execute_result"
    }
   ],
   "source": [
    "history[0]['played_at']"
   ]
  },
  {
   "cell_type": "code",
   "execution_count": 13,
   "id": "a7e3e817",
   "metadata": {},
   "outputs": [
    {
     "name": "stdout",
     "output_type": "stream",
     "text": [
      "{'type': 'playlist', 'href': 'https://api.spotify.com/v1/playlists/37i9dQZF1E8DyZXT5yUDnr', 'external_urls': {'spotify': 'https://open.spotify.com/playlist/37i9dQZF1E8DyZXT5yUDnr'}, 'uri': 'spotify:playlist:37i9dQZF1E8DyZXT5yUDnr'}\n"
     ]
    }
   ],
   "source": [
    "print(history[0]['context'])"
   ]
  },
  {
   "cell_type": "markdown",
   "id": "11c177d0",
   "metadata": {},
   "source": [
    "# Transform"
   ]
  },
  {
   "cell_type": "code",
   "execution_count": 55,
   "id": "df420fb0",
   "metadata": {},
   "outputs": [],
   "source": [
    "import pandas as pd\n",
    "from sqlalchemy import create_engine, Table, Column, Integer, String, MetaData, insert"
   ]
  },
  {
   "cell_type": "markdown",
   "id": "e4c610a6",
   "metadata": {},
   "source": [
    "## Dimensions"
   ]
  },
  {
   "cell_type": "markdown",
   "id": "a9d06bd6",
   "metadata": {},
   "source": [
    "### DIM_ARTIST"
   ]
  },
  {
   "cell_type": "code",
   "execution_count": 49,
   "id": "8270c0ce",
   "metadata": {},
   "outputs": [],
   "source": [
    "# stacked list-comprehension\n",
    "artist_list = [artist for artists in [play['track']['artists'] for play in history] for artist in artists]"
   ]
  },
  {
   "cell_type": "code",
   "execution_count": 51,
   "id": "857f220b",
   "metadata": {},
   "outputs": [
    {
     "data": {
      "text/html": [
       "<div>\n",
       "<style scoped>\n",
       "    .dataframe tbody tr th:only-of-type {\n",
       "        vertical-align: middle;\n",
       "    }\n",
       "\n",
       "    .dataframe tbody tr th {\n",
       "        vertical-align: top;\n",
       "    }\n",
       "\n",
       "    .dataframe thead th {\n",
       "        text-align: right;\n",
       "    }\n",
       "</style>\n",
       "<table border=\"1\" class=\"dataframe\">\n",
       "  <thead>\n",
       "    <tr style=\"text-align: right;\">\n",
       "      <th></th>\n",
       "      <th>spotify_id</th>\n",
       "      <th>artist_name</th>\n",
       "      <th>artist_type</th>\n",
       "    </tr>\n",
       "  </thead>\n",
       "  <tbody>\n",
       "    <tr>\n",
       "      <th>0</th>\n",
       "      <td>5pKCCKE2ajJHZ9KAiaK11H</td>\n",
       "      <td>Rihanna</td>\n",
       "      <td>artist</td>\n",
       "    </tr>\n",
       "    <tr>\n",
       "      <th>1</th>\n",
       "      <td>5K4W6rqBFWDnAN6FQUkS6x</td>\n",
       "      <td>Kanye West</td>\n",
       "      <td>artist</td>\n",
       "    </tr>\n",
       "    <tr>\n",
       "      <th>2</th>\n",
       "      <td>4STHEaNw4mPZ2tzheohgXB</td>\n",
       "      <td>Paul McCartney</td>\n",
       "      <td>artist</td>\n",
       "    </tr>\n",
       "    <tr>\n",
       "      <th>3</th>\n",
       "      <td>4gzpq5DPGxSnKTe4SA8HAU</td>\n",
       "      <td>Coldplay</td>\n",
       "      <td>artist</td>\n",
       "    </tr>\n",
       "    <tr>\n",
       "      <th>4</th>\n",
       "      <td>04gDigrS5kc9YWfZHwBETP</td>\n",
       "      <td>Maroon 5</td>\n",
       "      <td>artist</td>\n",
       "    </tr>\n",
       "    <tr>\n",
       "      <th>5</th>\n",
       "      <td>1Xyo4u8uXC1ZmMpatF05PJ</td>\n",
       "      <td>The Weeknd</td>\n",
       "      <td>artist</td>\n",
       "    </tr>\n",
       "    <tr>\n",
       "      <th>6</th>\n",
       "      <td>4IWBUUAFIplrNtaOHcJPRM</td>\n",
       "      <td>James Arthur</td>\n",
       "      <td>artist</td>\n",
       "    </tr>\n",
       "    <tr>\n",
       "      <th>8</th>\n",
       "      <td>1buzCmyYZE4kcdLRudsb8V</td>\n",
       "      <td>Mikky Ekko</td>\n",
       "      <td>artist</td>\n",
       "    </tr>\n",
       "    <tr>\n",
       "      <th>9</th>\n",
       "      <td>3LtlJprzuq0Ii8p8YFZXai</td>\n",
       "      <td>Peter Sandberg</td>\n",
       "      <td>artist</td>\n",
       "    </tr>\n",
       "    <tr>\n",
       "      <th>12</th>\n",
       "      <td>1moxjboGR7GNWYIMWsRjgG</td>\n",
       "      <td>Florence + The Machine</td>\n",
       "      <td>artist</td>\n",
       "    </tr>\n",
       "    <tr>\n",
       "      <th>13</th>\n",
       "      <td>7jdFEYD2LTYjfwxOdlVjmc</td>\n",
       "      <td>KALEO</td>\n",
       "      <td>artist</td>\n",
       "    </tr>\n",
       "    <tr>\n",
       "      <th>16</th>\n",
       "      <td>6yXBFHhojjdwKoop55NsHf</td>\n",
       "      <td>Mild Orange</td>\n",
       "      <td>artist</td>\n",
       "    </tr>\n",
       "    <tr>\n",
       "      <th>17</th>\n",
       "      <td>2RQXRUsr4IW1f3mKyKsy4B</td>\n",
       "      <td>Noah Kahan</td>\n",
       "      <td>artist</td>\n",
       "    </tr>\n",
       "    <tr>\n",
       "      <th>18</th>\n",
       "      <td>52N3KGrTWDRhdQJrgBTofE</td>\n",
       "      <td>Good Neighbours</td>\n",
       "      <td>artist</td>\n",
       "    </tr>\n",
       "    <tr>\n",
       "      <th>19</th>\n",
       "      <td>4qU7IJSReZnsLy5907Mtau</td>\n",
       "      <td>Richy Mitch &amp; The Coal Miners</td>\n",
       "      <td>artist</td>\n",
       "    </tr>\n",
       "  </tbody>\n",
       "</table>\n",
       "</div>"
      ],
      "text/plain": [
       "                spotify_id                    artist_name artist_type\n",
       "0   5pKCCKE2ajJHZ9KAiaK11H                        Rihanna      artist\n",
       "1   5K4W6rqBFWDnAN6FQUkS6x                     Kanye West      artist\n",
       "2   4STHEaNw4mPZ2tzheohgXB                 Paul McCartney      artist\n",
       "3   4gzpq5DPGxSnKTe4SA8HAU                       Coldplay      artist\n",
       "4   04gDigrS5kc9YWfZHwBETP                       Maroon 5      artist\n",
       "5   1Xyo4u8uXC1ZmMpatF05PJ                     The Weeknd      artist\n",
       "6   4IWBUUAFIplrNtaOHcJPRM                   James Arthur      artist\n",
       "8   1buzCmyYZE4kcdLRudsb8V                     Mikky Ekko      artist\n",
       "9   3LtlJprzuq0Ii8p8YFZXai                 Peter Sandberg      artist\n",
       "12  1moxjboGR7GNWYIMWsRjgG         Florence + The Machine      artist\n",
       "13  7jdFEYD2LTYjfwxOdlVjmc                          KALEO      artist\n",
       "16  6yXBFHhojjdwKoop55NsHf                    Mild Orange      artist\n",
       "17  2RQXRUsr4IW1f3mKyKsy4B                     Noah Kahan      artist\n",
       "18  52N3KGrTWDRhdQJrgBTofE                Good Neighbours      artist\n",
       "19  4qU7IJSReZnsLy5907Mtau  Richy Mitch & The Coal Miners      artist"
      ]
     },
     "execution_count": 51,
     "metadata": {},
     "output_type": "execute_result"
    }
   ],
   "source": [
    "df_artists = pd.DataFrame(artist_list)\n",
    "df_artists = df_artists.drop(columns=['href','uri','external_urls'])\n",
    "df_artists = df_artists.rename(columns={'id':'spotify_id','name':'artist_name','type':'artist_type'})\n",
    "df_artists.drop_duplicates(inplace=True)\n",
    "df_artists"
   ]
  },
  {
   "cell_type": "markdown",
   "id": "a73e774c",
   "metadata": {},
   "source": [
    "#### Load (Type 1 SCD)"
   ]
  },
  {
   "cell_type": "code",
   "execution_count": 75,
   "id": "c3c441f9",
   "metadata": {},
   "outputs": [],
   "source": [
    "with open('SQL_CREDENTIALS.json', 'r') as file:\n",
    "    cred = json.loads(file.read())\n",
    "    \n",
    "user = cred['user']\n",
    "pswd = cred['pass']\n",
    "host = cred['host']\n",
    "\n",
    "target_engine = create_engine(f'mysql+mysqlconnector://{user}:{pswd}@{host}:3306/spotify_db')\n",
    "\n",
    "with target_engine.connect() as connection:\n",
    "    dim_artist = pd.read_sql_table(\"DIM_ARTIST\", con=connection)\n",
    "    \n",
    "df_combined = df_artists.join(dim_artist, on=[\"spotify_id\"], how=\"left\", rsuffix='_dim')\n",
    "df_inserts = df_combined[df_combined['artist_wid'].isnull()][['spotify_id','artist_name','artist_type']]\n",
    "df_updates = df_combined.dropna(subset=['artist_wid'])\n",
    "\n",
    "with target_engine.connect() as connection:\n",
    "    df_inserts.to_sql(name='DIM_ARTIST', con=connection, if_exists='append', index=False)"
   ]
  },
  {
   "cell_type": "markdown",
   "id": "e5d5a7b4",
   "metadata": {},
   "source": [
    "### DIM_SONG"
   ]
  },
  {
   "cell_type": "code",
   "execution_count": 17,
   "id": "6dc4ca9a",
   "metadata": {},
   "outputs": [
    {
     "data": {
      "text/plain": [
       "dict_keys(['album', 'artists', 'disc_number', 'duration_ms', 'explicit', 'external_ids', 'external_urls', 'href', 'id', 'is_local', 'name', 'popularity', 'preview_url', 'track_number', 'type', 'uri'])"
      ]
     },
     "execution_count": 17,
     "metadata": {},
     "output_type": "execute_result"
    }
   ],
   "source": [
    "history[0]['track'].keys()"
   ]
  },
  {
   "cell_type": "code",
   "execution_count": 18,
   "id": "ab85fc80",
   "metadata": {},
   "outputs": [
    {
     "data": {
      "text/plain": [
       "{'album': {'album_type': 'single',\n",
       "  'artists': [{'external_urls': {'spotify': 'https://open.spotify.com/artist/5pKCCKE2ajJHZ9KAiaK11H'},\n",
       "    'href': 'https://api.spotify.com/v1/artists/5pKCCKE2ajJHZ9KAiaK11H',\n",
       "    'id': '5pKCCKE2ajJHZ9KAiaK11H',\n",
       "    'name': 'Rihanna',\n",
       "    'type': 'artist',\n",
       "    'uri': 'spotify:artist:5pKCCKE2ajJHZ9KAiaK11H'},\n",
       "   {'external_urls': {'spotify': 'https://open.spotify.com/artist/5K4W6rqBFWDnAN6FQUkS6x'},\n",
       "    'href': 'https://api.spotify.com/v1/artists/5K4W6rqBFWDnAN6FQUkS6x',\n",
       "    'id': '5K4W6rqBFWDnAN6FQUkS6x',\n",
       "    'name': 'Kanye West',\n",
       "    'type': 'artist',\n",
       "    'uri': 'spotify:artist:5K4W6rqBFWDnAN6FQUkS6x'},\n",
       "   {'external_urls': {'spotify': 'https://open.spotify.com/artist/4STHEaNw4mPZ2tzheohgXB'},\n",
       "    'href': 'https://api.spotify.com/v1/artists/4STHEaNw4mPZ2tzheohgXB',\n",
       "    'id': '4STHEaNw4mPZ2tzheohgXB',\n",
       "    'name': 'Paul McCartney',\n",
       "    'type': 'artist',\n",
       "    'uri': 'spotify:artist:4STHEaNw4mPZ2tzheohgXB'}],\n",
       "  'external_urls': {'spotify': 'https://open.spotify.com/album/7yBl4uFyJzH48Vy6tPieXL'},\n",
       "  'href': 'https://api.spotify.com/v1/albums/7yBl4uFyJzH48Vy6tPieXL',\n",
       "  'id': '7yBl4uFyJzH48Vy6tPieXL',\n",
       "  'images': [{'height': 640,\n",
       "    'url': 'https://i.scdn.co/image/ab67616d0000b27336a9ed72b45e54ff307641be',\n",
       "    'width': 640},\n",
       "   {'height': 300,\n",
       "    'url': 'https://i.scdn.co/image/ab67616d00001e0236a9ed72b45e54ff307641be',\n",
       "    'width': 300},\n",
       "   {'height': 64,\n",
       "    'url': 'https://i.scdn.co/image/ab67616d0000485136a9ed72b45e54ff307641be',\n",
       "    'width': 64}],\n",
       "  'name': 'FourFiveSeconds',\n",
       "  'release_date': '2015-01-24',\n",
       "  'release_date_precision': 'day',\n",
       "  'total_tracks': 1,\n",
       "  'type': 'album',\n",
       "  'uri': 'spotify:album:7yBl4uFyJzH48Vy6tPieXL'},\n",
       " 'artists': [{'external_urls': {'spotify': 'https://open.spotify.com/artist/5pKCCKE2ajJHZ9KAiaK11H'},\n",
       "   'href': 'https://api.spotify.com/v1/artists/5pKCCKE2ajJHZ9KAiaK11H',\n",
       "   'id': '5pKCCKE2ajJHZ9KAiaK11H',\n",
       "   'name': 'Rihanna',\n",
       "   'type': 'artist',\n",
       "   'uri': 'spotify:artist:5pKCCKE2ajJHZ9KAiaK11H'},\n",
       "  {'external_urls': {'spotify': 'https://open.spotify.com/artist/5K4W6rqBFWDnAN6FQUkS6x'},\n",
       "   'href': 'https://api.spotify.com/v1/artists/5K4W6rqBFWDnAN6FQUkS6x',\n",
       "   'id': '5K4W6rqBFWDnAN6FQUkS6x',\n",
       "   'name': 'Kanye West',\n",
       "   'type': 'artist',\n",
       "   'uri': 'spotify:artist:5K4W6rqBFWDnAN6FQUkS6x'},\n",
       "  {'external_urls': {'spotify': 'https://open.spotify.com/artist/4STHEaNw4mPZ2tzheohgXB'},\n",
       "   'href': 'https://api.spotify.com/v1/artists/4STHEaNw4mPZ2tzheohgXB',\n",
       "   'id': '4STHEaNw4mPZ2tzheohgXB',\n",
       "   'name': 'Paul McCartney',\n",
       "   'type': 'artist',\n",
       "   'uri': 'spotify:artist:4STHEaNw4mPZ2tzheohgXB'}],\n",
       " 'disc_number': 1,\n",
       " 'duration_ms': 188238,\n",
       " 'explicit': False,\n",
       " 'external_ids': {'isrc': 'USJMT1500001'},\n",
       " 'external_urls': {'spotify': 'https://open.spotify.com/track/78TTtXnFQPzwqlbtbwqN0y'},\n",
       " 'href': 'https://api.spotify.com/v1/tracks/78TTtXnFQPzwqlbtbwqN0y',\n",
       " 'id': '78TTtXnFQPzwqlbtbwqN0y',\n",
       " 'is_local': False,\n",
       " 'name': 'FourFiveSeconds',\n",
       " 'popularity': 77,\n",
       " 'preview_url': 'https://p.scdn.co/mp3-preview/6fdd4470dabeaf54e72b566a4f8f2d064236927f?cid=96c6271f82bb42638facf3898032ddb7',\n",
       " 'track_number': 1,\n",
       " 'type': 'track',\n",
       " 'uri': 'spotify:track:78TTtXnFQPzwqlbtbwqN0y'}"
      ]
     },
     "execution_count": 18,
     "metadata": {},
     "output_type": "execute_result"
    }
   ],
   "source": [
    "history[0]['track']"
   ]
  }
 ],
 "metadata": {
  "kernelspec": {
   "display_name": "Python 3 (ipykernel)",
   "language": "python",
   "name": "python3"
  },
  "language_info": {
   "codemirror_mode": {
    "name": "ipython",
    "version": 3
   },
   "file_extension": ".py",
   "mimetype": "text/x-python",
   "name": "python",
   "nbconvert_exporter": "python",
   "pygments_lexer": "ipython3",
   "version": "3.9.13"
  }
 },
 "nbformat": 4,
 "nbformat_minor": 5
}
