{
 "cells": [
  {
   "cell_type": "code",
   "execution_count": 4,
   "id": "90f23e5a",
   "metadata": {},
   "outputs": [],
   "source": [
    "import json\n",
    "from authorization import *"
   ]
  },
  {
   "cell_type": "code",
   "execution_count": 5,
   "id": "68a74422",
   "metadata": {
    "scrolled": false
   },
   "outputs": [],
   "source": [
    "with open('client-secrets-rnr.json','r+') as secrets_file:\n",
    "    secrets = json.load(secrets_file)\n",
    "\n",
    "client_id = secrets[\"client_id\"]\n",
    "client_secret = secrets[\"client_secret\"]\n",
    "redirect_url = secrets[\"redirect_url\"]"
   ]
  },
  {
   "cell_type": "code",
   "execution_count": 8,
   "id": "90b4ceb9",
   "metadata": {},
   "outputs": [],
   "source": [
    "access_token = get_access_token('access_token.json', client_id,\n",
    "    client_secret,\n",
    "    redirect_url, 'auth_code.txt'\n",
    "    )"
   ]
  },
  {
   "cell_type": "code",
   "execution_count": null,
   "id": "141c23d4",
   "metadata": {},
   "outputs": [],
   "source": []
  },
  {
   "cell_type": "code",
   "execution_count": null,
   "id": "48d3b289",
   "metadata": {},
   "outputs": [],
   "source": [
    "output = get_auth_tokens()\n",
    "if 'error' in output.keys():\n",
    "    print(\"Error! \", output[\"error_description\"])\n",
    "else:\n",
    "    with open('auth_tokens.json','w+') as file:\n",
    "        json.dump(output, file, indent=4)"
   ]
  },
  {
   "cell_type": "code",
   "execution_count": 21,
   "id": "0a7f5d68",
   "metadata": {},
   "outputs": [],
   "source": [
    "def get_auth_tokens(client_id, client_secret, redirect_url, auth_code):\n",
    "    auth_string = client_id + \":\" + client_secret\n",
    "    auth_bytes = auth_string.encode(\"utf-8\")\n",
    "    auth_encoded = str(base64.b64encode(auth_bytes), \"utf-8\")\n",
    "    \n",
    "    token_endpoint = \"https://accounts.spotify.com/api/token\"\n",
    "    data = {\n",
    "        \"grant_type\":\"authorization_code\",\n",
    "        \"code\":auth_code,\n",
    "        \"redirect_uri\":redirect_url,\n",
    "    }\n",
    "    headers = {\n",
    "        \"Authorization\": \"Basic \" + auth_encoded,\n",
    "        \"Content-type\": \"application/x-www-form-urlencoded\"\n",
    "    }\n",
    "    result = requests.post(token_endpoint, headers=headers, data=data)\n",
    "    json_results = json.loads(result.content)\n",
    "    return json_results"
   ]
  },
  {
   "cell_type": "code",
   "execution_count": 22,
   "id": "3096cf52",
   "metadata": {},
   "outputs": [
    {
     "data": {
      "text/plain": [
       "{'access_token': 'BQD6rx49nL5HQ_bxvolD0wZwuUUBrVGQ10_XF0M22aZAlwMhYzeoncy4qtMSadMulFyAOP7M6JIVuOg25cKtO33zW7_o4LLoImkpyNZpz2Bd3PxDwTXtXEMKNgF863Yd1kcinMnuTVK89v8CRiEYhTOm_UHW724L148sEBuuDJ0ZxiNgh_7o4hUlSKSNPFYtlpglVKCjk1__BP48efHGUkYZFzsV0bzRMzDnuTot_aoKqDs',\n",
       " 'token_type': 'Bearer',\n",
       " 'expires_in': 3600,\n",
       " 'refresh_token': 'AQCD-i_ghFN4IaDwzrjLRM5-InJKX96MVzP7v01p0tZx3WN14msoYo1dijpBMAi6JHNSKM3uzP_vZZ8a9SF0YyIlVoXzxnuvLePni7tFOdSGny3IZRXq5y5Rk97EsbUiNek',\n",
       " 'scope': 'playlist-read-private playlist-read-collaborative user-library-read user-read-playback-state user-read-currently-playing user-read-recently-played user-read-email user-read-playback-position user-top-read user-read-private'}"
      ]
     },
     "execution_count": 22,
     "metadata": {},
     "output_type": "execute_result"
    }
   ],
   "source": [
    "get_auth_tokens(client_id, client_secret, redirect_url, auth_code)"
   ]
  },
  {
   "cell_type": "code",
   "execution_count": 5,
   "id": "36376b56",
   "metadata": {},
   "outputs": [
    {
     "name": "stdout",
     "output_type": "stream",
     "text": [
      "{\n",
      "    \"access_token\": \"BQAo5FEAAMhX565altgNUnVizKqRvcQLIOfR-c-MwDfsHwg_DdVBZasFRsgBqu0r5Byjnt-MImLH0agSI2J94bzfrlbfSO0543Zg0YABup49Q9ZKDu3RscmtElp13l3HfWQ4yont1S7sETPww4Ws5H6Fr4mFaVU3oykSbdSgT_MAZqsceAy63IEa7tIpRxLX5pw-i-5olJGNFkDNMyWFCQbEcOgcSNk-UoMDdtpCc3oo6IY\",\n",
      "    \"token_type\": \"Bearer\",\n",
      "    \"expires_in\": 3600,\n",
      "    \"scope\": \"playlist-read-private playlist-read-collaborative user-library-read user-read-playback-state user-read-currently-playing user-read-email user-read-recently-played user-read-playback-position user-read-private user-top-read\"\n",
      "}\n"
     ]
    }
   ],
   "source": [
    "with open('auth_tokens.json') as file:\n",
    "    json_string = file.read()\n",
    "    \n",
    "print(json_string)"
   ]
  },
  {
   "cell_type": "code",
   "execution_count": null,
   "id": "0744423f",
   "metadata": {},
   "outputs": [],
   "source": []
  },
  {
   "cell_type": "code",
   "execution_count": 5,
   "id": "a1b4308b",
   "metadata": {},
   "outputs": [],
   "source": [
    "with open('access_token.json','r+') as file:\n",
    "    auth_keys = json.load(file)\n",
    "    \n",
    "if 'refresh_token' not in auth_keys.keys():\n",
    "    with open('refresh_token.json','r+') as file:\n",
    "        refresh_keys = json.load(file)\n",
    "    refresh_token = refresh_keys['refresh_token']\n",
    "else:\n",
    "    refresh_token = auth_keys['refresh_token']\n",
    "tokens = refresh_access_tokens(client_id, client_secret, refresh_token)"
   ]
  },
  {
   "cell_type": "code",
   "execution_count": 6,
   "id": "6b913c09",
   "metadata": {},
   "outputs": [
    {
     "data": {
      "text/plain": [
       "{'access_token': 'BQBEYRTFhy5reX2I74TuvCxzquvFGO5lZy2Wm0DAgqkGY8ONEwMrc9OMlAGrCBsyiXzlX53U-2WniH5Ice82rOy_Zwt9mzKudRt9OEclYEKQyKbI9bE9F7Tk3a7AGFFqnmK9aNjp9s99pS8sSoxo3P-9Yu2gzMay6EUut8DBxg3zCip8UTJ21yZykP6hZMlyuYM86SeFhq-lRJQVBoF3c5P4mgvZYQEoCTFrkBq7LoXVdMg',\n",
       " 'token_type': 'Bearer',\n",
       " 'expires_in': 3600,\n",
       " 'scope': 'playlist-read-private playlist-read-collaborative user-library-read user-read-playback-state user-read-currently-playing user-read-email user-read-recently-played user-read-playback-position user-read-private user-top-read'}"
      ]
     },
     "execution_count": 6,
     "metadata": {},
     "output_type": "execute_result"
    }
   ],
   "source": [
    "tokens"
   ]
  },
  {
   "cell_type": "code",
   "execution_count": 7,
   "id": "b7c5cdf3",
   "metadata": {},
   "outputs": [],
   "source": [
    "if 'refresh_token' not in tokens.keys():\n",
    "    with open('refresh_token.json','w+') as file:\n",
    "        file.write(json.dumps({\"refresh_token\":f\"{refresh_token}\"}))\n",
    "\n",
    "with open('auth_tokens.json','w+') as file:\n",
    "        json.dump(tokens, file, indent=4)"
   ]
  },
  {
   "cell_type": "markdown",
   "id": "ec6cd9cf",
   "metadata": {},
   "source": [
    "# Get User Details"
   ]
  },
  {
   "cell_type": "code",
   "execution_count": 8,
   "id": "d4f8b630",
   "metadata": {},
   "outputs": [
    {
     "name": "stdout",
     "output_type": "stream",
     "text": [
      "{'display_name': 'sdspot2034', 'external_urls': {'spotify': 'https://open.spotify.com/user/sdspot2034'}, 'href': 'https://api.spotify.com/v1/users/sdspot2034', 'id': 'sdspot2034', 'images': [{'url': 'https://i.scdn.co/image/ab67757000003b8280153af8b79b3144b24f1291', 'height': 64, 'width': 64}, {'url': 'https://i.scdn.co/image/ab6775700000ee8580153af8b79b3144b24f1291', 'height': 300, 'width': 300}], 'type': 'user', 'uri': 'spotify:user:sdspot2034', 'followers': {'href': None, 'total': 9}, 'country': 'IN', 'product': 'premium', 'explicit_content': {'filter_enabled': False, 'filter_locked': False}, 'email': 'shreyandas2034@gmail.com'}\n"
     ]
    }
   ],
   "source": [
    "with open('auth_tokens.json','r+') as file:\n",
    "    auth_keys = json.load(file)\n",
    "    \n",
    "token = auth_keys[\"access_token\"]\n",
    "\n",
    "result = requests.get(\"https://api.spotify.com/v1/me\", headers={\"Authorization\": \"Bearer \" + token,\n",
    "        \"Content-type\": \"application/x-www-form-urlencoded\"})\n",
    "json_results = json.loads(result.content)\n",
    "\n",
    "print(json_results)"
   ]
  },
  {
   "cell_type": "code",
   "execution_count": null,
   "id": "27e29db8",
   "metadata": {},
   "outputs": [],
   "source": [
    "import datetime\n",
    "yesterday = datetime.datetime.now() - datetime.timedelta(days=1)\n",
    "# print(yesterday.timestamp()*1e3)\n",
    "cdc_time = int(yesterday.timestamp()*1e3)"
   ]
  },
  {
   "cell_type": "markdown",
   "id": "c45c66b4",
   "metadata": {},
   "source": [
    "# Get All Songs Played in the last one day"
   ]
  },
  {
   "cell_type": "code",
   "execution_count": null,
   "id": "62cd0052",
   "metadata": {},
   "outputs": [],
   "source": [
    "with open('auth_tokens.json','r+') as file:\n",
    "    auth_keys = json.load(file)\n",
    "    \n",
    "token = auth_keys[\"access_token\"]\n",
    "\n",
    "result = requests.get(\"https://api.spotify.com/v1/me/player/recently-played\", \n",
    "        headers={\"Authorization\": \"Bearer \" + token}, params={\"after\": str(cdc_time), \"limit\":\"50\"})\n"
   ]
  },
  {
   "cell_type": "code",
   "execution_count": null,
   "id": "64872620",
   "metadata": {},
   "outputs": [],
   "source": [
    "json_results = json.loads(result.content)\n",
    "print(json_results)"
   ]
  },
  {
   "cell_type": "code",
   "execution_count": null,
   "id": "8a15510a",
   "metadata": {},
   "outputs": [],
   "source": [
    "import pprint\n",
    "pprint.pprint(json_results)"
   ]
  },
  {
   "cell_type": "markdown",
   "id": "a2f47724",
   "metadata": {},
   "source": [
    "## EDA over recent history"
   ]
  },
  {
   "cell_type": "markdown",
   "id": "e5e8860f",
   "metadata": {},
   "source": [
    "### Number of songs played"
   ]
  },
  {
   "cell_type": "code",
   "execution_count": null,
   "id": "30b4c792",
   "metadata": {},
   "outputs": [],
   "source": [
    "len(json_results['items'])"
   ]
  },
  {
   "cell_type": "code",
   "execution_count": null,
   "id": "29fe5c50",
   "metadata": {},
   "outputs": [],
   "source": [
    "type(json_results['items'])"
   ]
  },
  {
   "cell_type": "markdown",
   "id": "af449a03",
   "metadata": {},
   "source": [
    "### Fetch details of a song"
   ]
  },
  {
   "cell_type": "markdown",
   "id": "0c0a32cf",
   "metadata": {},
   "source": [
    "#### See available data for a song"
   ]
  },
  {
   "cell_type": "code",
   "execution_count": null,
   "id": "175ed54d",
   "metadata": {},
   "outputs": [],
   "source": [
    "json_results['items'][0]"
   ]
  },
  {
   "cell_type": "code",
   "execution_count": null,
   "id": "db0a7fed",
   "metadata": {},
   "outputs": [],
   "source": [
    "json_results['items'][0].keys()"
   ]
  },
  {
   "cell_type": "code",
   "execution_count": null,
   "id": "b7cd26ee",
   "metadata": {},
   "outputs": [],
   "source": [
    "json_results['items'][0]['track']"
   ]
  },
  {
   "cell_type": "code",
   "execution_count": null,
   "id": "84306bbe",
   "metadata": {},
   "outputs": [],
   "source": [
    "list(json_results['items'][0]['track'].keys())"
   ]
  },
  {
   "cell_type": "code",
   "execution_count": null,
   "id": "e1973077",
   "metadata": {},
   "outputs": [],
   "source": [
    "track_details = {k: v for k, v in json_results['items'][0]['track'].items() if k not in ('available_markets')}\n",
    "\n",
    "if 'album' in track_details:\n",
    "    del track_details['album']['images']\n",
    "    del track_details['album']['available_markets']\n",
    "\n",
    "track_details\n"
   ]
  }
 ],
 "metadata": {
  "kernelspec": {
   "display_name": "Python 3 (ipykernel)",
   "language": "python",
   "name": "python3"
  },
  "language_info": {
   "codemirror_mode": {
    "name": "ipython",
    "version": 3
   },
   "file_extension": ".py",
   "mimetype": "text/x-python",
   "name": "python",
   "nbconvert_exporter": "python",
   "pygments_lexer": "ipython3",
   "version": "3.9.13"
  }
 },
 "nbformat": 4,
 "nbformat_minor": 5
}
