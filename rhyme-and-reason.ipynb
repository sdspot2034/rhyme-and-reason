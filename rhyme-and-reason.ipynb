{
 "cells": [
  {
   "cell_type": "code",
   "execution_count": 8,
   "id": "90f23e5a",
   "metadata": {},
   "outputs": [],
   "source": [
    "import json\n",
    "from authorization import SpotifyAuth"
   ]
  },
  {
   "cell_type": "code",
   "execution_count": 9,
   "id": "68a74422",
   "metadata": {
    "scrolled": false
   },
   "outputs": [],
   "source": [
    "with open('client-secrets-rnr.json','r+') as secrets_file:\n",
    "    secrets = json.load(secrets_file)\n",
    "\n",
    "client_id = secrets[\"client_id\"]\n",
    "client_secret = secrets[\"client_secret\"]\n",
    "redirect_url = secrets[\"redirect_url\"]"
   ]
  },
  {
   "cell_type": "code",
   "execution_count": 10,
   "id": "7c969b1d",
   "metadata": {
    "scrolled": true
   },
   "outputs": [],
   "source": [
    "spotify_authorisation = SpotifyAuth(client_id=client_id, client_secret=client_secret, redirect_url=redirect_url)\n",
    "spotify_authorisation.set_access_token_from_file('access_token.json')"
   ]
  },
  {
   "cell_type": "code",
   "execution_count": 11,
   "id": "27e29db8",
   "metadata": {},
   "outputs": [],
   "source": [
    "import datetime\n",
    "yesterday = datetime.datetime.now() - datetime.timedelta(days=1)\n",
    "# print(yesterday.timestamp()*1e3)\n",
    "cdc_time = int(yesterday.timestamp()*1e3)"
   ]
  },
  {
   "cell_type": "code",
   "execution_count": 12,
   "id": "9cbe8ed2",
   "metadata": {},
   "outputs": [],
   "source": [
    "import spotify_functions as spotify"
   ]
  },
  {
   "cell_type": "markdown",
   "id": "11c177d0",
   "metadata": {},
   "source": [
    "# Extract, Transform, Load (ETL)"
   ]
  },
  {
   "cell_type": "markdown",
   "id": "e4c610a6",
   "metadata": {},
   "source": [
    "## Dimensions"
   ]
  },
  {
   "cell_type": "code",
   "execution_count": 13,
   "id": "9c6c47b0",
   "metadata": {},
   "outputs": [],
   "source": [
    "from dw_etl_scripts.dim import *"
   ]
  },
  {
   "cell_type": "code",
   "execution_count": 14,
   "id": "da0e887a",
   "metadata": {},
   "outputs": [],
   "source": [
    "token = spotify_authorisation.get_access_token()\n",
    "history = spotify.get_listening_history(token, cdc_time)['items']"
   ]
  },
  {
   "cell_type": "markdown",
   "id": "1fb1cacf",
   "metadata": {},
   "source": [
    "### DIM_USER"
   ]
  },
  {
   "cell_type": "markdown",
   "id": "f643a6fd",
   "metadata": {},
   "source": [
    "#### Load (Type 0 SCD)"
   ]
  },
  {
   "cell_type": "code",
   "execution_count": 15,
   "id": "9f4e6422",
   "metadata": {},
   "outputs": [],
   "source": [
    "# dim_user_load(spotify, spotify_authorisation.get_access_token())"
   ]
  },
  {
   "cell_type": "markdown",
   "id": "a9d06bd6",
   "metadata": {},
   "source": [
    "### DIM_ARTIST"
   ]
  },
  {
   "cell_type": "markdown",
   "id": "a73e774c",
   "metadata": {},
   "source": [
    "#### Load (Type 1 SCD)"
   ]
  },
  {
   "cell_type": "code",
   "execution_count": 16,
   "id": "8bcd742f",
   "metadata": {},
   "outputs": [],
   "source": [
    "dim_artist_load(spotify, spotify_authorisation.get_access_token(), cdc_time)"
   ]
  },
  {
   "cell_type": "markdown",
   "id": "d68134f1",
   "metadata": {},
   "source": [
    "### DIM_ALBUM"
   ]
  },
  {
   "cell_type": "markdown",
   "id": "eb9c8864",
   "metadata": {},
   "source": [
    "#### Load (Type 1 SCD)"
   ]
  },
  {
   "cell_type": "code",
   "execution_count": 17,
   "id": "5d86c18f",
   "metadata": {},
   "outputs": [],
   "source": [
    "dim_album_load(spotify, spotify_authorisation.get_access_token(), cdc_time)"
   ]
  },
  {
   "cell_type": "markdown",
   "id": "2da54bec",
   "metadata": {},
   "source": [
    "### BRIDGE_ALBUM_ARTIST"
   ]
  },
  {
   "cell_type": "code",
   "execution_count": 18,
   "id": "66edeaab",
   "metadata": {},
   "outputs": [],
   "source": [
    "from dw_etl_scripts.bridge import *"
   ]
  },
  {
   "cell_type": "markdown",
   "id": "bce462cc",
   "metadata": {},
   "source": [
    "#### Load (Type 1 SCD)"
   ]
  },
  {
   "cell_type": "code",
   "execution_count": 19,
   "id": "f56be13e",
   "metadata": {},
   "outputs": [],
   "source": [
    "bridge_album_artist_load(spotify, spotify_authorisation.get_access_token(), cdc_time)"
   ]
  },
  {
   "cell_type": "markdown",
   "id": "e5d5a7b4",
   "metadata": {},
   "source": [
    "### DIM_SONG"
   ]
  },
  {
   "cell_type": "markdown",
   "id": "19025329",
   "metadata": {},
   "source": [
    "#### Load (Type 1 SCD)"
   ]
  },
  {
   "cell_type": "code",
   "execution_count": 20,
   "id": "a9e82c73",
   "metadata": {},
   "outputs": [],
   "source": [
    "dim_song_load(spotify, spotify_authorisation.get_access_token(), cdc_time)"
   ]
  },
  {
   "cell_type": "markdown",
   "id": "9c0ee7dc",
   "metadata": {},
   "source": [
    "### FACT_PLAY"
   ]
  },
  {
   "cell_type": "code",
   "execution_count": 165,
   "id": "07575cb8",
   "metadata": {},
   "outputs": [
    {
     "data": {
      "text/html": [
       "<div>\n",
       "<style scoped>\n",
       "    .dataframe tbody tr th:only-of-type {\n",
       "        vertical-align: middle;\n",
       "    }\n",
       "\n",
       "    .dataframe tbody tr th {\n",
       "        vertical-align: top;\n",
       "    }\n",
       "\n",
       "    .dataframe thead th {\n",
       "        text-align: right;\n",
       "    }\n",
       "</style>\n",
       "<table border=\"1\" class=\"dataframe\">\n",
       "  <thead>\n",
       "    <tr style=\"text-align: right;\">\n",
       "      <th></th>\n",
       "      <th>song_wid</th>\n",
       "      <th>played_at</th>\n",
       "      <th>context_playlist</th>\n",
       "    </tr>\n",
       "  </thead>\n",
       "  <tbody>\n",
       "    <tr>\n",
       "      <th>0</th>\n",
       "      <td>89</td>\n",
       "      <td>2024-08-11 16:33:43.891000</td>\n",
       "      <td>https://api.spotify.com/v1/playlists/1TkXrIRsO...</td>\n",
       "    </tr>\n",
       "    <tr>\n",
       "      <th>1</th>\n",
       "      <td>90</td>\n",
       "      <td>2024-08-11 16:31:13.712000</td>\n",
       "      <td>https://api.spotify.com/v1/playlists/1TkXrIRsO...</td>\n",
       "    </tr>\n",
       "    <tr>\n",
       "      <th>2</th>\n",
       "      <td>90</td>\n",
       "      <td>2024-08-11 16:30:54.486000</td>\n",
       "      <td>https://api.spotify.com/v1/playlists/1TkXrIRsO...</td>\n",
       "    </tr>\n",
       "    <tr>\n",
       "      <th>3</th>\n",
       "      <td>50</td>\n",
       "      <td>2024-08-11 16:13:44.672000</td>\n",
       "      <td>None</td>\n",
       "    </tr>\n",
       "    <tr>\n",
       "      <th>4</th>\n",
       "      <td>36</td>\n",
       "      <td>2024-08-11 12:12:53.419000</td>\n",
       "      <td>None</td>\n",
       "    </tr>\n",
       "    <tr>\n",
       "      <th>5</th>\n",
       "      <td>87</td>\n",
       "      <td>2024-08-11 12:03:50.717000</td>\n",
       "      <td>None</td>\n",
       "    </tr>\n",
       "  </tbody>\n",
       "</table>\n",
       "</div>"
      ],
      "text/plain": [
       "   song_wid                   played_at  \\\n",
       "0        89  2024-08-11 16:33:43.891000   \n",
       "1        90  2024-08-11 16:31:13.712000   \n",
       "2        90  2024-08-11 16:30:54.486000   \n",
       "3        50  2024-08-11 16:13:44.672000   \n",
       "4        36  2024-08-11 12:12:53.419000   \n",
       "5        87  2024-08-11 12:03:50.717000   \n",
       "\n",
       "                                    context_playlist  \n",
       "0  https://api.spotify.com/v1/playlists/1TkXrIRsO...  \n",
       "1  https://api.spotify.com/v1/playlists/1TkXrIRsO...  \n",
       "2  https://api.spotify.com/v1/playlists/1TkXrIRsO...  \n",
       "3                                               None  \n",
       "4                                               None  \n",
       "5                                               None  "
      ]
     },
     "execution_count": 165,
     "metadata": {},
     "output_type": "execute_result"
    }
   ],
   "source": [
    "dim_song = sql_functions.read_from_sql('DIM_SONG')\n",
    "df_play = pd.DataFrame(history)\n",
    "df_play['song_id'] = df_play['track'].apply(lambda x:x['id'])\n",
    "df_play = df_play.merge(dim_song, 'left', on = 'song_id')\n",
    "df_play['context_playlist'] = df_play['context'].apply(lambda x:x['href'] if x and 'href' in x.keys() else None)\n",
    "df_play = df_play[['song_wid','played_at','context_playlist']]\n",
    "df_play['played_at'] = pd.to_datetime(df_play['played_at'])\n",
    "df_play['played_at'] = df_play['played_at'] + pd.Timedelta(hours=5, minutes=30)\n",
    "df_play['played_at'] = df_play['played_at'].apply(lambda x:x.strftime('%Y-%m-%d %H:%M:%S.%f'))\n",
    "df_play"
   ]
  },
  {
   "cell_type": "markdown",
   "id": "ca7acd19",
   "metadata": {},
   "source": [
    "#### Load"
   ]
  },
  {
   "cell_type": "code",
   "execution_count": 128,
   "id": "ba0390b8",
   "metadata": {},
   "outputs": [],
   "source": [
    "sql_functions.save_to_sql(\n",
    "    df_bridge_album_artist\n",
    "    , bridge_album_artist\n",
    "    , key_cols = ['album_wid', 'artist_wid']\n",
    "    , wid = ['album_artist_map_wid']\n",
    "    , mode = 'ignore'\n",
    ")"
   ]
  },
  {
   "cell_type": "code",
   "execution_count": 166,
   "id": "a3a89150",
   "metadata": {},
   "outputs": [],
   "source": [
    "from sqlalchemy import Table, Column, Integer, String, Text, DateTime\n",
    "\n",
    "# Define the metadata\n",
    "metadata = MetaData()\n",
    "\n",
    "# Define the FACT_PLAY table\n",
    "fact_play = Table(\n",
    "    'FACT_PLAY', metadata,\n",
    "    Column('play_wid', Integer, primary_key=True, autoincrement=True),\n",
    "    Column('song_wid', Integer, nullable=False),\n",
    "    Column('played_at', DateTime, nullable=False),\n",
    "    Column('context_playlist', Text, nullable=False)\n",
    ")"
   ]
  },
  {
   "cell_type": "code",
   "execution_count": 169,
   "id": "4c673bc2",
   "metadata": {},
   "outputs": [],
   "source": [
    "sql_functions.save_to_sql(df_play, fact_play, key_cols = ['song_wid','played_at'], wid = ['play_wid'], mode = 'append')"
   ]
  }
 ],
 "metadata": {
  "kernelspec": {
   "display_name": "Python 3 (ipykernel)",
   "language": "python",
   "name": "python3"
  },
  "language_info": {
   "codemirror_mode": {
    "name": "ipython",
    "version": 3
   },
   "file_extension": ".py",
   "mimetype": "text/x-python",
   "name": "python",
   "nbconvert_exporter": "python",
   "pygments_lexer": "ipython3",
   "version": "3.9.13"
  }
 },
 "nbformat": 4,
 "nbformat_minor": 5
}
