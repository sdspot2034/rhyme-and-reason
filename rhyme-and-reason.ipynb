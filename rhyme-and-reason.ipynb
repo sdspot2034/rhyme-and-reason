{
 "cells": [
  {
   "cell_type": "code",
   "execution_count": 4,
   "id": "90f23e5a",
   "metadata": {},
   "outputs": [],
   "source": [
    "import json\n",
    "from authorization import SpotifyAuth"
   ]
  },
  {
   "cell_type": "code",
   "execution_count": 5,
   "id": "68a74422",
   "metadata": {
    "scrolled": false
   },
   "outputs": [],
   "source": [
    "with open('client-secrets-rnr.json','r+') as secrets_file:\n",
    "    secrets = json.load(secrets_file)\n",
    "\n",
    "client_id = secrets[\"client_id\"]\n",
    "client_secret = secrets[\"client_secret\"]\n",
    "redirect_url = secrets[\"redirect_url\"]"
   ]
  },
  {
   "cell_type": "code",
   "execution_count": 6,
   "id": "7c969b1d",
   "metadata": {
    "scrolled": true
   },
   "outputs": [],
   "source": [
    "spotify_authorisation = SpotifyAuth(client_id=client_id, client_secret=client_secret, redirect_url=redirect_url)\n",
    "spotify_authorisation.set_access_token_from_file('access_token.json')"
   ]
  },
  {
   "cell_type": "markdown",
   "id": "ec6cd9cf",
   "metadata": {},
   "source": [
    "# Get User Details"
   ]
  },
  {
   "cell_type": "code",
   "execution_count": 7,
   "id": "9cbe8ed2",
   "metadata": {},
   "outputs": [],
   "source": [
    "import spotify_functions as spotify"
   ]
  },
  {
   "cell_type": "code",
   "execution_count": 8,
   "id": "bd3ebc1c",
   "metadata": {},
   "outputs": [
    {
     "data": {
      "text/plain": [
       "{'display_name': 'sdspot2034',\n",
       " 'external_urls': {'spotify': 'https://open.spotify.com/user/sdspot2034'},\n",
       " 'href': 'https://api.spotify.com/v1/users/sdspot2034',\n",
       " 'id': 'sdspot2034',\n",
       " 'images': [{'url': 'https://i.scdn.co/image/ab67757000003b8280153af8b79b3144b24f1291',\n",
       "   'height': 64,\n",
       "   'width': 64},\n",
       "  {'url': 'https://i.scdn.co/image/ab6775700000ee8580153af8b79b3144b24f1291',\n",
       "   'height': 300,\n",
       "   'width': 300}],\n",
       " 'type': 'user',\n",
       " 'uri': 'spotify:user:sdspot2034',\n",
       " 'followers': {'href': None, 'total': 9},\n",
       " 'country': 'IN',\n",
       " 'product': 'premium',\n",
       " 'explicit_content': {'filter_enabled': False, 'filter_locked': False},\n",
       " 'email': 'shreyandas2034@gmail.com'}"
      ]
     },
     "execution_count": 8,
     "metadata": {},
     "output_type": "execute_result"
    }
   ],
   "source": [
    "spotify.get_user_details(spotify_authorisation.get_access_token())"
   ]
  },
  {
   "cell_type": "code",
   "execution_count": 9,
   "id": "27e29db8",
   "metadata": {},
   "outputs": [],
   "source": [
    "import datetime\n",
    "yesterday = datetime.datetime.now() - datetime.timedelta(days=1)\n",
    "# print(yesterday.timestamp()*1e3)\n",
    "cdc_time = int(yesterday.timestamp()*1e3)"
   ]
  },
  {
   "cell_type": "markdown",
   "id": "c45c66b4",
   "metadata": {},
   "source": [
    "# Get All Songs Played in the last one day"
   ]
  },
  {
   "cell_type": "code",
   "execution_count": 10,
   "id": "da0e887a",
   "metadata": {},
   "outputs": [],
   "source": [
    "token = spotify_authorisation.get_access_token()\n",
    "history = spotify.get_listening_history(token, cdc_time)['items']"
   ]
  },
  {
   "cell_type": "markdown",
   "id": "a2f47724",
   "metadata": {},
   "source": [
    "## EDA over recent history"
   ]
  },
  {
   "cell_type": "markdown",
   "id": "e5e8860f",
   "metadata": {},
   "source": [
    "### Number of songs played"
   ]
  },
  {
   "cell_type": "code",
   "execution_count": 11,
   "id": "30b4c792",
   "metadata": {},
   "outputs": [
    {
     "data": {
      "text/plain": [
       "20"
      ]
     },
     "execution_count": 11,
     "metadata": {},
     "output_type": "execute_result"
    }
   ],
   "source": [
    "len(history)"
   ]
  },
  {
   "cell_type": "markdown",
   "id": "af449a03",
   "metadata": {},
   "source": [
    "### Fetch details of a song"
   ]
  },
  {
   "cell_type": "markdown",
   "id": "0c0a32cf",
   "metadata": {},
   "source": [
    "#### See available data for a song"
   ]
  },
  {
   "cell_type": "code",
   "execution_count": 12,
   "id": "db0a7fed",
   "metadata": {},
   "outputs": [
    {
     "data": {
      "text/plain": [
       "dict_keys(['track', 'played_at', 'context'])"
      ]
     },
     "execution_count": 12,
     "metadata": {},
     "output_type": "execute_result"
    }
   ],
   "source": [
    "history[0].keys()"
   ]
  },
  {
   "cell_type": "code",
   "execution_count": 13,
   "id": "84306bbe",
   "metadata": {},
   "outputs": [
    {
     "data": {
      "text/plain": [
       "['album',\n",
       " 'artists',\n",
       " 'disc_number',\n",
       " 'duration_ms',\n",
       " 'explicit',\n",
       " 'external_ids',\n",
       " 'external_urls',\n",
       " 'href',\n",
       " 'id',\n",
       " 'is_local',\n",
       " 'name',\n",
       " 'popularity',\n",
       " 'preview_url',\n",
       " 'track_number',\n",
       " 'type',\n",
       " 'uri']"
      ]
     },
     "execution_count": 13,
     "metadata": {},
     "output_type": "execute_result"
    }
   ],
   "source": [
    "list(history[0]['track'].keys())"
   ]
  },
  {
   "cell_type": "code",
   "execution_count": 14,
   "id": "49f220b3",
   "metadata": {},
   "outputs": [
    {
     "data": {
      "text/plain": [
       "'2024-08-02T14:53:41.386Z'"
      ]
     },
     "execution_count": 14,
     "metadata": {},
     "output_type": "execute_result"
    }
   ],
   "source": [
    "history[0]['played_at']"
   ]
  },
  {
   "cell_type": "code",
   "execution_count": 15,
   "id": "a7e3e817",
   "metadata": {},
   "outputs": [
    {
     "name": "stdout",
     "output_type": "stream",
     "text": [
      "None\n"
     ]
    }
   ],
   "source": [
    "print(history[0]['context'])"
   ]
  },
  {
   "cell_type": "markdown",
   "id": "11c177d0",
   "metadata": {},
   "source": [
    "# Transform"
   ]
  },
  {
   "cell_type": "code",
   "execution_count": 16,
   "id": "df420fb0",
   "metadata": {},
   "outputs": [],
   "source": [
    "import pandas as pd\n",
    "from sqlalchemy import create_engine, Table, Column, Integer, String, MetaData\n",
    "from sqlalchemy.dialects.mysql import insert"
   ]
  },
  {
   "cell_type": "markdown",
   "id": "e4c610a6",
   "metadata": {},
   "source": [
    "## Dimensions"
   ]
  },
  {
   "cell_type": "markdown",
   "id": "a9d06bd6",
   "metadata": {},
   "source": [
    "### DIM_ARTIST"
   ]
  },
  {
   "cell_type": "code",
   "execution_count": 17,
   "id": "8270c0ce",
   "metadata": {},
   "outputs": [],
   "source": [
    "# stacked list-comprehension\n",
    "artist_list = [artist for artists in [play['track']['artists'] for play in history] for artist in artists]"
   ]
  },
  {
   "cell_type": "code",
   "execution_count": 18,
   "id": "857f220b",
   "metadata": {},
   "outputs": [
    {
     "data": {
      "text/html": [
       "<div>\n",
       "<style scoped>\n",
       "    .dataframe tbody tr th:only-of-type {\n",
       "        vertical-align: middle;\n",
       "    }\n",
       "\n",
       "    .dataframe tbody tr th {\n",
       "        vertical-align: top;\n",
       "    }\n",
       "\n",
       "    .dataframe thead th {\n",
       "        text-align: right;\n",
       "    }\n",
       "</style>\n",
       "<table border=\"1\" class=\"dataframe\">\n",
       "  <thead>\n",
       "    <tr style=\"text-align: right;\">\n",
       "      <th></th>\n",
       "      <th>spotify_id</th>\n",
       "      <th>artist_name</th>\n",
       "      <th>artist_type</th>\n",
       "    </tr>\n",
       "  </thead>\n",
       "  <tbody>\n",
       "    <tr>\n",
       "      <th>0</th>\n",
       "      <td>25u4wHJWxCA9vO0CzxAbK7</td>\n",
       "      <td>Lukas Graham</td>\n",
       "      <td>artist</td>\n",
       "    </tr>\n",
       "    <tr>\n",
       "      <th>1</th>\n",
       "      <td>4gzpq5DPGxSnKTe4SA8HAU</td>\n",
       "      <td>Coldplay</td>\n",
       "      <td>artist</td>\n",
       "    </tr>\n",
       "    <tr>\n",
       "      <th>3</th>\n",
       "      <td>2wY79sveU1sp5g7SokKOiI</td>\n",
       "      <td>Sam Smith</td>\n",
       "      <td>artist</td>\n",
       "    </tr>\n",
       "    <tr>\n",
       "      <th>4</th>\n",
       "      <td>33NVpKoXjItPwUJTMZIOiY</td>\n",
       "      <td>David Kushner</td>\n",
       "      <td>artist</td>\n",
       "    </tr>\n",
       "    <tr>\n",
       "      <th>7</th>\n",
       "      <td>5pKCCKE2ajJHZ9KAiaK11H</td>\n",
       "      <td>Rihanna</td>\n",
       "      <td>artist</td>\n",
       "    </tr>\n",
       "    <tr>\n",
       "      <th>8</th>\n",
       "      <td>1buzCmyYZE4kcdLRudsb8V</td>\n",
       "      <td>Mikky Ekko</td>\n",
       "      <td>artist</td>\n",
       "    </tr>\n",
       "    <tr>\n",
       "      <th>9</th>\n",
       "      <td>7t0rwkOPGlDPEhaOcVtOt9</td>\n",
       "      <td>The Cranberries</td>\n",
       "      <td>artist</td>\n",
       "    </tr>\n",
       "    <tr>\n",
       "      <th>10</th>\n",
       "      <td>72OaDtakiy6yFqkt4TsiFt</td>\n",
       "      <td>Cher</td>\n",
       "      <td>artist</td>\n",
       "    </tr>\n",
       "    <tr>\n",
       "      <th>11</th>\n",
       "      <td>74rnJF4h8ScpbyEhLholBg</td>\n",
       "      <td>Archer Marsh</td>\n",
       "      <td>artist</td>\n",
       "    </tr>\n",
       "    <tr>\n",
       "      <th>12</th>\n",
       "      <td>0TnOYISbd1XYRBk9myaseg</td>\n",
       "      <td>Pitbull</td>\n",
       "      <td>artist</td>\n",
       "    </tr>\n",
       "    <tr>\n",
       "      <th>13</th>\n",
       "      <td>4D75GcNG95ebPtNvoNVXhz</td>\n",
       "      <td>AFROJACK</td>\n",
       "      <td>artist</td>\n",
       "    </tr>\n",
       "    <tr>\n",
       "      <th>14</th>\n",
       "      <td>21E3waRsmPlU7jZsS13rcj</td>\n",
       "      <td>Ne-Yo</td>\n",
       "      <td>artist</td>\n",
       "    </tr>\n",
       "    <tr>\n",
       "      <th>15</th>\n",
       "      <td>1ruutHJcECI7cos2n5TqpO</td>\n",
       "      <td>Nayer</td>\n",
       "      <td>artist</td>\n",
       "    </tr>\n",
       "    <tr>\n",
       "      <th>17</th>\n",
       "      <td>7uaIm6Pw7xplS8Dy06V6pT</td>\n",
       "      <td>Trevor Daniel</td>\n",
       "      <td>artist</td>\n",
       "    </tr>\n",
       "    <tr>\n",
       "      <th>18</th>\n",
       "      <td>2wUjUUtkb5lvLKcGKsKqsR</td>\n",
       "      <td>Alessia Cara</td>\n",
       "      <td>artist</td>\n",
       "    </tr>\n",
       "    <tr>\n",
       "      <th>19</th>\n",
       "      <td>6MDME20pz9RveH9rEXvrOM</td>\n",
       "      <td>Clean Bandit</td>\n",
       "      <td>artist</td>\n",
       "    </tr>\n",
       "    <tr>\n",
       "      <th>20</th>\n",
       "      <td>3Isy6kedDrgPYoTS1dazA9</td>\n",
       "      <td>Sean Paul</td>\n",
       "      <td>artist</td>\n",
       "    </tr>\n",
       "    <tr>\n",
       "      <th>21</th>\n",
       "      <td>1zNqDE7qDGCsyzJwohVaoX</td>\n",
       "      <td>Anne-Marie</td>\n",
       "      <td>artist</td>\n",
       "    </tr>\n",
       "    <tr>\n",
       "      <th>22</th>\n",
       "      <td>22wbnEMDvgVIAGdFeek6ET</td>\n",
       "      <td>Benson Boone</td>\n",
       "      <td>artist</td>\n",
       "    </tr>\n",
       "    <tr>\n",
       "      <th>23</th>\n",
       "      <td>4lhUHpVOXmkEBGGHV71QCh</td>\n",
       "      <td>Chance Peña</td>\n",
       "      <td>artist</td>\n",
       "    </tr>\n",
       "    <tr>\n",
       "      <th>25</th>\n",
       "      <td>6Q192DXotxtaysaqNPy5yR</td>\n",
       "      <td>Amy Winehouse</td>\n",
       "      <td>artist</td>\n",
       "    </tr>\n",
       "  </tbody>\n",
       "</table>\n",
       "</div>"
      ],
      "text/plain": [
       "                spotify_id      artist_name artist_type\n",
       "0   25u4wHJWxCA9vO0CzxAbK7     Lukas Graham      artist\n",
       "1   4gzpq5DPGxSnKTe4SA8HAU         Coldplay      artist\n",
       "3   2wY79sveU1sp5g7SokKOiI        Sam Smith      artist\n",
       "4   33NVpKoXjItPwUJTMZIOiY    David Kushner      artist\n",
       "7   5pKCCKE2ajJHZ9KAiaK11H          Rihanna      artist\n",
       "8   1buzCmyYZE4kcdLRudsb8V       Mikky Ekko      artist\n",
       "9   7t0rwkOPGlDPEhaOcVtOt9  The Cranberries      artist\n",
       "10  72OaDtakiy6yFqkt4TsiFt             Cher      artist\n",
       "11  74rnJF4h8ScpbyEhLholBg     Archer Marsh      artist\n",
       "12  0TnOYISbd1XYRBk9myaseg          Pitbull      artist\n",
       "13  4D75GcNG95ebPtNvoNVXhz         AFROJACK      artist\n",
       "14  21E3waRsmPlU7jZsS13rcj            Ne-Yo      artist\n",
       "15  1ruutHJcECI7cos2n5TqpO            Nayer      artist\n",
       "17  7uaIm6Pw7xplS8Dy06V6pT    Trevor Daniel      artist\n",
       "18  2wUjUUtkb5lvLKcGKsKqsR     Alessia Cara      artist\n",
       "19  6MDME20pz9RveH9rEXvrOM     Clean Bandit      artist\n",
       "20  3Isy6kedDrgPYoTS1dazA9        Sean Paul      artist\n",
       "21  1zNqDE7qDGCsyzJwohVaoX       Anne-Marie      artist\n",
       "22  22wbnEMDvgVIAGdFeek6ET     Benson Boone      artist\n",
       "23  4lhUHpVOXmkEBGGHV71QCh      Chance Peña      artist\n",
       "25  6Q192DXotxtaysaqNPy5yR    Amy Winehouse      artist"
      ]
     },
     "execution_count": 18,
     "metadata": {},
     "output_type": "execute_result"
    }
   ],
   "source": [
    "df_artists = pd.DataFrame(artist_list)\n",
    "df_artists = df_artists.drop(columns=['href','uri','external_urls'])\n",
    "df_artists = df_artists.rename(columns={'id':'spotify_id','name':'artist_name','type':'artist_type'})\n",
    "df_artists.drop_duplicates(inplace=True)\n",
    "df_artists"
   ]
  },
  {
   "cell_type": "markdown",
   "id": "a73e774c",
   "metadata": {},
   "source": [
    "#### Load (Type 1 SCD)"
   ]
  },
  {
   "cell_type": "code",
   "execution_count": 19,
   "id": "b9bfd9c0",
   "metadata": {},
   "outputs": [],
   "source": [
    "with open('SQL_CREDENTIALS.json', 'r') as file:\n",
    "    cred = json.loads(file.read())\n",
    "    \n",
    "user = cred['user']\n",
    "pswd = cred['pass']\n",
    "host = cred['host']\n",
    "\n",
    "target_engine = create_engine(f'mysql+mysqlconnector://{user}:{pswd}@{host}:3306/spotify_db')\n"
   ]
  },
  {
   "cell_type": "code",
   "execution_count": 27,
   "id": "70242c07",
   "metadata": {},
   "outputs": [],
   "source": [
    "metadata = MetaData()\n",
    "\n",
    "# Define the dimension table schema\n",
    "dim_table = Table('DIM_ARTIST', metadata,\n",
    "    Column('artist_wid', Integer, primary_key=True, autoincrement=True),\n",
    "    Column('spotify_id', String(255), nullable=False, unique=True),\n",
    "    Column('artist_name', String(255)),\n",
    "    Column('artist_type', String(255))\n",
    ")"
   ]
  },
  {
   "cell_type": "code",
   "execution_count": 29,
   "id": "3c21b684",
   "metadata": {},
   "outputs": [],
   "source": [
    "list_of_records = df_artists.to_dict(orient='records')\n",
    "\n",
    "with target_engine.connect() as connection:\n",
    "    # Create the insert statement with ON DUPLICATE KEY UPDATE\n",
    "    insert_stmt = insert(dim_table).values(list_of_records)\n",
    "    upsert_stmt = insert_stmt.on_duplicate_key_update(\n",
    "        artist_name=insert_stmt.inserted.artist_name,\n",
    "        artist_type=insert_stmt.inserted.artist_type\n",
    "    )\n",
    "\n",
    "    # Execute the upsert statement\n",
    "    connection.execute(upsert_stmt)"
   ]
  },
  {
   "cell_type": "code",
   "execution_count": null,
   "id": "62ff8294",
   "metadata": {},
   "outputs": [],
   "source": []
  },
  {
   "cell_type": "code",
   "execution_count": 75,
   "id": "c3c441f9",
   "metadata": {},
   "outputs": [],
   "source": [
    "with open('SQL_CREDENTIALS.json', 'r') as file:\n",
    "    cred = json.loads(file.read())\n",
    "    \n",
    "user = cred['user']\n",
    "pswd = cred['pass']\n",
    "host = cred['host']\n",
    "\n",
    "target_engine = create_engine(f'mysql+mysqlconnector://{user}:{pswd}@{host}:3306/spotify_db')\n",
    "\n",
    "with target_engine.connect() as connection:\n",
    "    dim_artist = pd.read_sql_table(\"DIM_ARTIST\", con=connection)\n",
    "    \n",
    "df_combined = df_artists.join(dim_artist, on=[\"spotify_id\"], how=\"left\", rsuffix='_dim')\n",
    "df_inserts = df_combined[df_combined['artist_wid'].isnull()][['spotify_id','artist_name','artist_type']]\n",
    "df_updates = df_combined.dropna(subset=['artist_wid'])\n",
    "\n",
    "with target_engine.connect() as connection:\n",
    "    df_inserts.to_sql(name='DIM_ARTIST', con=connection, if_exists='append', index=False)"
   ]
  },
  {
   "cell_type": "markdown",
   "id": "e5d5a7b4",
   "metadata": {},
   "source": [
    "### DIM_SONG"
   ]
  },
  {
   "cell_type": "code",
   "execution_count": 17,
   "id": "6dc4ca9a",
   "metadata": {},
   "outputs": [
    {
     "data": {
      "text/plain": [
       "dict_keys(['album', 'artists', 'disc_number', 'duration_ms', 'explicit', 'external_ids', 'external_urls', 'href', 'id', 'is_local', 'name', 'popularity', 'preview_url', 'track_number', 'type', 'uri'])"
      ]
     },
     "execution_count": 17,
     "metadata": {},
     "output_type": "execute_result"
    }
   ],
   "source": [
    "history[0]['track'].keys()"
   ]
  },
  {
   "cell_type": "code",
   "execution_count": 18,
   "id": "ab85fc80",
   "metadata": {},
   "outputs": [
    {
     "data": {
      "text/plain": [
       "{'album': {'album_type': 'single',\n",
       "  'artists': [{'external_urls': {'spotify': 'https://open.spotify.com/artist/5pKCCKE2ajJHZ9KAiaK11H'},\n",
       "    'href': 'https://api.spotify.com/v1/artists/5pKCCKE2ajJHZ9KAiaK11H',\n",
       "    'id': '5pKCCKE2ajJHZ9KAiaK11H',\n",
       "    'name': 'Rihanna',\n",
       "    'type': 'artist',\n",
       "    'uri': 'spotify:artist:5pKCCKE2ajJHZ9KAiaK11H'},\n",
       "   {'external_urls': {'spotify': 'https://open.spotify.com/artist/5K4W6rqBFWDnAN6FQUkS6x'},\n",
       "    'href': 'https://api.spotify.com/v1/artists/5K4W6rqBFWDnAN6FQUkS6x',\n",
       "    'id': '5K4W6rqBFWDnAN6FQUkS6x',\n",
       "    'name': 'Kanye West',\n",
       "    'type': 'artist',\n",
       "    'uri': 'spotify:artist:5K4W6rqBFWDnAN6FQUkS6x'},\n",
       "   {'external_urls': {'spotify': 'https://open.spotify.com/artist/4STHEaNw4mPZ2tzheohgXB'},\n",
       "    'href': 'https://api.spotify.com/v1/artists/4STHEaNw4mPZ2tzheohgXB',\n",
       "    'id': '4STHEaNw4mPZ2tzheohgXB',\n",
       "    'name': 'Paul McCartney',\n",
       "    'type': 'artist',\n",
       "    'uri': 'spotify:artist:4STHEaNw4mPZ2tzheohgXB'}],\n",
       "  'external_urls': {'spotify': 'https://open.spotify.com/album/7yBl4uFyJzH48Vy6tPieXL'},\n",
       "  'href': 'https://api.spotify.com/v1/albums/7yBl4uFyJzH48Vy6tPieXL',\n",
       "  'id': '7yBl4uFyJzH48Vy6tPieXL',\n",
       "  'images': [{'height': 640,\n",
       "    'url': 'https://i.scdn.co/image/ab67616d0000b27336a9ed72b45e54ff307641be',\n",
       "    'width': 640},\n",
       "   {'height': 300,\n",
       "    'url': 'https://i.scdn.co/image/ab67616d00001e0236a9ed72b45e54ff307641be',\n",
       "    'width': 300},\n",
       "   {'height': 64,\n",
       "    'url': 'https://i.scdn.co/image/ab67616d0000485136a9ed72b45e54ff307641be',\n",
       "    'width': 64}],\n",
       "  'name': 'FourFiveSeconds',\n",
       "  'release_date': '2015-01-24',\n",
       "  'release_date_precision': 'day',\n",
       "  'total_tracks': 1,\n",
       "  'type': 'album',\n",
       "  'uri': 'spotify:album:7yBl4uFyJzH48Vy6tPieXL'},\n",
       " 'artists': [{'external_urls': {'spotify': 'https://open.spotify.com/artist/5pKCCKE2ajJHZ9KAiaK11H'},\n",
       "   'href': 'https://api.spotify.com/v1/artists/5pKCCKE2ajJHZ9KAiaK11H',\n",
       "   'id': '5pKCCKE2ajJHZ9KAiaK11H',\n",
       "   'name': 'Rihanna',\n",
       "   'type': 'artist',\n",
       "   'uri': 'spotify:artist:5pKCCKE2ajJHZ9KAiaK11H'},\n",
       "  {'external_urls': {'spotify': 'https://open.spotify.com/artist/5K4W6rqBFWDnAN6FQUkS6x'},\n",
       "   'href': 'https://api.spotify.com/v1/artists/5K4W6rqBFWDnAN6FQUkS6x',\n",
       "   'id': '5K4W6rqBFWDnAN6FQUkS6x',\n",
       "   'name': 'Kanye West',\n",
       "   'type': 'artist',\n",
       "   'uri': 'spotify:artist:5K4W6rqBFWDnAN6FQUkS6x'},\n",
       "  {'external_urls': {'spotify': 'https://open.spotify.com/artist/4STHEaNw4mPZ2tzheohgXB'},\n",
       "   'href': 'https://api.spotify.com/v1/artists/4STHEaNw4mPZ2tzheohgXB',\n",
       "   'id': '4STHEaNw4mPZ2tzheohgXB',\n",
       "   'name': 'Paul McCartney',\n",
       "   'type': 'artist',\n",
       "   'uri': 'spotify:artist:4STHEaNw4mPZ2tzheohgXB'}],\n",
       " 'disc_number': 1,\n",
       " 'duration_ms': 188238,\n",
       " 'explicit': False,\n",
       " 'external_ids': {'isrc': 'USJMT1500001'},\n",
       " 'external_urls': {'spotify': 'https://open.spotify.com/track/78TTtXnFQPzwqlbtbwqN0y'},\n",
       " 'href': 'https://api.spotify.com/v1/tracks/78TTtXnFQPzwqlbtbwqN0y',\n",
       " 'id': '78TTtXnFQPzwqlbtbwqN0y',\n",
       " 'is_local': False,\n",
       " 'name': 'FourFiveSeconds',\n",
       " 'popularity': 77,\n",
       " 'preview_url': 'https://p.scdn.co/mp3-preview/6fdd4470dabeaf54e72b566a4f8f2d064236927f?cid=96c6271f82bb42638facf3898032ddb7',\n",
       " 'track_number': 1,\n",
       " 'type': 'track',\n",
       " 'uri': 'spotify:track:78TTtXnFQPzwqlbtbwqN0y'}"
      ]
     },
     "execution_count": 18,
     "metadata": {},
     "output_type": "execute_result"
    }
   ],
   "source": [
    "history[0]['track']"
   ]
  }
 ],
 "metadata": {
  "kernelspec": {
   "display_name": "Python 3 (ipykernel)",
   "language": "python",
   "name": "python3"
  },
  "language_info": {
   "codemirror_mode": {
    "name": "ipython",
    "version": 3
   },
   "file_extension": ".py",
   "mimetype": "text/x-python",
   "name": "python",
   "nbconvert_exporter": "python",
   "pygments_lexer": "ipython3",
   "version": "3.9.13"
  }
 },
 "nbformat": 4,
 "nbformat_minor": 5
}
