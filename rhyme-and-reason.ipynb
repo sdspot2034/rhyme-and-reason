{
 "cells": [
  {
   "cell_type": "code",
   "execution_count": 1,
   "id": "90f23e5a",
   "metadata": {},
   "outputs": [],
   "source": [
    "import json\n",
    "from authorization import SpotifyAuth"
   ]
  },
  {
   "cell_type": "code",
   "execution_count": 2,
   "id": "d707fdc9",
   "metadata": {},
   "outputs": [],
   "source": [
    "%load_ext autoreload"
   ]
  },
  {
   "cell_type": "code",
   "execution_count": 3,
   "id": "7f56649d",
   "metadata": {},
   "outputs": [],
   "source": [
    "%autoreload 2"
   ]
  },
  {
   "cell_type": "code",
   "execution_count": 4,
   "id": "68a74422",
   "metadata": {
    "scrolled": false
   },
   "outputs": [],
   "source": [
    "with open('client-secrets-rnr.json','r+') as secrets_file:\n",
    "    secrets = json.load(secrets_file)\n",
    "\n",
    "client_id = secrets[\"client_id\"]\n",
    "client_secret = secrets[\"client_secret\"]\n",
    "redirect_url = secrets[\"redirect_url\"]"
   ]
  },
  {
   "cell_type": "code",
   "execution_count": 5,
   "id": "7c969b1d",
   "metadata": {
    "scrolled": true
   },
   "outputs": [],
   "source": [
    "spotify_authorisation = SpotifyAuth(client_id=client_id, client_secret=client_secret, redirect_url=redirect_url)\n",
    "spotify_authorisation.set_access_token_from_file('access_token.json')"
   ]
  },
  {
   "cell_type": "markdown",
   "id": "ec6cd9cf",
   "metadata": {},
   "source": [
    "# Get User Details"
   ]
  },
  {
   "cell_type": "code",
   "execution_count": 6,
   "id": "9cbe8ed2",
   "metadata": {},
   "outputs": [],
   "source": [
    "import spotify_functions as spotify"
   ]
  },
  {
   "cell_type": "code",
   "execution_count": 7,
   "id": "bd3ebc1c",
   "metadata": {},
   "outputs": [
    {
     "data": {
      "text/plain": [
       "{'display_name': 'sdspot2034',\n",
       " 'external_urls': {'spotify': 'https://open.spotify.com/user/sdspot2034'},\n",
       " 'href': 'https://api.spotify.com/v1/users/sdspot2034',\n",
       " 'id': 'sdspot2034',\n",
       " 'images': [{'url': 'https://i.scdn.co/image/ab67757000003b8280153af8b79b3144b24f1291',\n",
       "   'height': 64,\n",
       "   'width': 64},\n",
       "  {'url': 'https://i.scdn.co/image/ab6775700000ee8580153af8b79b3144b24f1291',\n",
       "   'height': 300,\n",
       "   'width': 300}],\n",
       " 'type': 'user',\n",
       " 'uri': 'spotify:user:sdspot2034',\n",
       " 'followers': {'href': None, 'total': 9},\n",
       " 'country': 'IN',\n",
       " 'product': 'premium',\n",
       " 'explicit_content': {'filter_enabled': False, 'filter_locked': False},\n",
       " 'email': 'shreyandas2034@gmail.com'}"
      ]
     },
     "execution_count": 7,
     "metadata": {},
     "output_type": "execute_result"
    }
   ],
   "source": [
    "spotify.get_user_details(spotify_authorisation.get_access_token())"
   ]
  },
  {
   "cell_type": "code",
   "execution_count": 8,
   "id": "27e29db8",
   "metadata": {},
   "outputs": [],
   "source": [
    "import datetime\n",
    "yesterday = datetime.datetime.now() - datetime.timedelta(days=1)\n",
    "# print(yesterday.timestamp()*1e3)\n",
    "cdc_time = int(yesterday.timestamp()*1e3)"
   ]
  },
  {
   "cell_type": "markdown",
   "id": "c45c66b4",
   "metadata": {},
   "source": [
    "# Get All Songs Played in the last one day"
   ]
  },
  {
   "cell_type": "code",
   "execution_count": 9,
   "id": "da0e887a",
   "metadata": {},
   "outputs": [],
   "source": [
    "token = spotify_authorisation.get_access_token()\n",
    "history = spotify.get_listening_history(token, cdc_time)['items']"
   ]
  },
  {
   "cell_type": "markdown",
   "id": "a2f47724",
   "metadata": {},
   "source": [
    "## EDA over recent history"
   ]
  },
  {
   "cell_type": "markdown",
   "id": "e5e8860f",
   "metadata": {},
   "source": [
    "### Number of songs played"
   ]
  },
  {
   "cell_type": "code",
   "execution_count": 10,
   "id": "30b4c792",
   "metadata": {},
   "outputs": [
    {
     "data": {
      "text/plain": [
       "38"
      ]
     },
     "execution_count": 10,
     "metadata": {},
     "output_type": "execute_result"
    }
   ],
   "source": [
    "len(history)"
   ]
  },
  {
   "cell_type": "markdown",
   "id": "af449a03",
   "metadata": {},
   "source": [
    "### Fetch details of a song"
   ]
  },
  {
   "cell_type": "markdown",
   "id": "0c0a32cf",
   "metadata": {},
   "source": [
    "#### See available data for a song"
   ]
  },
  {
   "cell_type": "code",
   "execution_count": 11,
   "id": "db0a7fed",
   "metadata": {
    "scrolled": true
   },
   "outputs": [
    {
     "data": {
      "text/plain": [
       "dict_keys(['track', 'played_at', 'context'])"
      ]
     },
     "execution_count": 11,
     "metadata": {},
     "output_type": "execute_result"
    }
   ],
   "source": [
    "history[0].keys()"
   ]
  },
  {
   "cell_type": "code",
   "execution_count": 12,
   "id": "84306bbe",
   "metadata": {},
   "outputs": [
    {
     "data": {
      "text/plain": [
       "['album',\n",
       " 'artists',\n",
       " 'disc_number',\n",
       " 'duration_ms',\n",
       " 'explicit',\n",
       " 'external_ids',\n",
       " 'external_urls',\n",
       " 'href',\n",
       " 'id',\n",
       " 'is_local',\n",
       " 'name',\n",
       " 'popularity',\n",
       " 'preview_url',\n",
       " 'track_number',\n",
       " 'type',\n",
       " 'uri']"
      ]
     },
     "execution_count": 12,
     "metadata": {},
     "output_type": "execute_result"
    }
   ],
   "source": [
    "list(history[0]['track'].keys())"
   ]
  },
  {
   "cell_type": "code",
   "execution_count": 13,
   "id": "49f220b3",
   "metadata": {},
   "outputs": [
    {
     "data": {
      "text/plain": [
       "'2024-08-08T16:58:09.773Z'"
      ]
     },
     "execution_count": 13,
     "metadata": {},
     "output_type": "execute_result"
    }
   ],
   "source": [
    "history[0]['played_at']"
   ]
  },
  {
   "cell_type": "code",
   "execution_count": 14,
   "id": "a7e3e817",
   "metadata": {},
   "outputs": [
    {
     "name": "stdout",
     "output_type": "stream",
     "text": [
      "None\n"
     ]
    }
   ],
   "source": [
    "print(history[0]['context'])"
   ]
  },
  {
   "cell_type": "markdown",
   "id": "11c177d0",
   "metadata": {},
   "source": [
    "# Transform"
   ]
  },
  {
   "cell_type": "markdown",
   "id": "e4c610a6",
   "metadata": {},
   "source": [
    "## Dimensions"
   ]
  },
  {
   "cell_type": "markdown",
   "id": "a9d06bd6",
   "metadata": {},
   "source": [
    "### DIM_ARTIST"
   ]
  },
  {
   "cell_type": "code",
   "execution_count": 15,
   "id": "c5339881",
   "metadata": {},
   "outputs": [],
   "source": [
    "import pandas as pd\n",
    "from sqlalchemy import Table, MetaData, Column, Integer, String\n",
    "import sql_functions"
   ]
  },
  {
   "cell_type": "code",
   "execution_count": 16,
   "id": "8270c0ce",
   "metadata": {},
   "outputs": [],
   "source": [
    "# stacked list-comprehension\n",
    "artist_list = [artist for artists in [play['track']['artists'] for play in history] for artist in artists]"
   ]
  },
  {
   "cell_type": "code",
   "execution_count": 24,
   "id": "857f220b",
   "metadata": {},
   "outputs": [],
   "source": [
    "df_artists = pd.DataFrame(artist_list)\n",
    "df_artists = df_artists.drop(columns=['href','uri','external_urls'])\n",
    "df_artists = df_artists.rename(columns={'id':'spotify_id','name':'artist_name','type':'artist_type'})\n",
    "df_artists.drop_duplicates(inplace=True)\n",
    "# df_artists"
   ]
  },
  {
   "cell_type": "markdown",
   "id": "a73e774c",
   "metadata": {},
   "source": [
    "#### Load (Type 1 SCD)"
   ]
  },
  {
   "cell_type": "code",
   "execution_count": 25,
   "id": "70242c07",
   "metadata": {},
   "outputs": [],
   "source": [
    "metadata = MetaData()\n",
    "\n",
    "# Define the dimension table schema\n",
    "dim_table = Table('DIM_ARTIST', metadata,\n",
    "    Column('artist_wid', Integer, primary_key=True, autoincrement=True),\n",
    "    Column('spotify_id', String(255), nullable=False, unique=True),\n",
    "    Column('artist_name', String(255)),\n",
    "    Column('artist_type', String(255))\n",
    ")"
   ]
  },
  {
   "cell_type": "code",
   "execution_count": 26,
   "id": "f49b3ea7",
   "metadata": {},
   "outputs": [],
   "source": [
    "sql_functions.save_to_sql(df_artists, dim_table, key_cols=['spotify_id'], wid=['artist_wid'], mode='upsert')"
   ]
  },
  {
   "cell_type": "markdown",
   "id": "d68134f1",
   "metadata": {},
   "source": [
    "### DIM_ALBUM"
   ]
  },
  {
   "cell_type": "code",
   "execution_count": 27,
   "id": "5492f9d9",
   "metadata": {},
   "outputs": [],
   "source": [
    "album_list = [play['track']['album'] for play in history]"
   ]
  },
  {
   "cell_type": "code",
   "execution_count": 28,
   "id": "fd06e54a",
   "metadata": {},
   "outputs": [],
   "source": [
    "def get_url(x,height=640):\n",
    "    for elem in x:\n",
    "        if elem['height'] == height: return elem['url']\n",
    "    return None"
   ]
  },
  {
   "cell_type": "code",
   "execution_count": 29,
   "id": "7e2b1368",
   "metadata": {},
   "outputs": [],
   "source": [
    "df_album = pd.DataFrame(album_list)\n",
    "df_album['cover_image_url'] = df_album['images'].apply(get_url)\n",
    "df_album = df_album.drop(columns=['href','uri','external_urls', 'images','artists','type'])\n",
    "df_album = df_album.drop_duplicates()\n",
    "df_album = df_album.rename(columns={'id':'album_id','name':'album_name'})\n",
    "# df_album"
   ]
  },
  {
   "cell_type": "markdown",
   "id": "eb9c8864",
   "metadata": {},
   "source": [
    "#### Load (Type 1 SCD)"
   ]
  },
  {
   "cell_type": "code",
   "execution_count": 30,
   "id": "a22f2153",
   "metadata": {},
   "outputs": [],
   "source": [
    "from sqlalchemy import MetaData, Table, Column, Integer, String, Text, Date\n",
    "\n",
    "metadata = MetaData()\n",
    "\n",
    "dim_album = Table(\n",
    "    'DIM_ALBUM', metadata,\n",
    "    Column('album_wid', Integer, primary_key=True, autoincrement=True),\n",
    "    Column('album_id', String(62), nullable=False, unique=True),\n",
    "    Column('album_type', String(20), nullable=False),\n",
    "    Column('album_name', Text, nullable=False),\n",
    "    Column('release_date', Date),\n",
    "    Column('release_date_precision', String(20)),\n",
    "    Column('total_tracks', Integer),\n",
    "    Column('cover_image_url', Text)\n",
    ")"
   ]
  },
  {
   "cell_type": "code",
   "execution_count": 31,
   "id": "6676c463",
   "metadata": {},
   "outputs": [],
   "source": [
    "sql_functions.save_to_sql(df_album, dim_album, key_cols = ['album_id'], wid = ['album_wid'], mode = 'upsert')"
   ]
  },
  {
   "cell_type": "markdown",
   "id": "2da54bec",
   "metadata": {},
   "source": [
    "### BRIDGE_ALBUM_ARTIST"
   ]
  },
  {
   "cell_type": "code",
   "execution_count": 33,
   "id": "1678e939",
   "metadata": {},
   "outputs": [],
   "source": [
    "dim_artist = sql_functions.read_from_sql('DIM_ARTIST')\n",
    "dim_album = sql_functions.read_from_sql('DIM_ALBUM')\n",
    "df_album = pd.DataFrame(album_list)\n",
    "df_album_map = df_album[['id','artists']]\n",
    "df_album_map = df_album_map.explode('artists')\n",
    "df_album_map['artist_id'] = df_album_map['artists'].apply(lambda x:x['id'])\n",
    "df_album_map = df_album_map.drop(columns=['artists'])\n",
    "# df_album_map"
   ]
  },
  {
   "cell_type": "code",
   "execution_count": 37,
   "id": "95df969f",
   "metadata": {},
   "outputs": [],
   "source": [
    "# Join with DIM_ARTIST, DIM_ALBUM to get ARTIST_WID, ALBUM_WID\n",
    "df_bridge_album_artist = df_album_map.merge(dim_artist, left_on='artist_id', right_on='spotify_id')\n",
    "df_bridge_album_artist = df_bridge_album_artist.merge(dim_album, left_on='id', right_on='album_id')\n",
    "df_bridge_album_artist = df_bridge_album_artist[['album_wid','artist_wid']]\n",
    "df_bridge_album_artist = df_bridge_album_artist.drop_duplicates()\n",
    "# df_bridge_album_artist"
   ]
  },
  {
   "cell_type": "markdown",
   "id": "bce462cc",
   "metadata": {},
   "source": [
    "#### Load (Type 1 SCD)"
   ]
  },
  {
   "cell_type": "code",
   "execution_count": 38,
   "id": "ded1d4eb",
   "metadata": {},
   "outputs": [],
   "source": [
    "from sqlalchemy import MetaData, Table, Column, Integer\n",
    "\n",
    "metadata = MetaData()\n",
    "\n",
    "bridge_album_artist = Table(\n",
    "    'BRIDGE_ALBUM_ARTIST', metadata,\n",
    "    Column('album_artist_map_wid', Integer, primary_key=True, autoincrement=True),\n",
    "    Column('album_wid', Integer, nullable=False),\n",
    "    Column('artist_wid', Integer, nullable=False)\n",
    ")"
   ]
  },
  {
   "cell_type": "code",
   "execution_count": 39,
   "id": "ba0390b8",
   "metadata": {},
   "outputs": [],
   "source": [
    "sql_functions.save_to_sql(\n",
    "    df_bridge_album_artist\n",
    "    , bridge_album_artist\n",
    "    , key_cols = ['album_wid', 'artist_wid']\n",
    "    , wid = ['album_artist_map_wid']\n",
    "    , mode = 'ignore'\n",
    ")"
   ]
  },
  {
   "cell_type": "markdown",
   "id": "e5d5a7b4",
   "metadata": {},
   "source": [
    "### DIM_SONG"
   ]
  },
  {
   "cell_type": "code",
   "execution_count": 59,
   "id": "7f9a0da7",
   "metadata": {},
   "outputs": [],
   "source": [
    "dim_album = sql_functions.read_from_sql('DIM_ALBUM')"
   ]
  },
  {
   "cell_type": "code",
   "execution_count": 60,
   "id": "6dc4ca9a",
   "metadata": {},
   "outputs": [
    {
     "data": {
      "text/plain": [
       "dict_keys(['album', 'artists', 'disc_number', 'duration_ms', 'explicit', 'external_ids', 'external_urls', 'href', 'id', 'is_local', 'name', 'popularity', 'preview_url', 'track_number', 'type', 'uri'])"
      ]
     },
     "execution_count": 60,
     "metadata": {},
     "output_type": "execute_result"
    }
   ],
   "source": [
    "history[0]['track'].keys()"
   ]
  },
  {
   "cell_type": "code",
   "execution_count": 61,
   "id": "ab85fc80",
   "metadata": {},
   "outputs": [
    {
     "data": {
      "text/plain": [
       "{'album': {'album_type': 'single',\n",
       "  'artists': [{'external_urls': {'spotify': 'https://open.spotify.com/artist/6qqNVTkY8uBg9cP3Jd7DAH'},\n",
       "    'href': 'https://api.spotify.com/v1/artists/6qqNVTkY8uBg9cP3Jd7DAH',\n",
       "    'id': '6qqNVTkY8uBg9cP3Jd7DAH',\n",
       "    'name': 'Billie Eilish',\n",
       "    'type': 'artist',\n",
       "    'uri': 'spotify:artist:6qqNVTkY8uBg9cP3Jd7DAH'}],\n",
       "  'external_urls': {'spotify': 'https://open.spotify.com/album/3AafSrFIbJPH6BJHiJm1Cd'},\n",
       "  'href': 'https://api.spotify.com/v1/albums/3AafSrFIbJPH6BJHiJm1Cd',\n",
       "  'id': '3AafSrFIbJPH6BJHiJm1Cd',\n",
       "  'images': [{'height': 640,\n",
       "    'url': 'https://i.scdn.co/image/ab67616d0000b273ed317ec13d3de9e01fb99c9e',\n",
       "    'width': 640},\n",
       "   {'height': 300,\n",
       "    'url': 'https://i.scdn.co/image/ab67616d00001e02ed317ec13d3de9e01fb99c9e',\n",
       "    'width': 300},\n",
       "   {'height': 64,\n",
       "    'url': 'https://i.scdn.co/image/ab67616d00004851ed317ec13d3de9e01fb99c9e',\n",
       "    'width': 64}],\n",
       "  'name': 'What Was I Made For? [From The Motion Picture \"Barbie\"]',\n",
       "  'release_date': '2023-07-13',\n",
       "  'release_date_precision': 'day',\n",
       "  'total_tracks': 1,\n",
       "  'type': 'album',\n",
       "  'uri': 'spotify:album:3AafSrFIbJPH6BJHiJm1Cd'},\n",
       " 'artists': [{'external_urls': {'spotify': 'https://open.spotify.com/artist/6qqNVTkY8uBg9cP3Jd7DAH'},\n",
       "   'href': 'https://api.spotify.com/v1/artists/6qqNVTkY8uBg9cP3Jd7DAH',\n",
       "   'id': '6qqNVTkY8uBg9cP3Jd7DAH',\n",
       "   'name': 'Billie Eilish',\n",
       "   'type': 'artist',\n",
       "   'uri': 'spotify:artist:6qqNVTkY8uBg9cP3Jd7DAH'}],\n",
       " 'disc_number': 1,\n",
       " 'duration_ms': 222369,\n",
       " 'explicit': False,\n",
       " 'external_ids': {'isrc': 'USUM72307484'},\n",
       " 'external_urls': {'spotify': 'https://open.spotify.com/track/6wf7Yu7cxBSPrRlWeSeK0Q'},\n",
       " 'href': 'https://api.spotify.com/v1/tracks/6wf7Yu7cxBSPrRlWeSeK0Q',\n",
       " 'id': '6wf7Yu7cxBSPrRlWeSeK0Q',\n",
       " 'is_local': False,\n",
       " 'name': 'What Was I Made For? [From The Motion Picture \"Barbie\"]',\n",
       " 'popularity': 87,\n",
       " 'preview_url': 'https://p.scdn.co/mp3-preview/e58c595e821ffdbd514afa7c8baa20c4bdf74a4a?cid=96c6271f82bb42638facf3898032ddb7',\n",
       " 'track_number': 1,\n",
       " 'type': 'track',\n",
       " 'uri': 'spotify:track:6wf7Yu7cxBSPrRlWeSeK0Q'}"
      ]
     },
     "execution_count": 61,
     "metadata": {},
     "output_type": "execute_result"
    }
   ],
   "source": [
    "history[0]['track']"
   ]
  },
  {
   "cell_type": "code",
   "execution_count": 62,
   "id": "83ffb2a8",
   "metadata": {},
   "outputs": [],
   "source": [
    "track_list = [play['track'] for play in history]"
   ]
  },
  {
   "cell_type": "code",
   "execution_count": 66,
   "id": "88a2c556",
   "metadata": {
    "scrolled": true
   },
   "outputs": [
    {
     "data": {
      "text/html": [
       "<div>\n",
       "<style scoped>\n",
       "    .dataframe tbody tr th:only-of-type {\n",
       "        vertical-align: middle;\n",
       "    }\n",
       "\n",
       "    .dataframe tbody tr th {\n",
       "        vertical-align: top;\n",
       "    }\n",
       "\n",
       "    .dataframe thead th {\n",
       "        text-align: right;\n",
       "    }\n",
       "</style>\n",
       "<table border=\"1\" class=\"dataframe\">\n",
       "  <thead>\n",
       "    <tr style=\"text-align: right;\">\n",
       "      <th></th>\n",
       "      <th>disc_number</th>\n",
       "      <th>duration_ms</th>\n",
       "      <th>explicit</th>\n",
       "      <th>song_id</th>\n",
       "      <th>is_local</th>\n",
       "      <th>name</th>\n",
       "      <th>preview_url</th>\n",
       "      <th>track_number</th>\n",
       "      <th>type</th>\n",
       "      <th>isrc_id</th>\n",
       "      <th>album_wid</th>\n",
       "    </tr>\n",
       "  </thead>\n",
       "  <tbody>\n",
       "    <tr>\n",
       "      <th>0</th>\n",
       "      <td>1</td>\n",
       "      <td>222369</td>\n",
       "      <td>False</td>\n",
       "      <td>6wf7Yu7cxBSPrRlWeSeK0Q</td>\n",
       "      <td>False</td>\n",
       "      <td>What Was I Made For? [From The Motion Picture ...</td>\n",
       "      <td>https://p.scdn.co/mp3-preview/e58c595e821ffdbd...</td>\n",
       "      <td>1</td>\n",
       "      <td>track</td>\n",
       "      <td>USUM72307484</td>\n",
       "      <td>34</td>\n",
       "    </tr>\n",
       "    <tr>\n",
       "      <th>6</th>\n",
       "      <td>1</td>\n",
       "      <td>236413</td>\n",
       "      <td>False</td>\n",
       "      <td>1R0a2iXumgCiFb7HEZ7gUE</td>\n",
       "      <td>False</td>\n",
       "      <td>Don’t Blame Me</td>\n",
       "      <td>https://p.scdn.co/mp3-preview/8edf06fbc7550b9c...</td>\n",
       "      <td>4</td>\n",
       "      <td>track</td>\n",
       "      <td>USCJY1750006</td>\n",
       "      <td>35</td>\n",
       "    </tr>\n",
       "    <tr>\n",
       "      <th>7</th>\n",
       "      <td>1</td>\n",
       "      <td>197960</td>\n",
       "      <td>False</td>\n",
       "      <td>5ZrDlcxIDZyjOzHdYW1ydr</td>\n",
       "      <td>False</td>\n",
       "      <td>Barbie Girl</td>\n",
       "      <td>https://p.scdn.co/mp3-preview/e50666a04ed8364e...</td>\n",
       "      <td>3</td>\n",
       "      <td>track</td>\n",
       "      <td>DKBKA9700403</td>\n",
       "      <td>36</td>\n",
       "    </tr>\n",
       "    <tr>\n",
       "      <th>8</th>\n",
       "      <td>1</td>\n",
       "      <td>109750</td>\n",
       "      <td>True</td>\n",
       "      <td>741UUVE2kuITl0c6zuqqbO</td>\n",
       "      <td>False</td>\n",
       "      <td>Barbie World (with Aqua) [From Barbie The Album]</td>\n",
       "      <td>https://p.scdn.co/mp3-preview/f654928ccaa4e6a9...</td>\n",
       "      <td>1</td>\n",
       "      <td>track</td>\n",
       "      <td>USAT22306213</td>\n",
       "      <td>37</td>\n",
       "    </tr>\n",
       "    <tr>\n",
       "      <th>11</th>\n",
       "      <td>1</td>\n",
       "      <td>176579</td>\n",
       "      <td>False</td>\n",
       "      <td>1vYXt7VSjH9JIM5oRRo7vA</td>\n",
       "      <td>False</td>\n",
       "      <td>Dance The Night - From Barbie The Album</td>\n",
       "      <td>https://p.scdn.co/mp3-preview/acaea048f50a3b30...</td>\n",
       "      <td>1</td>\n",
       "      <td>track</td>\n",
       "      <td>USAT22305457</td>\n",
       "      <td>38</td>\n",
       "    </tr>\n",
       "    <tr>\n",
       "      <th>12</th>\n",
       "      <td>1</td>\n",
       "      <td>100506</td>\n",
       "      <td>False</td>\n",
       "      <td>0QI75NHBAVISJRrlsujmP7</td>\n",
       "      <td>False</td>\n",
       "      <td>薄暮</td>\n",
       "      <td>https://p.scdn.co/mp3-preview/78c74dac476df6fc...</td>\n",
       "      <td>14</td>\n",
       "      <td>track</td>\n",
       "      <td>JPE300702474</td>\n",
       "      <td>39</td>\n",
       "    </tr>\n",
       "    <tr>\n",
       "      <th>13</th>\n",
       "      <td>1</td>\n",
       "      <td>200185</td>\n",
       "      <td>False</td>\n",
       "      <td>0u2P5u6lvoDfwTYjAADbn4</td>\n",
       "      <td>False</td>\n",
       "      <td>lovely (with Khalid)</td>\n",
       "      <td>https://p.scdn.co/mp3-preview/18b3cbbad11e488c...</td>\n",
       "      <td>1</td>\n",
       "      <td>track</td>\n",
       "      <td>USUM71804190</td>\n",
       "      <td>40</td>\n",
       "    </tr>\n",
       "    <tr>\n",
       "      <th>15</th>\n",
       "      <td>1</td>\n",
       "      <td>334743</td>\n",
       "      <td>False</td>\n",
       "      <td>6mFkJmJqdDVQ1REhVfGgd1</td>\n",
       "      <td>False</td>\n",
       "      <td>Wish You Were Here</td>\n",
       "      <td>https://p.scdn.co/mp3-preview/e3d046771206da91...</td>\n",
       "      <td>4</td>\n",
       "      <td>track</td>\n",
       "      <td>GBN9Y1100088</td>\n",
       "      <td>41</td>\n",
       "    </tr>\n",
       "    <tr>\n",
       "      <th>16</th>\n",
       "      <td>1</td>\n",
       "      <td>235493</td>\n",
       "      <td>False</td>\n",
       "      <td>2ENexcMEMsYk0rVJigVD3i</td>\n",
       "      <td>False</td>\n",
       "      <td>Only Girl (In The World)</td>\n",
       "      <td>https://p.scdn.co/mp3-preview/ee800fcd3f6b738d...</td>\n",
       "      <td>5</td>\n",
       "      <td>track</td>\n",
       "      <td>USUM71023200</td>\n",
       "      <td>42</td>\n",
       "    </tr>\n",
       "    <tr>\n",
       "      <th>17</th>\n",
       "      <td>1</td>\n",
       "      <td>187520</td>\n",
       "      <td>False</td>\n",
       "      <td>2nLtzopw4rPReszdYBJU6h</td>\n",
       "      <td>False</td>\n",
       "      <td>Numb</td>\n",
       "      <td>https://p.scdn.co/mp3-preview/d6d67b4f23b4865e...</td>\n",
       "      <td>13</td>\n",
       "      <td>track</td>\n",
       "      <td>USWB10300474</td>\n",
       "      <td>43</td>\n",
       "    </tr>\n",
       "    <tr>\n",
       "      <th>18</th>\n",
       "      <td>1</td>\n",
       "      <td>223840</td>\n",
       "      <td>False</td>\n",
       "      <td>0gmbgwZ8iqyMPmXefof8Yf</td>\n",
       "      <td>False</td>\n",
       "      <td>How You Remind Me</td>\n",
       "      <td>https://p.scdn.co/mp3-preview/94fd201045f5b682...</td>\n",
       "      <td>2</td>\n",
       "      <td>track</td>\n",
       "      <td>NLA320119533</td>\n",
       "      <td>30</td>\n",
       "    </tr>\n",
       "    <tr>\n",
       "      <th>19</th>\n",
       "      <td>1</td>\n",
       "      <td>219546</td>\n",
       "      <td>False</td>\n",
       "      <td>6cpk00i5TxCqSeqNi2HuIe</td>\n",
       "      <td>False</td>\n",
       "      <td>One More Night</td>\n",
       "      <td>https://p.scdn.co/mp3-preview/360b014557b4207b...</td>\n",
       "      <td>2</td>\n",
       "      <td>track</td>\n",
       "      <td>USUM71203514</td>\n",
       "      <td>26</td>\n",
       "    </tr>\n",
       "    <tr>\n",
       "      <th>20</th>\n",
       "      <td>1</td>\n",
       "      <td>259880</td>\n",
       "      <td>False</td>\n",
       "      <td>0cnouzAiEjdjXB5xVVQ8Vo</td>\n",
       "      <td>False</td>\n",
       "      <td>Science &amp; Faith</td>\n",
       "      <td>https://p.scdn.co/mp3-preview/77a51e7a1ef65ddc...</td>\n",
       "      <td>4</td>\n",
       "      <td>track</td>\n",
       "      <td>GBARL1000956</td>\n",
       "      <td>32</td>\n",
       "    </tr>\n",
       "    <tr>\n",
       "      <th>21</th>\n",
       "      <td>1</td>\n",
       "      <td>249120</td>\n",
       "      <td>False</td>\n",
       "      <td>5aDpULK8MbJmHl42kR5KNI</td>\n",
       "      <td>False</td>\n",
       "      <td>Collide</td>\n",
       "      <td>https://p.scdn.co/mp3-preview/2f1f947c47d145da...</td>\n",
       "      <td>3</td>\n",
       "      <td>track</td>\n",
       "      <td>USSM10310894</td>\n",
       "      <td>33</td>\n",
       "    </tr>\n",
       "    <tr>\n",
       "      <th>22</th>\n",
       "      <td>1</td>\n",
       "      <td>212040</td>\n",
       "      <td>False</td>\n",
       "      <td>273QnyCvJB65rScHJ1nPZb</td>\n",
       "      <td>False</td>\n",
       "      <td>Make You Feel My Love</td>\n",
       "      <td>https://p.scdn.co/mp3-preview/3d9582dbaa291a0b...</td>\n",
       "      <td>9</td>\n",
       "      <td>track</td>\n",
       "      <td>GBBKS0700586</td>\n",
       "      <td>22</td>\n",
       "    </tr>\n",
       "    <tr>\n",
       "      <th>23</th>\n",
       "      <td>1</td>\n",
       "      <td>195358</td>\n",
       "      <td>False</td>\n",
       "      <td>2qPSa6HXjzwa9sLhNGpA1T</td>\n",
       "      <td>False</td>\n",
       "      <td>Home</td>\n",
       "      <td>https://p.scdn.co/mp3-preview/0f2582f1af7c2e4c...</td>\n",
       "      <td>1</td>\n",
       "      <td>track</td>\n",
       "      <td>GBVHN2000009</td>\n",
       "      <td>44</td>\n",
       "    </tr>\n",
       "    <tr>\n",
       "      <th>24</th>\n",
       "      <td>1</td>\n",
       "      <td>148317</td>\n",
       "      <td>False</td>\n",
       "      <td>5uQ7de4EWjb3rkcFxyEOpu</td>\n",
       "      <td>False</td>\n",
       "      <td>Belong Together</td>\n",
       "      <td>https://p.scdn.co/mp3-preview/94cf6a4e7df25646...</td>\n",
       "      <td>1</td>\n",
       "      <td>track</td>\n",
       "      <td>QM24S2400638</td>\n",
       "      <td>45</td>\n",
       "    </tr>\n",
       "    <tr>\n",
       "      <th>25</th>\n",
       "      <td>1</td>\n",
       "      <td>157485</td>\n",
       "      <td>False</td>\n",
       "      <td>68mOSKT4uBkKddEAhlMO61</td>\n",
       "      <td>False</td>\n",
       "      <td>Home</td>\n",
       "      <td>https://p.scdn.co/mp3-preview/2b14bbe49efe7aaa...</td>\n",
       "      <td>1</td>\n",
       "      <td>track</td>\n",
       "      <td>GBUM72400322</td>\n",
       "      <td>46</td>\n",
       "    </tr>\n",
       "    <tr>\n",
       "      <th>26</th>\n",
       "      <td>1</td>\n",
       "      <td>87000</td>\n",
       "      <td>False</td>\n",
       "      <td>6me7F0aaZjwDo6RJ5MrfBD</td>\n",
       "      <td>False</td>\n",
       "      <td>Evergreen</td>\n",
       "      <td>https://p.scdn.co/mp3-preview/fca7555fba8261b7...</td>\n",
       "      <td>1</td>\n",
       "      <td>track</td>\n",
       "      <td>SEYOK1732035</td>\n",
       "      <td>47</td>\n",
       "    </tr>\n",
       "    <tr>\n",
       "      <th>27</th>\n",
       "      <td>1</td>\n",
       "      <td>153250</td>\n",
       "      <td>False</td>\n",
       "      <td>5v3MSh7CD3VNyCwAoSha5p</td>\n",
       "      <td>False</td>\n",
       "      <td>Half of forever</td>\n",
       "      <td>https://p.scdn.co/mp3-preview/2c352cf47954de11...</td>\n",
       "      <td>1</td>\n",
       "      <td>track</td>\n",
       "      <td>QZWFS2300538</td>\n",
       "      <td>48</td>\n",
       "    </tr>\n",
       "    <tr>\n",
       "      <th>28</th>\n",
       "      <td>1</td>\n",
       "      <td>145438</td>\n",
       "      <td>False</td>\n",
       "      <td>5uu2OCGGrTRS1sIvlMgKwe</td>\n",
       "      <td>False</td>\n",
       "      <td>i am not who i was</td>\n",
       "      <td>https://p.scdn.co/mp3-preview/0ba79c75f2fafd3a...</td>\n",
       "      <td>1</td>\n",
       "      <td>track</td>\n",
       "      <td>QZTPX2322912</td>\n",
       "      <td>49</td>\n",
       "    </tr>\n",
       "    <tr>\n",
       "      <th>29</th>\n",
       "      <td>1</td>\n",
       "      <td>163384</td>\n",
       "      <td>True</td>\n",
       "      <td>1mcP89qPHL3qzIPoVMN8rk</td>\n",
       "      <td>False</td>\n",
       "      <td>whore</td>\n",
       "      <td>https://p.scdn.co/mp3-preview/1694fdae9dc524d0...</td>\n",
       "      <td>7</td>\n",
       "      <td>track</td>\n",
       "      <td>USANG2221999</td>\n",
       "      <td>50</td>\n",
       "    </tr>\n",
       "    <tr>\n",
       "      <th>30</th>\n",
       "      <td>1</td>\n",
       "      <td>214632</td>\n",
       "      <td>False</td>\n",
       "      <td>7aZDcmt34eouhqw29aMR91</td>\n",
       "      <td>False</td>\n",
       "      <td>Skin and Bones</td>\n",
       "      <td>https://p.scdn.co/mp3-preview/0c5b000bbafed5ee...</td>\n",
       "      <td>1</td>\n",
       "      <td>track</td>\n",
       "      <td>QZXDB2300047</td>\n",
       "      <td>51</td>\n",
       "    </tr>\n",
       "    <tr>\n",
       "      <th>31</th>\n",
       "      <td>1</td>\n",
       "      <td>196077</td>\n",
       "      <td>False</td>\n",
       "      <td>43zdsphuZLzwA9k4DJhU0I</td>\n",
       "      <td>False</td>\n",
       "      <td>when the party's over</td>\n",
       "      <td>https://p.scdn.co/mp3-preview/2c7987ff3e992467...</td>\n",
       "      <td>7</td>\n",
       "      <td>track</td>\n",
       "      <td>USUM71815958</td>\n",
       "      <td>52</td>\n",
       "    </tr>\n",
       "    <tr>\n",
       "      <th>32</th>\n",
       "      <td>1</td>\n",
       "      <td>161567</td>\n",
       "      <td>False</td>\n",
       "      <td>5hlPrSCx9BvnQ3rCTkblMZ</td>\n",
       "      <td>False</td>\n",
       "      <td>High</td>\n",
       "      <td>https://p.scdn.co/mp3-preview/05d2a44354a8c2fc...</td>\n",
       "      <td>8</td>\n",
       "      <td>track</td>\n",
       "      <td>USUG12305749</td>\n",
       "      <td>53</td>\n",
       "    </tr>\n",
       "    <tr>\n",
       "      <th>33</th>\n",
       "      <td>1</td>\n",
       "      <td>145667</td>\n",
       "      <td>False</td>\n",
       "      <td>37vVp2sWHuuIBOSl1NswP6</td>\n",
       "      <td>False</td>\n",
       "      <td>i'm yours</td>\n",
       "      <td>https://p.scdn.co/mp3-preview/65b8e66b2df01d2d...</td>\n",
       "      <td>1</td>\n",
       "      <td>track</td>\n",
       "      <td>USRC12203917</td>\n",
       "      <td>54</td>\n",
       "    </tr>\n",
       "    <tr>\n",
       "      <th>34</th>\n",
       "      <td>1</td>\n",
       "      <td>216410</td>\n",
       "      <td>False</td>\n",
       "      <td>315aBOUD3xtj7sUMXtRgMV</td>\n",
       "      <td>False</td>\n",
       "      <td>In The Stars</td>\n",
       "      <td>https://p.scdn.co/mp3-preview/6e29e6750dcda815...</td>\n",
       "      <td>7</td>\n",
       "      <td>track</td>\n",
       "      <td>USWB12201574</td>\n",
       "      <td>55</td>\n",
       "    </tr>\n",
       "    <tr>\n",
       "      <th>35</th>\n",
       "      <td>1</td>\n",
       "      <td>161831</td>\n",
       "      <td>False</td>\n",
       "      <td>51eSHglvG1RJXtL3qI5trr</td>\n",
       "      <td>False</td>\n",
       "      <td>Slow It Down</td>\n",
       "      <td>https://p.scdn.co/mp3-preview/7ed92ba5dc69c703...</td>\n",
       "      <td>3</td>\n",
       "      <td>track</td>\n",
       "      <td>USWB12400913</td>\n",
       "      <td>55</td>\n",
       "    </tr>\n",
       "    <tr>\n",
       "      <th>36</th>\n",
       "      <td>1</td>\n",
       "      <td>211466</td>\n",
       "      <td>False</td>\n",
       "      <td>5uCax9HTNlzGybIStD3vDh</td>\n",
       "      <td>False</td>\n",
       "      <td>Say You Won't Let Go</td>\n",
       "      <td>https://p.scdn.co/mp3-preview/2eed95a3c08cd106...</td>\n",
       "      <td>2</td>\n",
       "      <td>track</td>\n",
       "      <td>DEE861600586</td>\n",
       "      <td>56</td>\n",
       "    </tr>\n",
       "    <tr>\n",
       "      <th>37</th>\n",
       "      <td>1</td>\n",
       "      <td>257533</td>\n",
       "      <td>False</td>\n",
       "      <td>7qH9Z4dJEN0l9bidizW7fq</td>\n",
       "      <td>False</td>\n",
       "      <td>Anchor</td>\n",
       "      <td>https://p.scdn.co/mp3-preview/a7679ada378b47d9...</td>\n",
       "      <td>3</td>\n",
       "      <td>track</td>\n",
       "      <td>TCACI1562836</td>\n",
       "      <td>57</td>\n",
       "    </tr>\n",
       "    <tr>\n",
       "      <th>38</th>\n",
       "      <td>1</td>\n",
       "      <td>175459</td>\n",
       "      <td>True</td>\n",
       "      <td>2qSkIjg1o9h3YT9RAgYN75</td>\n",
       "      <td>False</td>\n",
       "      <td>Espresso</td>\n",
       "      <td>https://p.scdn.co/mp3-preview/c4f4406777deb17f...</td>\n",
       "      <td>1</td>\n",
       "      <td>track</td>\n",
       "      <td>USUM72403305</td>\n",
       "      <td>58</td>\n",
       "    </tr>\n",
       "    <tr>\n",
       "      <th>39</th>\n",
       "      <td>1</td>\n",
       "      <td>172964</td>\n",
       "      <td>False</td>\n",
       "      <td>593knnQN4REEshx8th9zgK</td>\n",
       "      <td>False</td>\n",
       "      <td>Strangers</td>\n",
       "      <td>https://p.scdn.co/mp3-preview/f8e667575db490b6...</td>\n",
       "      <td>2</td>\n",
       "      <td>track</td>\n",
       "      <td>USWB12305048</td>\n",
       "      <td>59</td>\n",
       "    </tr>\n",
       "    <tr>\n",
       "      <th>40</th>\n",
       "      <td>1</td>\n",
       "      <td>206218</td>\n",
       "      <td>False</td>\n",
       "      <td>4ENjopIjOD5PKPb52NKNKo</td>\n",
       "      <td>False</td>\n",
       "      <td>Hero</td>\n",
       "      <td>https://p.scdn.co/mp3-preview/fea431c768d0d137...</td>\n",
       "      <td>1</td>\n",
       "      <td>track</td>\n",
       "      <td>QZXDB2300087</td>\n",
       "      <td>60</td>\n",
       "    </tr>\n",
       "  </tbody>\n",
       "</table>\n",
       "</div>"
      ],
      "text/plain": [
       "    disc_number  duration_ms  explicit                 song_id  is_local  \\\n",
       "0             1       222369     False  6wf7Yu7cxBSPrRlWeSeK0Q     False   \n",
       "6             1       236413     False  1R0a2iXumgCiFb7HEZ7gUE     False   \n",
       "7             1       197960     False  5ZrDlcxIDZyjOzHdYW1ydr     False   \n",
       "8             1       109750      True  741UUVE2kuITl0c6zuqqbO     False   \n",
       "11            1       176579     False  1vYXt7VSjH9JIM5oRRo7vA     False   \n",
       "12            1       100506     False  0QI75NHBAVISJRrlsujmP7     False   \n",
       "13            1       200185     False  0u2P5u6lvoDfwTYjAADbn4     False   \n",
       "15            1       334743     False  6mFkJmJqdDVQ1REhVfGgd1     False   \n",
       "16            1       235493     False  2ENexcMEMsYk0rVJigVD3i     False   \n",
       "17            1       187520     False  2nLtzopw4rPReszdYBJU6h     False   \n",
       "18            1       223840     False  0gmbgwZ8iqyMPmXefof8Yf     False   \n",
       "19            1       219546     False  6cpk00i5TxCqSeqNi2HuIe     False   \n",
       "20            1       259880     False  0cnouzAiEjdjXB5xVVQ8Vo     False   \n",
       "21            1       249120     False  5aDpULK8MbJmHl42kR5KNI     False   \n",
       "22            1       212040     False  273QnyCvJB65rScHJ1nPZb     False   \n",
       "23            1       195358     False  2qPSa6HXjzwa9sLhNGpA1T     False   \n",
       "24            1       148317     False  5uQ7de4EWjb3rkcFxyEOpu     False   \n",
       "25            1       157485     False  68mOSKT4uBkKddEAhlMO61     False   \n",
       "26            1        87000     False  6me7F0aaZjwDo6RJ5MrfBD     False   \n",
       "27            1       153250     False  5v3MSh7CD3VNyCwAoSha5p     False   \n",
       "28            1       145438     False  5uu2OCGGrTRS1sIvlMgKwe     False   \n",
       "29            1       163384      True  1mcP89qPHL3qzIPoVMN8rk     False   \n",
       "30            1       214632     False  7aZDcmt34eouhqw29aMR91     False   \n",
       "31            1       196077     False  43zdsphuZLzwA9k4DJhU0I     False   \n",
       "32            1       161567     False  5hlPrSCx9BvnQ3rCTkblMZ     False   \n",
       "33            1       145667     False  37vVp2sWHuuIBOSl1NswP6     False   \n",
       "34            1       216410     False  315aBOUD3xtj7sUMXtRgMV     False   \n",
       "35            1       161831     False  51eSHglvG1RJXtL3qI5trr     False   \n",
       "36            1       211466     False  5uCax9HTNlzGybIStD3vDh     False   \n",
       "37            1       257533     False  7qH9Z4dJEN0l9bidizW7fq     False   \n",
       "38            1       175459      True  2qSkIjg1o9h3YT9RAgYN75     False   \n",
       "39            1       172964     False  593knnQN4REEshx8th9zgK     False   \n",
       "40            1       206218     False  4ENjopIjOD5PKPb52NKNKo     False   \n",
       "\n",
       "                                                 name  \\\n",
       "0   What Was I Made For? [From The Motion Picture ...   \n",
       "6                                      Don’t Blame Me   \n",
       "7                                         Barbie Girl   \n",
       "8    Barbie World (with Aqua) [From Barbie The Album]   \n",
       "11            Dance The Night - From Barbie The Album   \n",
       "12                                                 薄暮   \n",
       "13                               lovely (with Khalid)   \n",
       "15                                 Wish You Were Here   \n",
       "16                           Only Girl (In The World)   \n",
       "17                                               Numb   \n",
       "18                                  How You Remind Me   \n",
       "19                                     One More Night   \n",
       "20                                    Science & Faith   \n",
       "21                                            Collide   \n",
       "22                              Make You Feel My Love   \n",
       "23                                               Home   \n",
       "24                                    Belong Together   \n",
       "25                                               Home   \n",
       "26                                          Evergreen   \n",
       "27                                    Half of forever   \n",
       "28                                 i am not who i was   \n",
       "29                                              whore   \n",
       "30                                     Skin and Bones   \n",
       "31                              when the party's over   \n",
       "32                                               High   \n",
       "33                                          i'm yours   \n",
       "34                                       In The Stars   \n",
       "35                                       Slow It Down   \n",
       "36                               Say You Won't Let Go   \n",
       "37                                             Anchor   \n",
       "38                                           Espresso   \n",
       "39                                          Strangers   \n",
       "40                                               Hero   \n",
       "\n",
       "                                          preview_url  track_number   type  \\\n",
       "0   https://p.scdn.co/mp3-preview/e58c595e821ffdbd...             1  track   \n",
       "6   https://p.scdn.co/mp3-preview/8edf06fbc7550b9c...             4  track   \n",
       "7   https://p.scdn.co/mp3-preview/e50666a04ed8364e...             3  track   \n",
       "8   https://p.scdn.co/mp3-preview/f654928ccaa4e6a9...             1  track   \n",
       "11  https://p.scdn.co/mp3-preview/acaea048f50a3b30...             1  track   \n",
       "12  https://p.scdn.co/mp3-preview/78c74dac476df6fc...            14  track   \n",
       "13  https://p.scdn.co/mp3-preview/18b3cbbad11e488c...             1  track   \n",
       "15  https://p.scdn.co/mp3-preview/e3d046771206da91...             4  track   \n",
       "16  https://p.scdn.co/mp3-preview/ee800fcd3f6b738d...             5  track   \n",
       "17  https://p.scdn.co/mp3-preview/d6d67b4f23b4865e...            13  track   \n",
       "18  https://p.scdn.co/mp3-preview/94fd201045f5b682...             2  track   \n",
       "19  https://p.scdn.co/mp3-preview/360b014557b4207b...             2  track   \n",
       "20  https://p.scdn.co/mp3-preview/77a51e7a1ef65ddc...             4  track   \n",
       "21  https://p.scdn.co/mp3-preview/2f1f947c47d145da...             3  track   \n",
       "22  https://p.scdn.co/mp3-preview/3d9582dbaa291a0b...             9  track   \n",
       "23  https://p.scdn.co/mp3-preview/0f2582f1af7c2e4c...             1  track   \n",
       "24  https://p.scdn.co/mp3-preview/94cf6a4e7df25646...             1  track   \n",
       "25  https://p.scdn.co/mp3-preview/2b14bbe49efe7aaa...             1  track   \n",
       "26  https://p.scdn.co/mp3-preview/fca7555fba8261b7...             1  track   \n",
       "27  https://p.scdn.co/mp3-preview/2c352cf47954de11...             1  track   \n",
       "28  https://p.scdn.co/mp3-preview/0ba79c75f2fafd3a...             1  track   \n",
       "29  https://p.scdn.co/mp3-preview/1694fdae9dc524d0...             7  track   \n",
       "30  https://p.scdn.co/mp3-preview/0c5b000bbafed5ee...             1  track   \n",
       "31  https://p.scdn.co/mp3-preview/2c7987ff3e992467...             7  track   \n",
       "32  https://p.scdn.co/mp3-preview/05d2a44354a8c2fc...             8  track   \n",
       "33  https://p.scdn.co/mp3-preview/65b8e66b2df01d2d...             1  track   \n",
       "34  https://p.scdn.co/mp3-preview/6e29e6750dcda815...             7  track   \n",
       "35  https://p.scdn.co/mp3-preview/7ed92ba5dc69c703...             3  track   \n",
       "36  https://p.scdn.co/mp3-preview/2eed95a3c08cd106...             2  track   \n",
       "37  https://p.scdn.co/mp3-preview/a7679ada378b47d9...             3  track   \n",
       "38  https://p.scdn.co/mp3-preview/c4f4406777deb17f...             1  track   \n",
       "39  https://p.scdn.co/mp3-preview/f8e667575db490b6...             2  track   \n",
       "40  https://p.scdn.co/mp3-preview/fea431c768d0d137...             1  track   \n",
       "\n",
       "         isrc_id  album_wid  \n",
       "0   USUM72307484         34  \n",
       "6   USCJY1750006         35  \n",
       "7   DKBKA9700403         36  \n",
       "8   USAT22306213         37  \n",
       "11  USAT22305457         38  \n",
       "12  JPE300702474         39  \n",
       "13  USUM71804190         40  \n",
       "15  GBN9Y1100088         41  \n",
       "16  USUM71023200         42  \n",
       "17  USWB10300474         43  \n",
       "18  NLA320119533         30  \n",
       "19  USUM71203514         26  \n",
       "20  GBARL1000956         32  \n",
       "21  USSM10310894         33  \n",
       "22  GBBKS0700586         22  \n",
       "23  GBVHN2000009         44  \n",
       "24  QM24S2400638         45  \n",
       "25  GBUM72400322         46  \n",
       "26  SEYOK1732035         47  \n",
       "27  QZWFS2300538         48  \n",
       "28  QZTPX2322912         49  \n",
       "29  USANG2221999         50  \n",
       "30  QZXDB2300047         51  \n",
       "31  USUM71815958         52  \n",
       "32  USUG12305749         53  \n",
       "33  USRC12203917         54  \n",
       "34  USWB12201574         55  \n",
       "35  USWB12400913         55  \n",
       "36  DEE861600586         56  \n",
       "37  TCACI1562836         57  \n",
       "38  USUM72403305         58  \n",
       "39  USWB12305048         59  \n",
       "40  QZXDB2300087         60  "
      ]
     },
     "execution_count": 66,
     "metadata": {},
     "output_type": "execute_result"
    }
   ],
   "source": [
    "df_songs = pd.DataFrame(track_list)\n",
    "df_songs = df_songs.explode('artists')\n",
    "df_songs['artist_id'] = df_songs['artists'].apply(lambda x: x['id'])\n",
    "df_songs['isrc_id'] = df_songs['external_ids'].apply(lambda x: x['isrc'])\n",
    "df_songs = df_songs.drop(columns=['href','uri','external_urls','artists','external_ids', 'artist_id', 'popularity'])\n",
    "df_songs['album_id'] = df_songs['album'].apply(lambda x:x['id'])\n",
    "df_songs = df_songs.merge(dim_album[['album_wid','album_id']], left_on='album_id', right_on='album_id')\n",
    "df_songs = df_songs.drop(columns=['album','album_id'])\n",
    "df_songs = df_songs.rename(columns={'id':'song_id'})\n",
    "df_songs = df_songs.drop_duplicates()\n",
    "df_songs"
   ]
  },
  {
   "cell_type": "markdown",
   "id": "19025329",
   "metadata": {},
   "source": [
    "#### Load (Type 1 SCD)"
   ]
  },
  {
   "cell_type": "code",
   "execution_count": 67,
   "id": "a8533925",
   "metadata": {},
   "outputs": [],
   "source": [
    "from sqlalchemy import BigInteger, Boolean, Text\n",
    "\n",
    "\n",
    "metadata = MetaData()\n",
    "\n",
    "dim_song = Table(\n",
    "    'DIM_SONG', metadata,\n",
    "    Column('song_wid', Integer, primary_key=True, autoincrement=True),\n",
    "    Column('song_id', String(62), nullable=False, unique=True),\n",
    "    Column('album_wid', Integer),\n",
    "    Column('disc_number', Integer),\n",
    "    Column('duration_ms', BigInteger, nullable=False),\n",
    "    Column('explicit', Boolean),\n",
    "    Column('is_local', Boolean),\n",
    "    Column('name', Text, nullable=False),\n",
    "    Column('preview_url', Text),\n",
    "    Column('track_number', Integer),\n",
    "    Column('type', String(50)),\n",
    "    Column('isrc_id', String(100))\n",
    ")"
   ]
  },
  {
   "cell_type": "code",
   "execution_count": 68,
   "id": "17bc19ff",
   "metadata": {},
   "outputs": [],
   "source": [
    "sql_functions.save_to_sql(df_songs, dim_song, key_cols = ['song_id'], wid = ['song_wid'], mode = 'upsert')"
   ]
  }
 ],
 "metadata": {
  "kernelspec": {
   "display_name": "Python 3 (ipykernel)",
   "language": "python",
   "name": "python3"
  },
  "language_info": {
   "codemirror_mode": {
    "name": "ipython",
    "version": 3
   },
   "file_extension": ".py",
   "mimetype": "text/x-python",
   "name": "python",
   "nbconvert_exporter": "python",
   "pygments_lexer": "ipython3",
   "version": "3.9.13"
  }
 },
 "nbformat": 4,
 "nbformat_minor": 5
}
