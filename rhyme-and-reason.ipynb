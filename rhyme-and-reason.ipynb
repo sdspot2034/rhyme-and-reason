{
 "cells": [
  {
   "cell_type": "code",
   "execution_count": 1,
   "id": "90f23e5a",
   "metadata": {},
   "outputs": [],
   "source": [
    "import json\n",
    "from authorization import SpotifyAuth"
   ]
  },
  {
   "cell_type": "code",
   "execution_count": 2,
   "id": "d707fdc9",
   "metadata": {},
   "outputs": [],
   "source": [
    "%load_ext autoreload"
   ]
  },
  {
   "cell_type": "code",
   "execution_count": 3,
   "id": "7f56649d",
   "metadata": {},
   "outputs": [],
   "source": [
    "%autoreload 2"
   ]
  },
  {
   "cell_type": "code",
   "execution_count": 4,
   "id": "68a74422",
   "metadata": {
    "scrolled": false
   },
   "outputs": [],
   "source": [
    "with open('client-secrets-rnr.json','r+') as secrets_file:\n",
    "    secrets = json.load(secrets_file)\n",
    "\n",
    "client_id = secrets[\"client_id\"]\n",
    "client_secret = secrets[\"client_secret\"]\n",
    "redirect_url = secrets[\"redirect_url\"]"
   ]
  },
  {
   "cell_type": "code",
   "execution_count": 5,
   "id": "7c969b1d",
   "metadata": {
    "scrolled": true
   },
   "outputs": [],
   "source": [
    "spotify_authorisation = SpotifyAuth(client_id=client_id, client_secret=client_secret, redirect_url=redirect_url)\n",
    "spotify_authorisation.set_access_token_from_file('access_token.json')"
   ]
  },
  {
   "cell_type": "markdown",
   "id": "ec6cd9cf",
   "metadata": {},
   "source": [
    "# Get User Details"
   ]
  },
  {
   "cell_type": "code",
   "execution_count": 6,
   "id": "9cbe8ed2",
   "metadata": {},
   "outputs": [],
   "source": [
    "import spotify_functions as spotify"
   ]
  },
  {
   "cell_type": "code",
   "execution_count": 7,
   "id": "bd3ebc1c",
   "metadata": {},
   "outputs": [
    {
     "data": {
      "text/plain": [
       "{'display_name': 'sdspot2034',\n",
       " 'external_urls': {'spotify': 'https://open.spotify.com/user/sdspot2034'},\n",
       " 'href': 'https://api.spotify.com/v1/users/sdspot2034',\n",
       " 'id': 'sdspot2034',\n",
       " 'images': [{'url': 'https://i.scdn.co/image/ab67757000003b8280153af8b79b3144b24f1291',\n",
       "   'height': 64,\n",
       "   'width': 64},\n",
       "  {'url': 'https://i.scdn.co/image/ab6775700000ee8580153af8b79b3144b24f1291',\n",
       "   'height': 300,\n",
       "   'width': 300}],\n",
       " 'type': 'user',\n",
       " 'uri': 'spotify:user:sdspot2034',\n",
       " 'followers': {'href': None, 'total': 9},\n",
       " 'country': 'IN',\n",
       " 'product': 'premium',\n",
       " 'explicit_content': {'filter_enabled': False, 'filter_locked': False},\n",
       " 'email': 'shreyandas2034@gmail.com'}"
      ]
     },
     "execution_count": 7,
     "metadata": {},
     "output_type": "execute_result"
    }
   ],
   "source": [
    "spotify.get_user_details(spotify_authorisation.get_access_token())"
   ]
  },
  {
   "cell_type": "code",
   "execution_count": 8,
   "id": "27e29db8",
   "metadata": {},
   "outputs": [],
   "source": [
    "import datetime\n",
    "yesterday = datetime.datetime.now() - datetime.timedelta(days=1)\n",
    "# print(yesterday.timestamp()*1e3)\n",
    "cdc_time = int(yesterday.timestamp()*1e3)"
   ]
  },
  {
   "cell_type": "markdown",
   "id": "c45c66b4",
   "metadata": {},
   "source": [
    "# Get All Songs Played in the last one day"
   ]
  },
  {
   "cell_type": "code",
   "execution_count": 9,
   "id": "da0e887a",
   "metadata": {},
   "outputs": [],
   "source": [
    "token = spotify_authorisation.get_access_token()\n",
    "history = spotify.get_listening_history(token, cdc_time)['items']"
   ]
  },
  {
   "cell_type": "markdown",
   "id": "a2f47724",
   "metadata": {},
   "source": [
    "## EDA over recent history"
   ]
  },
  {
   "cell_type": "markdown",
   "id": "e5e8860f",
   "metadata": {},
   "source": [
    "### Number of songs played"
   ]
  },
  {
   "cell_type": "code",
   "execution_count": 10,
   "id": "30b4c792",
   "metadata": {},
   "outputs": [
    {
     "data": {
      "text/plain": [
       "11"
      ]
     },
     "execution_count": 10,
     "metadata": {},
     "output_type": "execute_result"
    }
   ],
   "source": [
    "len(history)"
   ]
  },
  {
   "cell_type": "markdown",
   "id": "af449a03",
   "metadata": {},
   "source": [
    "### Fetch details of a song"
   ]
  },
  {
   "cell_type": "markdown",
   "id": "0c0a32cf",
   "metadata": {},
   "source": [
    "#### See available data for a song"
   ]
  },
  {
   "cell_type": "code",
   "execution_count": 11,
   "id": "db0a7fed",
   "metadata": {
    "scrolled": true
   },
   "outputs": [
    {
     "data": {
      "text/plain": [
       "dict_keys(['track', 'played_at', 'context'])"
      ]
     },
     "execution_count": 11,
     "metadata": {},
     "output_type": "execute_result"
    }
   ],
   "source": [
    "history[0].keys()"
   ]
  },
  {
   "cell_type": "code",
   "execution_count": 12,
   "id": "84306bbe",
   "metadata": {},
   "outputs": [
    {
     "data": {
      "text/plain": [
       "['album',\n",
       " 'artists',\n",
       " 'disc_number',\n",
       " 'duration_ms',\n",
       " 'explicit',\n",
       " 'external_ids',\n",
       " 'external_urls',\n",
       " 'href',\n",
       " 'id',\n",
       " 'is_local',\n",
       " 'name',\n",
       " 'popularity',\n",
       " 'preview_url',\n",
       " 'track_number',\n",
       " 'type',\n",
       " 'uri']"
      ]
     },
     "execution_count": 12,
     "metadata": {},
     "output_type": "execute_result"
    }
   ],
   "source": [
    "list(history[0]['track'].keys())"
   ]
  },
  {
   "cell_type": "code",
   "execution_count": 13,
   "id": "49f220b3",
   "metadata": {},
   "outputs": [
    {
     "data": {
      "text/plain": [
       "'2024-08-05T04:29:40.078Z'"
      ]
     },
     "execution_count": 13,
     "metadata": {},
     "output_type": "execute_result"
    }
   ],
   "source": [
    "history[0]['played_at']"
   ]
  },
  {
   "cell_type": "code",
   "execution_count": 14,
   "id": "a7e3e817",
   "metadata": {},
   "outputs": [
    {
     "name": "stdout",
     "output_type": "stream",
     "text": [
      "None\n"
     ]
    }
   ],
   "source": [
    "print(history[0]['context'])"
   ]
  },
  {
   "cell_type": "markdown",
   "id": "11c177d0",
   "metadata": {},
   "source": [
    "# Transform"
   ]
  },
  {
   "cell_type": "markdown",
   "id": "e4c610a6",
   "metadata": {},
   "source": [
    "## Dimensions"
   ]
  },
  {
   "cell_type": "markdown",
   "id": "a9d06bd6",
   "metadata": {},
   "source": [
    "### DIM_ARTIST"
   ]
  },
  {
   "cell_type": "code",
   "execution_count": 15,
   "id": "c5339881",
   "metadata": {},
   "outputs": [],
   "source": [
    "import pandas as pd\n",
    "from sqlalchemy import Table, MetaData, Column, Integer, String\n",
    "import sql_functions"
   ]
  },
  {
   "cell_type": "code",
   "execution_count": 16,
   "id": "8270c0ce",
   "metadata": {},
   "outputs": [],
   "source": [
    "# stacked list-comprehension\n",
    "artist_list = [artist for artists in [play['track']['artists'] for play in history] for artist in artists]"
   ]
  },
  {
   "cell_type": "code",
   "execution_count": 17,
   "id": "857f220b",
   "metadata": {},
   "outputs": [
    {
     "data": {
      "text/html": [
       "<div>\n",
       "<style scoped>\n",
       "    .dataframe tbody tr th:only-of-type {\n",
       "        vertical-align: middle;\n",
       "    }\n",
       "\n",
       "    .dataframe tbody tr th {\n",
       "        vertical-align: top;\n",
       "    }\n",
       "\n",
       "    .dataframe thead th {\n",
       "        text-align: right;\n",
       "    }\n",
       "</style>\n",
       "<table border=\"1\" class=\"dataframe\">\n",
       "  <thead>\n",
       "    <tr style=\"text-align: right;\">\n",
       "      <th></th>\n",
       "      <th>spotify_id</th>\n",
       "      <th>artist_name</th>\n",
       "      <th>artist_type</th>\n",
       "    </tr>\n",
       "  </thead>\n",
       "  <tbody>\n",
       "    <tr>\n",
       "      <th>0</th>\n",
       "      <td>2FXC3k01G6Gw61bmprjgqS</td>\n",
       "      <td>Hozier</td>\n",
       "      <td>artist</td>\n",
       "    </tr>\n",
       "    <tr>\n",
       "      <th>1</th>\n",
       "      <td>4gzpq5DPGxSnKTe4SA8HAU</td>\n",
       "      <td>Coldplay</td>\n",
       "      <td>artist</td>\n",
       "    </tr>\n",
       "    <tr>\n",
       "      <th>2</th>\n",
       "      <td>2uFUBdaVGtyMqckSeCl0Qj</td>\n",
       "      <td>Ludovico Einaudi</td>\n",
       "      <td>artist</td>\n",
       "    </tr>\n",
       "    <tr>\n",
       "      <th>3</th>\n",
       "      <td>3e1kd1A7mKQmTs7fqX3GPI</td>\n",
       "      <td>Franco Feruglio</td>\n",
       "      <td>artist</td>\n",
       "    </tr>\n",
       "    <tr>\n",
       "      <th>4</th>\n",
       "      <td>11IgISNFApjwaLP6Y64tEz</td>\n",
       "      <td>Marco Decimo</td>\n",
       "      <td>artist</td>\n",
       "    </tr>\n",
       "    <tr>\n",
       "      <th>5</th>\n",
       "      <td>7eqjIlpFqiZ9iPfIz9LmgX</td>\n",
       "      <td>Gabriele Baffero</td>\n",
       "      <td>artist</td>\n",
       "    </tr>\n",
       "    <tr>\n",
       "      <th>6</th>\n",
       "      <td>21oSJUaw7ESADBnS8I93yK</td>\n",
       "      <td>Mauro Loguercio</td>\n",
       "      <td>artist</td>\n",
       "    </tr>\n",
       "    <tr>\n",
       "      <th>7</th>\n",
       "      <td>7FxEy78P0oIVEVxdaL9npy</td>\n",
       "      <td>Emily James</td>\n",
       "      <td>artist</td>\n",
       "    </tr>\n",
       "    <tr>\n",
       "      <th>8</th>\n",
       "      <td>0fauHpmSHwodVYIjTqOGHz</td>\n",
       "      <td>Yiruma</td>\n",
       "      <td>artist</td>\n",
       "    </tr>\n",
       "    <tr>\n",
       "      <th>9</th>\n",
       "      <td>0jrFMgW018F1XVnLtCXOKi</td>\n",
       "      <td>Fabrizio Paterlini</td>\n",
       "      <td>artist</td>\n",
       "    </tr>\n",
       "    <tr>\n",
       "      <th>10</th>\n",
       "      <td>5nWYvcpaqKtp08cYxjOfFr</td>\n",
       "      <td>Gibran Alcocer</td>\n",
       "      <td>artist</td>\n",
       "    </tr>\n",
       "    <tr>\n",
       "      <th>11</th>\n",
       "      <td>0kV0e99xlTJcLKSu8KrLyp</td>\n",
       "      <td>Benny Andersson</td>\n",
       "      <td>artist</td>\n",
       "    </tr>\n",
       "    <tr>\n",
       "      <th>13</th>\n",
       "      <td>0Dc8oO0rYX3DgirVK88dcl</td>\n",
       "      <td>Otto A. Totland</td>\n",
       "      <td>artist</td>\n",
       "    </tr>\n",
       "  </tbody>\n",
       "</table>\n",
       "</div>"
      ],
      "text/plain": [
       "                spotify_id         artist_name artist_type\n",
       "0   2FXC3k01G6Gw61bmprjgqS              Hozier      artist\n",
       "1   4gzpq5DPGxSnKTe4SA8HAU            Coldplay      artist\n",
       "2   2uFUBdaVGtyMqckSeCl0Qj    Ludovico Einaudi      artist\n",
       "3   3e1kd1A7mKQmTs7fqX3GPI     Franco Feruglio      artist\n",
       "4   11IgISNFApjwaLP6Y64tEz        Marco Decimo      artist\n",
       "5   7eqjIlpFqiZ9iPfIz9LmgX    Gabriele Baffero      artist\n",
       "6   21oSJUaw7ESADBnS8I93yK     Mauro Loguercio      artist\n",
       "7   7FxEy78P0oIVEVxdaL9npy         Emily James      artist\n",
       "8   0fauHpmSHwodVYIjTqOGHz              Yiruma      artist\n",
       "9   0jrFMgW018F1XVnLtCXOKi  Fabrizio Paterlini      artist\n",
       "10  5nWYvcpaqKtp08cYxjOfFr      Gibran Alcocer      artist\n",
       "11  0kV0e99xlTJcLKSu8KrLyp     Benny Andersson      artist\n",
       "13  0Dc8oO0rYX3DgirVK88dcl     Otto A. Totland      artist"
      ]
     },
     "execution_count": 17,
     "metadata": {},
     "output_type": "execute_result"
    }
   ],
   "source": [
    "df_artists = pd.DataFrame(artist_list)\n",
    "df_artists = df_artists.drop(columns=['href','uri','external_urls'])\n",
    "df_artists = df_artists.rename(columns={'id':'spotify_id','name':'artist_name','type':'artist_type'})\n",
    "df_artists.drop_duplicates(inplace=True)\n",
    "df_artists"
   ]
  },
  {
   "cell_type": "markdown",
   "id": "a73e774c",
   "metadata": {},
   "source": [
    "#### Load (Type 1 SCD)"
   ]
  },
  {
   "cell_type": "code",
   "execution_count": 18,
   "id": "70242c07",
   "metadata": {},
   "outputs": [],
   "source": [
    "metadata = MetaData()\n",
    "\n",
    "# Define the dimension table schema\n",
    "dim_table = Table('DIM_ARTIST', metadata,\n",
    "    Column('artist_wid', Integer, primary_key=True, autoincrement=True),\n",
    "    Column('spotify_id', String(255), nullable=False, unique=True),\n",
    "    Column('artist_name', String(255)),\n",
    "    Column('artist_type', String(255))\n",
    ")"
   ]
  },
  {
   "cell_type": "code",
   "execution_count": 19,
   "id": "f49b3ea7",
   "metadata": {},
   "outputs": [],
   "source": [
    "sql_functions.save_to_sql(df_artists, dim_table, key_cols=['spotify_id'], wid=['artist_wid'], mode='upsert')"
   ]
  },
  {
   "cell_type": "markdown",
   "id": "d68134f1",
   "metadata": {},
   "source": [
    "### DIM_ALBUM"
   ]
  },
  {
   "cell_type": "code",
   "execution_count": 20,
   "id": "5492f9d9",
   "metadata": {},
   "outputs": [],
   "source": [
    "album_list = [play['track']['album'] for play in history]"
   ]
  },
  {
   "cell_type": "code",
   "execution_count": 37,
   "id": "fd06e54a",
   "metadata": {},
   "outputs": [],
   "source": [
    "def get_url(x,height=640):\n",
    "    for elem in x:\n",
    "        if elem['height'] == height: return elem['url']\n",
    "    return None"
   ]
  },
  {
   "cell_type": "code",
   "execution_count": 44,
   "id": "7e2b1368",
   "metadata": {},
   "outputs": [
    {
     "data": {
      "text/html": [
       "<div>\n",
       "<style scoped>\n",
       "    .dataframe tbody tr th:only-of-type {\n",
       "        vertical-align: middle;\n",
       "    }\n",
       "\n",
       "    .dataframe tbody tr th {\n",
       "        vertical-align: top;\n",
       "    }\n",
       "\n",
       "    .dataframe thead th {\n",
       "        text-align: right;\n",
       "    }\n",
       "</style>\n",
       "<table border=\"1\" class=\"dataframe\">\n",
       "  <thead>\n",
       "    <tr style=\"text-align: right;\">\n",
       "      <th></th>\n",
       "      <th>album_type</th>\n",
       "      <th>album_id</th>\n",
       "      <th>album_name</th>\n",
       "      <th>release_date</th>\n",
       "      <th>release_date_precision</th>\n",
       "      <th>total_tracks</th>\n",
       "      <th>cover_image_url</th>\n",
       "    </tr>\n",
       "  </thead>\n",
       "  <tbody>\n",
       "    <tr>\n",
       "      <th>0</th>\n",
       "      <td>album</td>\n",
       "      <td>3P4SQqMMgjqfqVxgLwtYRk</td>\n",
       "      <td>Unreal Unearth: Unheard</td>\n",
       "      <td>2024-03-22</td>\n",
       "      <td>day</td>\n",
       "      <td>20</td>\n",
       "      <td>https://i.scdn.co/image/ab67616d0000b2733e1b21...</td>\n",
       "    </tr>\n",
       "    <tr>\n",
       "      <th>1</th>\n",
       "      <td>album</td>\n",
       "      <td>6ZG5lRT77aJ3btmArcykra</td>\n",
       "      <td>Parachutes</td>\n",
       "      <td>2000-07-10</td>\n",
       "      <td>day</td>\n",
       "      <td>10</td>\n",
       "      <td>https://i.scdn.co/image/ab67616d0000b2739164ba...</td>\n",
       "    </tr>\n",
       "    <tr>\n",
       "      <th>2</th>\n",
       "      <td>album</td>\n",
       "      <td>5jRyFJtnadQ4XkSwL8mUzM</td>\n",
       "      <td>Eden Roc</td>\n",
       "      <td>1999-10-22</td>\n",
       "      <td>day</td>\n",
       "      <td>15</td>\n",
       "      <td>https://i.scdn.co/image/ab67616d0000b2739db983...</td>\n",
       "    </tr>\n",
       "    <tr>\n",
       "      <th>3</th>\n",
       "      <td>single</td>\n",
       "      <td>5eOSvWRX9rbKH0qoqSd7RN</td>\n",
       "      <td>Dreaming</td>\n",
       "      <td>2019-10-25</td>\n",
       "      <td>day</td>\n",
       "      <td>6</td>\n",
       "      <td>https://i.scdn.co/image/ab67616d0000b273a705ca...</td>\n",
       "    </tr>\n",
       "    <tr>\n",
       "      <th>4</th>\n",
       "      <td>album</td>\n",
       "      <td>1N6p8qmf8PJgYQdktQQYYh</td>\n",
       "      <td>First Love (The Original &amp; the Very First Reco...</td>\n",
       "      <td>2001-11-27</td>\n",
       "      <td>day</td>\n",
       "      <td>15</td>\n",
       "      <td>https://i.scdn.co/image/ab67616d0000b2734bdb66...</td>\n",
       "    </tr>\n",
       "    <tr>\n",
       "      <th>5</th>\n",
       "      <td>single</td>\n",
       "      <td>6Q7oNLHJBqsVw5gjbw3wRV</td>\n",
       "      <td>Every Single Moment</td>\n",
       "      <td>2022-05-27</td>\n",
       "      <td>day</td>\n",
       "      <td>1</td>\n",
       "      <td>https://i.scdn.co/image/ab67616d0000b27395ae4d...</td>\n",
       "    </tr>\n",
       "    <tr>\n",
       "      <th>6</th>\n",
       "      <td>single</td>\n",
       "      <td>2BpRxtAl6IrHI2OQtd60PK</td>\n",
       "      <td>Idea 9</td>\n",
       "      <td>2023-05-26</td>\n",
       "      <td>day</td>\n",
       "      <td>1</td>\n",
       "      <td>https://i.scdn.co/image/ab67616d0000b2734e8fc9...</td>\n",
       "    </tr>\n",
       "    <tr>\n",
       "      <th>7</th>\n",
       "      <td>album</td>\n",
       "      <td>3YGh4CN0JocLK0SwvJgMWc</td>\n",
       "      <td>Piano</td>\n",
       "      <td>2017-09-29</td>\n",
       "      <td>day</td>\n",
       "      <td>21</td>\n",
       "      <td>https://i.scdn.co/image/ab67616d0000b273997e20...</td>\n",
       "    </tr>\n",
       "    <tr>\n",
       "      <th>9</th>\n",
       "      <td>album</td>\n",
       "      <td>7uPWpTHYqHEQTpZIlgELQK</td>\n",
       "      <td>Pinô</td>\n",
       "      <td>2014-01-31</td>\n",
       "      <td>day</td>\n",
       "      <td>18</td>\n",
       "      <td>https://i.scdn.co/image/ab67616d0000b27367e468...</td>\n",
       "    </tr>\n",
       "  </tbody>\n",
       "</table>\n",
       "</div>"
      ],
      "text/plain": [
       "  album_type                album_id  \\\n",
       "0      album  3P4SQqMMgjqfqVxgLwtYRk   \n",
       "1      album  6ZG5lRT77aJ3btmArcykra   \n",
       "2      album  5jRyFJtnadQ4XkSwL8mUzM   \n",
       "3     single  5eOSvWRX9rbKH0qoqSd7RN   \n",
       "4      album  1N6p8qmf8PJgYQdktQQYYh   \n",
       "5     single  6Q7oNLHJBqsVw5gjbw3wRV   \n",
       "6     single  2BpRxtAl6IrHI2OQtd60PK   \n",
       "7      album  3YGh4CN0JocLK0SwvJgMWc   \n",
       "9      album  7uPWpTHYqHEQTpZIlgELQK   \n",
       "\n",
       "                                          album_name release_date  \\\n",
       "0                            Unreal Unearth: Unheard   2024-03-22   \n",
       "1                                         Parachutes   2000-07-10   \n",
       "2                                           Eden Roc   1999-10-22   \n",
       "3                                           Dreaming   2019-10-25   \n",
       "4  First Love (The Original & the Very First Reco...   2001-11-27   \n",
       "5                                Every Single Moment   2022-05-27   \n",
       "6                                             Idea 9   2023-05-26   \n",
       "7                                              Piano   2017-09-29   \n",
       "9                                               Pinô   2014-01-31   \n",
       "\n",
       "  release_date_precision  total_tracks  \\\n",
       "0                    day            20   \n",
       "1                    day            10   \n",
       "2                    day            15   \n",
       "3                    day             6   \n",
       "4                    day            15   \n",
       "5                    day             1   \n",
       "6                    day             1   \n",
       "7                    day            21   \n",
       "9                    day            18   \n",
       "\n",
       "                                     cover_image_url  \n",
       "0  https://i.scdn.co/image/ab67616d0000b2733e1b21...  \n",
       "1  https://i.scdn.co/image/ab67616d0000b2739164ba...  \n",
       "2  https://i.scdn.co/image/ab67616d0000b2739db983...  \n",
       "3  https://i.scdn.co/image/ab67616d0000b273a705ca...  \n",
       "4  https://i.scdn.co/image/ab67616d0000b2734bdb66...  \n",
       "5  https://i.scdn.co/image/ab67616d0000b27395ae4d...  \n",
       "6  https://i.scdn.co/image/ab67616d0000b2734e8fc9...  \n",
       "7  https://i.scdn.co/image/ab67616d0000b273997e20...  \n",
       "9  https://i.scdn.co/image/ab67616d0000b27367e468...  "
      ]
     },
     "execution_count": 44,
     "metadata": {},
     "output_type": "execute_result"
    }
   ],
   "source": [
    "df_album = pd.DataFrame(album_list)\n",
    "df_album['cover_image_url'] = df_album['images'].apply(get_url)\n",
    "df_album = df_album.drop(columns=['href','uri','external_urls', 'images','artists','type'])\n",
    "df_album = df_album.drop_duplicates()\n",
    "df_album = df_album.rename(columns={'id':'album_id','name':'album_name'})\n",
    "df_album"
   ]
  },
  {
   "cell_type": "markdown",
   "id": "eb9c8864",
   "metadata": {},
   "source": [
    "#### Load (Type 1 SCD)"
   ]
  },
  {
   "cell_type": "code",
   "execution_count": 46,
   "id": "a22f2153",
   "metadata": {},
   "outputs": [],
   "source": [
    "from sqlalchemy import MetaData, Table, Column, Integer, String, Text, Date\n",
    "\n",
    "metadata = MetaData()\n",
    "\n",
    "dim_album = Table(\n",
    "    'DIM_ALBUM', metadata,\n",
    "    Column('album_wid', Integer, primary_key=True, autoincrement=True),\n",
    "    Column('album_id', String(62), nullable=False, unique=True),\n",
    "    Column('album_type', String(20), nullable=False),\n",
    "    Column('album_name', Text, nullable=False),\n",
    "    Column('release_date', Date),\n",
    "    Column('release_date_precision', String(20)),\n",
    "    Column('total_tracks', Integer),\n",
    "    Column('cover_image_url', Text)\n",
    ")"
   ]
  },
  {
   "cell_type": "code",
   "execution_count": 47,
   "id": "6676c463",
   "metadata": {},
   "outputs": [],
   "source": [
    "sql_functions.save_to_sql(df_album, dim_album, key_cols = ['album_id'], wid = ['album_wid'], mode = 'upsert')"
   ]
  },
  {
   "cell_type": "markdown",
   "id": "e5d5a7b4",
   "metadata": {},
   "source": [
    "### DIM_SONG"
   ]
  },
  {
   "cell_type": "code",
   "execution_count": 48,
   "id": "6dc4ca9a",
   "metadata": {},
   "outputs": [
    {
     "data": {
      "text/plain": [
       "dict_keys(['album', 'artists', 'disc_number', 'duration_ms', 'explicit', 'external_ids', 'external_urls', 'href', 'id', 'is_local', 'name', 'popularity', 'preview_url', 'track_number', 'type', 'uri'])"
      ]
     },
     "execution_count": 48,
     "metadata": {},
     "output_type": "execute_result"
    }
   ],
   "source": [
    "history[0]['track'].keys()"
   ]
  },
  {
   "cell_type": "code",
   "execution_count": 49,
   "id": "ab85fc80",
   "metadata": {},
   "outputs": [
    {
     "data": {
      "text/plain": [
       "{'album': {'album_type': 'album',\n",
       "  'artists': [{'external_urls': {'spotify': 'https://open.spotify.com/artist/2FXC3k01G6Gw61bmprjgqS'},\n",
       "    'href': 'https://api.spotify.com/v1/artists/2FXC3k01G6Gw61bmprjgqS',\n",
       "    'id': '2FXC3k01G6Gw61bmprjgqS',\n",
       "    'name': 'Hozier',\n",
       "    'type': 'artist',\n",
       "    'uri': 'spotify:artist:2FXC3k01G6Gw61bmprjgqS'}],\n",
       "  'external_urls': {'spotify': 'https://open.spotify.com/album/3P4SQqMMgjqfqVxgLwtYRk'},\n",
       "  'href': 'https://api.spotify.com/v1/albums/3P4SQqMMgjqfqVxgLwtYRk',\n",
       "  'id': '3P4SQqMMgjqfqVxgLwtYRk',\n",
       "  'images': [{'height': 640,\n",
       "    'url': 'https://i.scdn.co/image/ab67616d0000b2733e1b212546dac35443735241',\n",
       "    'width': 640},\n",
       "   {'height': 300,\n",
       "    'url': 'https://i.scdn.co/image/ab67616d00001e023e1b212546dac35443735241',\n",
       "    'width': 300},\n",
       "   {'height': 64,\n",
       "    'url': 'https://i.scdn.co/image/ab67616d000048513e1b212546dac35443735241',\n",
       "    'width': 64}],\n",
       "  'name': 'Unreal Unearth: Unheard',\n",
       "  'release_date': '2024-03-22',\n",
       "  'release_date_precision': 'day',\n",
       "  'total_tracks': 20,\n",
       "  'type': 'album',\n",
       "  'uri': 'spotify:album:3P4SQqMMgjqfqVxgLwtYRk'},\n",
       " 'artists': [{'external_urls': {'spotify': 'https://open.spotify.com/artist/2FXC3k01G6Gw61bmprjgqS'},\n",
       "   'href': 'https://api.spotify.com/v1/artists/2FXC3k01G6Gw61bmprjgqS',\n",
       "   'id': '2FXC3k01G6Gw61bmprjgqS',\n",
       "   'name': 'Hozier',\n",
       "   'type': 'artist',\n",
       "   'uri': 'spotify:artist:2FXC3k01G6Gw61bmprjgqS'}],\n",
       " 'disc_number': 1,\n",
       " 'duration_ms': 251424,\n",
       " 'explicit': False,\n",
       " 'external_ids': {'isrc': 'IEACJ2300335'},\n",
       " 'external_urls': {'spotify': 'https://open.spotify.com/track/5Z0UnEtpLDQyYlWwgi8m9C'},\n",
       " 'href': 'https://api.spotify.com/v1/tracks/5Z0UnEtpLDQyYlWwgi8m9C',\n",
       " 'id': '5Z0UnEtpLDQyYlWwgi8m9C',\n",
       " 'is_local': False,\n",
       " 'name': 'Too Sweet',\n",
       " 'popularity': 88,\n",
       " 'preview_url': 'https://p.scdn.co/mp3-preview/e526daac5ec6c4594ab3760cc48cee835379802d?cid=96c6271f82bb42638facf3898032ddb7',\n",
       " 'track_number': 1,\n",
       " 'type': 'track',\n",
       " 'uri': 'spotify:track:5Z0UnEtpLDQyYlWwgi8m9C'}"
      ]
     },
     "execution_count": 49,
     "metadata": {},
     "output_type": "execute_result"
    }
   ],
   "source": [
    "history[0]['track']"
   ]
  },
  {
   "cell_type": "code",
   "execution_count": 50,
   "id": "83ffb2a8",
   "metadata": {},
   "outputs": [],
   "source": [
    "track_list = [play['track'] for play in history]"
   ]
  },
  {
   "cell_type": "code",
   "execution_count": 51,
   "id": "88a2c556",
   "metadata": {
    "scrolled": true
   },
   "outputs": [
    {
     "data": {
      "text/html": [
       "<div>\n",
       "<style scoped>\n",
       "    .dataframe tbody tr th:only-of-type {\n",
       "        vertical-align: middle;\n",
       "    }\n",
       "\n",
       "    .dataframe tbody tr th {\n",
       "        vertical-align: top;\n",
       "    }\n",
       "\n",
       "    .dataframe thead th {\n",
       "        text-align: right;\n",
       "    }\n",
       "</style>\n",
       "<table border=\"1\" class=\"dataframe\">\n",
       "  <thead>\n",
       "    <tr style=\"text-align: right;\">\n",
       "      <th></th>\n",
       "      <th>album_wid</th>\n",
       "      <th>disc_number</th>\n",
       "      <th>duration_ms</th>\n",
       "      <th>explicit</th>\n",
       "      <th>song_id</th>\n",
       "      <th>is_local</th>\n",
       "      <th>name</th>\n",
       "      <th>preview_url</th>\n",
       "      <th>track_number</th>\n",
       "      <th>type</th>\n",
       "      <th>isrc_id</th>\n",
       "    </tr>\n",
       "  </thead>\n",
       "  <tbody>\n",
       "    <tr>\n",
       "      <th>0</th>\n",
       "      <td>None</td>\n",
       "      <td>1</td>\n",
       "      <td>251424</td>\n",
       "      <td>False</td>\n",
       "      <td>5Z0UnEtpLDQyYlWwgi8m9C</td>\n",
       "      <td>False</td>\n",
       "      <td>Too Sweet</td>\n",
       "      <td>https://p.scdn.co/mp3-preview/e526daac5ec6c459...</td>\n",
       "      <td>1</td>\n",
       "      <td>track</td>\n",
       "      <td>IEACJ2300335</td>\n",
       "    </tr>\n",
       "    <tr>\n",
       "      <th>1</th>\n",
       "      <td>None</td>\n",
       "      <td>1</td>\n",
       "      <td>266773</td>\n",
       "      <td>False</td>\n",
       "      <td>3AJwUDP919kvQ9QcozQPxg</td>\n",
       "      <td>False</td>\n",
       "      <td>Yellow</td>\n",
       "      <td>https://p.scdn.co/mp3-preview/c0d9119dc69cae75...</td>\n",
       "      <td>5</td>\n",
       "      <td>track</td>\n",
       "      <td>GBAYE0000267</td>\n",
       "    </tr>\n",
       "    <tr>\n",
       "      <th>2</th>\n",
       "      <td>None</td>\n",
       "      <td>1</td>\n",
       "      <td>89413</td>\n",
       "      <td>False</td>\n",
       "      <td>3cOGmT4WmEFfv9H5Pipcj5</td>\n",
       "      <td>False</td>\n",
       "      <td>Ultimi Fuochi II</td>\n",
       "      <td>https://p.scdn.co/mp3-preview/12437283c2e6f13d...</td>\n",
       "      <td>11</td>\n",
       "      <td>track</td>\n",
       "      <td>ITC490700072</td>\n",
       "    </tr>\n",
       "    <tr>\n",
       "      <th>3</th>\n",
       "      <td>None</td>\n",
       "      <td>1</td>\n",
       "      <td>214087</td>\n",
       "      <td>False</td>\n",
       "      <td>01LEUIGH4Mup0hV3gHNgx0</td>\n",
       "      <td>False</td>\n",
       "      <td>Dreaming</td>\n",
       "      <td>https://p.scdn.co/mp3-preview/6d34e0fe3659d926...</td>\n",
       "      <td>4</td>\n",
       "      <td>track</td>\n",
       "      <td>QZ4BX1900004</td>\n",
       "    </tr>\n",
       "    <tr>\n",
       "      <th>4</th>\n",
       "      <td>None</td>\n",
       "      <td>1</td>\n",
       "      <td>188786</td>\n",
       "      <td>False</td>\n",
       "      <td>2agBDIr9MYDUducQPC1sFU</td>\n",
       "      <td>False</td>\n",
       "      <td>River Flows In You</td>\n",
       "      <td>https://p.scdn.co/mp3-preview/3cd81468938f7c9d...</td>\n",
       "      <td>4</td>\n",
       "      <td>track</td>\n",
       "      <td>HKOA10616988</td>\n",
       "    </tr>\n",
       "    <tr>\n",
       "      <th>5</th>\n",
       "      <td>None</td>\n",
       "      <td>1</td>\n",
       "      <td>153000</td>\n",
       "      <td>False</td>\n",
       "      <td>4klLHDMK96dfrIMwUaGBg6</td>\n",
       "      <td>False</td>\n",
       "      <td>Every Single Moment</td>\n",
       "      <td>https://p.scdn.co/mp3-preview/e561745546149b4e...</td>\n",
       "      <td>1</td>\n",
       "      <td>track</td>\n",
       "      <td>SE5ZV2227301</td>\n",
       "    </tr>\n",
       "    <tr>\n",
       "      <th>6</th>\n",
       "      <td>None</td>\n",
       "      <td>1</td>\n",
       "      <td>137547</td>\n",
       "      <td>False</td>\n",
       "      <td>3TdROUy5JZz1OcBKMZjeux</td>\n",
       "      <td>False</td>\n",
       "      <td>Idea 9</td>\n",
       "      <td>https://p.scdn.co/mp3-preview/d1409e22384bc33a...</td>\n",
       "      <td>1</td>\n",
       "      <td>track</td>\n",
       "      <td>QM3DF2206675</td>\n",
       "    </tr>\n",
       "    <tr>\n",
       "      <th>7</th>\n",
       "      <td>None</td>\n",
       "      <td>1</td>\n",
       "      <td>199493</td>\n",
       "      <td>False</td>\n",
       "      <td>5jvNtVu9fmqe7DMJRmCc3Q</td>\n",
       "      <td>False</td>\n",
       "      <td>Anthem</td>\n",
       "      <td>https://p.scdn.co/mp3-preview/eecd58db33a1475c...</td>\n",
       "      <td>13</td>\n",
       "      <td>track</td>\n",
       "      <td>SEAUA1700113</td>\n",
       "    </tr>\n",
       "    <tr>\n",
       "      <th>9</th>\n",
       "      <td>None</td>\n",
       "      <td>1</td>\n",
       "      <td>165995</td>\n",
       "      <td>False</td>\n",
       "      <td>2Ai5UUXyxaulVbompgrzlo</td>\n",
       "      <td>False</td>\n",
       "      <td>Pinô</td>\n",
       "      <td>https://p.scdn.co/mp3-preview/a6fb39ce6ab6e6f4...</td>\n",
       "      <td>7</td>\n",
       "      <td>track</td>\n",
       "      <td>DEX261381907</td>\n",
       "    </tr>\n",
       "  </tbody>\n",
       "</table>\n",
       "</div>"
      ],
      "text/plain": [
       "  album_wid  disc_number  duration_ms  explicit                 song_id  \\\n",
       "0      None            1       251424     False  5Z0UnEtpLDQyYlWwgi8m9C   \n",
       "1      None            1       266773     False  3AJwUDP919kvQ9QcozQPxg   \n",
       "2      None            1        89413     False  3cOGmT4WmEFfv9H5Pipcj5   \n",
       "3      None            1       214087     False  01LEUIGH4Mup0hV3gHNgx0   \n",
       "4      None            1       188786     False  2agBDIr9MYDUducQPC1sFU   \n",
       "5      None            1       153000     False  4klLHDMK96dfrIMwUaGBg6   \n",
       "6      None            1       137547     False  3TdROUy5JZz1OcBKMZjeux   \n",
       "7      None            1       199493     False  5jvNtVu9fmqe7DMJRmCc3Q   \n",
       "9      None            1       165995     False  2Ai5UUXyxaulVbompgrzlo   \n",
       "\n",
       "   is_local                 name  \\\n",
       "0     False            Too Sweet   \n",
       "1     False               Yellow   \n",
       "2     False     Ultimi Fuochi II   \n",
       "3     False             Dreaming   \n",
       "4     False   River Flows In You   \n",
       "5     False  Every Single Moment   \n",
       "6     False               Idea 9   \n",
       "7     False               Anthem   \n",
       "9     False                 Pinô   \n",
       "\n",
       "                                         preview_url  track_number   type  \\\n",
       "0  https://p.scdn.co/mp3-preview/e526daac5ec6c459...             1  track   \n",
       "1  https://p.scdn.co/mp3-preview/c0d9119dc69cae75...             5  track   \n",
       "2  https://p.scdn.co/mp3-preview/12437283c2e6f13d...            11  track   \n",
       "3  https://p.scdn.co/mp3-preview/6d34e0fe3659d926...             4  track   \n",
       "4  https://p.scdn.co/mp3-preview/3cd81468938f7c9d...             4  track   \n",
       "5  https://p.scdn.co/mp3-preview/e561745546149b4e...             1  track   \n",
       "6  https://p.scdn.co/mp3-preview/d1409e22384bc33a...             1  track   \n",
       "7  https://p.scdn.co/mp3-preview/eecd58db33a1475c...            13  track   \n",
       "9  https://p.scdn.co/mp3-preview/a6fb39ce6ab6e6f4...             7  track   \n",
       "\n",
       "        isrc_id  \n",
       "0  IEACJ2300335  \n",
       "1  GBAYE0000267  \n",
       "2  ITC490700072  \n",
       "3  QZ4BX1900004  \n",
       "4  HKOA10616988  \n",
       "5  SE5ZV2227301  \n",
       "6  QM3DF2206675  \n",
       "7  SEAUA1700113  \n",
       "9  DEX261381907  "
      ]
     },
     "execution_count": 51,
     "metadata": {},
     "output_type": "execute_result"
    }
   ],
   "source": [
    "df_songs = pd.DataFrame(track_list)\n",
    "df_songs = df_songs.explode('artists')\n",
    "df_songs['artist_id'] = df_songs['artists'].apply(lambda x: x['id'])\n",
    "df_songs['isrc_id'] = df_songs['external_ids'].apply(lambda x: x['isrc'])\n",
    "df_songs = df_songs.drop(columns=['href','uri','external_urls','artists','external_ids', 'artist_id', 'popularity'])\n",
    "df_songs['album'] = None\n",
    "df_songs = df_songs.drop_duplicates()\n",
    "df_songs = df_songs.rename(columns={'id':'song_id','album':'album_wid'})\n",
    "df_songs"
   ]
  },
  {
   "cell_type": "markdown",
   "id": "19025329",
   "metadata": {},
   "source": [
    "#### Load (Type 1 SCD)"
   ]
  },
  {
   "cell_type": "code",
   "execution_count": 52,
   "id": "a8533925",
   "metadata": {},
   "outputs": [],
   "source": [
    "from sqlalchemy import BigInteger, Boolean, Text\n",
    "\n",
    "\n",
    "metadata = MetaData()\n",
    "\n",
    "dim_song = Table(\n",
    "    'DIM_SONG', metadata,\n",
    "    Column('song_wid', Integer, primary_key=True, autoincrement=True),\n",
    "    Column('song_id', String(62), nullable=False, unique=True),\n",
    "    Column('album_wid', Integer),\n",
    "    Column('disc_number', Integer),\n",
    "    Column('duration_ms', BigInteger, nullable=False),\n",
    "    Column('explicit', Boolean),\n",
    "    Column('is_local', Boolean),\n",
    "    Column('name', Text, nullable=False),\n",
    "    Column('preview_url', Text),\n",
    "    Column('track_number', Integer),\n",
    "    Column('type', String(50)),\n",
    "    Column('isrc_id', String(100))\n",
    ")"
   ]
  },
  {
   "cell_type": "code",
   "execution_count": 53,
   "id": "17bc19ff",
   "metadata": {},
   "outputs": [],
   "source": [
    "sql_functions.save_to_sql(df_songs, dim_song, key_cols = ['song_id'], wid = ['song_wid'], mode = 'upsert')"
   ]
  }
 ],
 "metadata": {
  "kernelspec": {
   "display_name": "Python 3 (ipykernel)",
   "language": "python",
   "name": "python3"
  },
  "language_info": {
   "codemirror_mode": {
    "name": "ipython",
    "version": 3
   },
   "file_extension": ".py",
   "mimetype": "text/x-python",
   "name": "python",
   "nbconvert_exporter": "python",
   "pygments_lexer": "ipython3",
   "version": "3.9.13"
  }
 },
 "nbformat": 4,
 "nbformat_minor": 5
}
