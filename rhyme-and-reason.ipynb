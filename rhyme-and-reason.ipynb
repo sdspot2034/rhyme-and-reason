{
 "cells": [
  {
   "cell_type": "code",
   "execution_count": 1,
   "id": "90f23e5a",
   "metadata": {},
   "outputs": [],
   "source": [
    "import json\n",
    "from authorization import SpotifyAuth\n",
    "import spotify_functions as spotify"
   ]
  },
  {
   "cell_type": "code",
   "execution_count": 2,
   "id": "27e29db8",
   "metadata": {},
   "outputs": [],
   "source": [
    "import datetime\n",
    "yesterday = datetime.datetime.now() - datetime.timedelta(days=1)\n",
    "# print(yesterday.timestamp()*1e3)\n",
    "cdc_time = int(yesterday.timestamp()*1e3)"
   ]
  },
  {
   "cell_type": "code",
   "execution_count": 3,
   "id": "68a74422",
   "metadata": {
    "scrolled": false
   },
   "outputs": [],
   "source": [
    "with open('client-secrets-rnr.json','r+') as secrets_file:\n",
    "    secrets = json.load(secrets_file)\n",
    "\n",
    "client_id = secrets[\"client_id\"]\n",
    "client_secret = secrets[\"client_secret\"]\n",
    "redirect_url = secrets[\"redirect_url\"]"
   ]
  },
  {
   "cell_type": "code",
   "execution_count": 4,
   "id": "7c969b1d",
   "metadata": {
    "scrolled": true
   },
   "outputs": [],
   "source": [
    "spotify_authorisation = SpotifyAuth(client_id=client_id, client_secret=client_secret, redirect_url=redirect_url)\n",
    "spotify_authorisation.set_access_token_from_file('access_token.json')"
   ]
  },
  {
   "cell_type": "markdown",
   "id": "11c177d0",
   "metadata": {},
   "source": [
    "# Extract, Transform, Load (ETL)"
   ]
  },
  {
   "cell_type": "code",
   "execution_count": 5,
   "id": "fc9cafd7",
   "metadata": {},
   "outputs": [],
   "source": [
    "from dw_etl_scripts import *"
   ]
  },
  {
   "cell_type": "markdown",
   "id": "e4c610a6",
   "metadata": {},
   "source": [
    "## Dimensions"
   ]
  },
  {
   "cell_type": "markdown",
   "id": "1fb1cacf",
   "metadata": {},
   "source": [
    "### DIM_USER"
   ]
  },
  {
   "cell_type": "markdown",
   "id": "f643a6fd",
   "metadata": {},
   "source": [
    "#### Load (Type 0 SCD)"
   ]
  },
  {
   "cell_type": "code",
   "execution_count": 6,
   "id": "f2f3bd91",
   "metadata": {},
   "outputs": [],
   "source": [
    "# dim_user_load(spotify, spotify_authorisation.get_access_token())"
   ]
  },
  {
   "cell_type": "markdown",
   "id": "a9d06bd6",
   "metadata": {},
   "source": [
    "### DIM_ARTIST"
   ]
  },
  {
   "cell_type": "markdown",
   "id": "a73e774c",
   "metadata": {},
   "source": [
    "#### Load (Type 1 SCD)"
   ]
  },
  {
   "cell_type": "code",
   "execution_count": 7,
   "id": "06a9f876",
   "metadata": {},
   "outputs": [],
   "source": [
    "dim_artist_load(spotify, spotify_authorisation.get_access_token(), cdc_time)"
   ]
  },
  {
   "cell_type": "markdown",
   "id": "d68134f1",
   "metadata": {},
   "source": [
    "### DIM_ALBUM"
   ]
  },
  {
   "cell_type": "markdown",
   "id": "eb9c8864",
   "metadata": {},
   "source": [
    "#### Load (Type 1 SCD)"
   ]
  },
  {
   "cell_type": "code",
   "execution_count": 8,
   "id": "0a17e8c2",
   "metadata": {},
   "outputs": [],
   "source": [
    "dim_album_load(spotify, spotify_authorisation.get_access_token(), cdc_time)"
   ]
  },
  {
   "cell_type": "markdown",
   "id": "2da54bec",
   "metadata": {},
   "source": [
    "### BRIDGE_ALBUM_ARTIST"
   ]
  },
  {
   "cell_type": "markdown",
   "id": "bce462cc",
   "metadata": {},
   "source": [
    "#### Load (Type 1 SCD)"
   ]
  },
  {
   "cell_type": "code",
   "execution_count": 9,
   "id": "6d150aa6",
   "metadata": {},
   "outputs": [],
   "source": [
    "bridge_album_artist_load(spotify, spotify_authorisation.get_access_token(), cdc_time)"
   ]
  },
  {
   "cell_type": "markdown",
   "id": "e5d5a7b4",
   "metadata": {},
   "source": [
    "### DIM_SONG"
   ]
  },
  {
   "cell_type": "markdown",
   "id": "19025329",
   "metadata": {},
   "source": [
    "#### Load (Type 1 SCD)"
   ]
  },
  {
   "cell_type": "code",
   "execution_count": 10,
   "id": "bf38fc06",
   "metadata": {},
   "outputs": [],
   "source": [
    "dim_song_load(spotify, spotify_authorisation.get_access_token(), cdc_time)"
   ]
  },
  {
   "cell_type": "markdown",
   "id": "9c0ee7dc",
   "metadata": {},
   "source": [
    "### FACT_PLAY"
   ]
  },
  {
   "cell_type": "code",
   "execution_count": 11,
   "id": "74492a02",
   "metadata": {},
   "outputs": [],
   "source": [
    "fact_play_load(spotify, spotify_authorisation.get_access_token(), cdc_time)"
   ]
  }
 ],
 "metadata": {
  "kernelspec": {
   "display_name": "Python 3 (ipykernel)",
   "language": "python",
   "name": "python3"
  },
  "language_info": {
   "codemirror_mode": {
    "name": "ipython",
    "version": 3
   },
   "file_extension": ".py",
   "mimetype": "text/x-python",
   "name": "python",
   "nbconvert_exporter": "python",
   "pygments_lexer": "ipython3",
   "version": "3.9.13"
  }
 },
 "nbformat": 4,
 "nbformat_minor": 5
}
