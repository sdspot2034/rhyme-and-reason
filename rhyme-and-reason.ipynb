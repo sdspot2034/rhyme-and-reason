{
 "cells": [
  {
   "cell_type": "code",
   "execution_count": 1,
   "id": "90f23e5a",
   "metadata": {},
   "outputs": [],
   "source": [
    "import json\n",
    "from authorization import *"
   ]
  },
  {
   "cell_type": "code",
   "execution_count": 2,
   "id": "68a74422",
   "metadata": {
    "scrolled": false
   },
   "outputs": [],
   "source": [
    "with open('client-secrets-rnr.json','r+') as secrets_file:\n",
    "    secrets = json.load(secrets_file)\n",
    "\n",
    "client_id = secrets[\"client_id\"]\n",
    "client_secret = secrets[\"client_secret\"]\n",
    "redirect_url = secrets[\"redirect_url\"]"
   ]
  },
  {
   "cell_type": "code",
   "execution_count": 3,
   "id": "4fa186d1",
   "metadata": {},
   "outputs": [],
   "source": [
    "access_token = get_access_token(\n",
    "    'access_token.json',\n",
    "    client_id,\n",
    "    client_secret,\n",
    "    redirect_url,\n",
    "    'auth_code.txt'\n",
    ")"
   ]
  },
  {
   "cell_type": "code",
   "execution_count": 4,
   "id": "a1b4308b",
   "metadata": {},
   "outputs": [],
   "source": [
    "# with open('access_token.json','r+') as file:\n",
    "#     auth_keys = json.load(file)\n",
    "    \n",
    "# if 'refresh_token' not in auth_keys.keys():\n",
    "#     with open('refresh_token.json','r+') as file:\n",
    "#         refresh_keys = json.load(file)\n",
    "#     refresh_token = refresh_keys['refresh_token']\n",
    "# else:\n",
    "#     refresh_token = auth_keys['refresh_token']\n",
    "# tokens = refresh_access_tokens(client_id, client_secret, refresh_token)"
   ]
  },
  {
   "cell_type": "code",
   "execution_count": 5,
   "id": "b7c5cdf3",
   "metadata": {},
   "outputs": [],
   "source": [
    "# if 'refresh_token' not in tokens.keys():\n",
    "#     with open('refresh_token.json','w+') as file:\n",
    "#         file.write(json.dumps({\"refresh_token\":f\"{refresh_token}\"}))\n",
    "\n",
    "# with open('auth_tokens.json','w+') as file:\n",
    "#         json.dump(tokens, file, indent=4)"
   ]
  },
  {
   "cell_type": "markdown",
   "id": "ec6cd9cf",
   "metadata": {},
   "source": [
    "# Get User Details"
   ]
  },
  {
   "cell_type": "code",
   "execution_count": 4,
   "id": "29ff05f4",
   "metadata": {},
   "outputs": [],
   "source": [
    "import spotify_functions as spotify"
   ]
  },
  {
   "cell_type": "code",
   "execution_count": 5,
   "id": "377c6ea1",
   "metadata": {},
   "outputs": [
    {
     "data": {
      "text/plain": [
       "{'error': {'status': 401, 'message': 'The access token expired'}}"
      ]
     },
     "execution_count": 5,
     "metadata": {},
     "output_type": "execute_result"
    }
   ],
   "source": [
    "spotify.get_user_details(access_token)"
   ]
  },
  {
   "cell_type": "code",
   "execution_count": null,
   "id": "660f0458",
   "metadata": {},
   "outputs": [],
   "source": []
  },
  {
   "cell_type": "code",
   "execution_count": null,
   "id": "27e29db8",
   "metadata": {},
   "outputs": [],
   "source": [
    "import datetime\n",
    "yesterday = datetime.datetime.now() - datetime.timedelta(days=1)\n",
    "# print(yesterday.timestamp()*1e3)\n",
    "cdc_time = int(yesterday.timestamp()*1e3)"
   ]
  },
  {
   "cell_type": "markdown",
   "id": "c45c66b4",
   "metadata": {},
   "source": [
    "# Get All Songs Played in the last one day"
   ]
  },
  {
   "cell_type": "code",
   "execution_count": null,
   "id": "62cd0052",
   "metadata": {},
   "outputs": [],
   "source": [
    "with open('auth_tokens.json','r+') as file:\n",
    "    auth_keys = json.load(file)\n",
    "    \n",
    "token = auth_keys[\"access_token\"]\n",
    "\n",
    "result = requests.get(\"https://api.spotify.com/v1/me/player/recently-played\", \n",
    "        headers={\"Authorization\": \"Bearer \" + token}, params={\"after\": str(cdc_time), \"limit\":\"50\"})\n"
   ]
  },
  {
   "cell_type": "code",
   "execution_count": null,
   "id": "64872620",
   "metadata": {},
   "outputs": [],
   "source": [
    "json_results = json.loads(result.content)\n",
    "print(json_results)"
   ]
  },
  {
   "cell_type": "code",
   "execution_count": null,
   "id": "8a15510a",
   "metadata": {},
   "outputs": [],
   "source": [
    "import pprint\n",
    "pprint.pprint(json_results)"
   ]
  },
  {
   "cell_type": "markdown",
   "id": "a2f47724",
   "metadata": {},
   "source": [
    "## EDA over recent history"
   ]
  },
  {
   "cell_type": "markdown",
   "id": "e5e8860f",
   "metadata": {},
   "source": [
    "### Number of songs played"
   ]
  },
  {
   "cell_type": "code",
   "execution_count": null,
   "id": "30b4c792",
   "metadata": {},
   "outputs": [],
   "source": [
    "len(json_results['items'])"
   ]
  },
  {
   "cell_type": "code",
   "execution_count": null,
   "id": "29fe5c50",
   "metadata": {},
   "outputs": [],
   "source": [
    "type(json_results['items'])"
   ]
  },
  {
   "cell_type": "markdown",
   "id": "af449a03",
   "metadata": {},
   "source": [
    "### Fetch details of a song"
   ]
  },
  {
   "cell_type": "markdown",
   "id": "0c0a32cf",
   "metadata": {},
   "source": [
    "#### See available data for a song"
   ]
  },
  {
   "cell_type": "code",
   "execution_count": null,
   "id": "175ed54d",
   "metadata": {},
   "outputs": [],
   "source": [
    "json_results['items'][0]"
   ]
  },
  {
   "cell_type": "code",
   "execution_count": null,
   "id": "db0a7fed",
   "metadata": {},
   "outputs": [],
   "source": [
    "json_results['items'][0].keys()"
   ]
  },
  {
   "cell_type": "code",
   "execution_count": null,
   "id": "b7cd26ee",
   "metadata": {},
   "outputs": [],
   "source": [
    "json_results['items'][0]['track']"
   ]
  },
  {
   "cell_type": "code",
   "execution_count": null,
   "id": "84306bbe",
   "metadata": {},
   "outputs": [],
   "source": [
    "list(json_results['items'][0]['track'].keys())"
   ]
  },
  {
   "cell_type": "code",
   "execution_count": null,
   "id": "e1973077",
   "metadata": {},
   "outputs": [],
   "source": [
    "track_details = {k: v for k, v in json_results['items'][0]['track'].items() if k not in ('available_markets')}\n",
    "\n",
    "if 'album' in track_details:\n",
    "    del track_details['album']['images']\n",
    "    del track_details['album']['available_markets']\n",
    "\n",
    "track_details\n"
   ]
  }
 ],
 "metadata": {
  "kernelspec": {
   "display_name": "Python 3 (ipykernel)",
   "language": "python",
   "name": "python3"
  },
  "language_info": {
   "codemirror_mode": {
    "name": "ipython",
    "version": 3
   },
   "file_extension": ".py",
   "mimetype": "text/x-python",
   "name": "python",
   "nbconvert_exporter": "python",
   "pygments_lexer": "ipython3",
   "version": "3.9.13"
  }
 },
 "nbformat": 4,
 "nbformat_minor": 5
}
