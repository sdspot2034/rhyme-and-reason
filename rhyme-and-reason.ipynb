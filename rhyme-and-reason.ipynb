{
 "cells": [
  {
   "cell_type": "code",
   "execution_count": 1,
   "id": "90f23e5a",
   "metadata": {},
   "outputs": [],
   "source": [
    "import json\n",
    "from authorization import SpotifyAuth"
   ]
  },
  {
   "cell_type": "code",
   "execution_count": 2,
   "id": "68a74422",
   "metadata": {
    "scrolled": false
   },
   "outputs": [],
   "source": [
    "with open('client-secrets-rnr.json','r+') as secrets_file:\n",
    "    secrets = json.load(secrets_file)\n",
    "\n",
    "client_id = secrets[\"client_id\"]\n",
    "client_secret = secrets[\"client_secret\"]\n",
    "redirect_url = secrets[\"redirect_url\"]"
   ]
  },
  {
   "cell_type": "code",
   "execution_count": 3,
   "id": "7c969b1d",
   "metadata": {
    "scrolled": true
   },
   "outputs": [],
   "source": [
    "spotify_authorisation = SpotifyAuth(client_id=client_id, client_secret=client_secret, redirect_url=redirect_url)\n",
    "spotify_authorisation.set_access_token_from_file('access_token.json')"
   ]
  },
  {
   "cell_type": "code",
   "execution_count": 4,
   "id": "27e29db8",
   "metadata": {},
   "outputs": [],
   "source": [
    "import datetime\n",
    "yesterday = datetime.datetime.now() - datetime.timedelta(days=1)\n",
    "# print(yesterday.timestamp()*1e3)\n",
    "cdc_time = int(yesterday.timestamp()*1e3)"
   ]
  },
  {
   "cell_type": "markdown",
   "id": "c45c66b4",
   "metadata": {},
   "source": [
    "# Get All Songs Played in the last one day"
   ]
  },
  {
   "cell_type": "code",
   "execution_count": 5,
   "id": "9cbe8ed2",
   "metadata": {},
   "outputs": [],
   "source": [
    "import spotify_functions as spotify"
   ]
  },
  {
   "cell_type": "code",
   "execution_count": 6,
   "id": "da0e887a",
   "metadata": {},
   "outputs": [],
   "source": [
    "token = spotify_authorisation.get_access_token()\n",
    "history = spotify.get_listening_history(token, cdc_time)['items']"
   ]
  },
  {
   "cell_type": "markdown",
   "id": "a2f47724",
   "metadata": {},
   "source": [
    "## EDA over recent history"
   ]
  },
  {
   "cell_type": "markdown",
   "id": "e5e8860f",
   "metadata": {},
   "source": [
    "### Number of songs played"
   ]
  },
  {
   "cell_type": "code",
   "execution_count": 7,
   "id": "30b4c792",
   "metadata": {},
   "outputs": [
    {
     "data": {
      "text/plain": [
       "3"
      ]
     },
     "execution_count": 7,
     "metadata": {},
     "output_type": "execute_result"
    }
   ],
   "source": [
    "len(history)"
   ]
  },
  {
   "cell_type": "markdown",
   "id": "af449a03",
   "metadata": {},
   "source": [
    "### Fetch details of a song"
   ]
  },
  {
   "cell_type": "markdown",
   "id": "0c0a32cf",
   "metadata": {},
   "source": [
    "#### See available data for a song"
   ]
  },
  {
   "cell_type": "code",
   "execution_count": 8,
   "id": "db0a7fed",
   "metadata": {
    "scrolled": true
   },
   "outputs": [
    {
     "data": {
      "text/plain": [
       "dict_keys(['track', 'played_at', 'context'])"
      ]
     },
     "execution_count": 8,
     "metadata": {},
     "output_type": "execute_result"
    }
   ],
   "source": [
    "history[0].keys()"
   ]
  },
  {
   "cell_type": "code",
   "execution_count": 9,
   "id": "84306bbe",
   "metadata": {},
   "outputs": [
    {
     "data": {
      "text/plain": [
       "['album',\n",
       " 'artists',\n",
       " 'disc_number',\n",
       " 'duration_ms',\n",
       " 'explicit',\n",
       " 'external_ids',\n",
       " 'external_urls',\n",
       " 'href',\n",
       " 'id',\n",
       " 'is_local',\n",
       " 'name',\n",
       " 'popularity',\n",
       " 'preview_url',\n",
       " 'track_number',\n",
       " 'type',\n",
       " 'uri']"
      ]
     },
     "execution_count": 9,
     "metadata": {},
     "output_type": "execute_result"
    }
   ],
   "source": [
    "list(history[0]['track'].keys())"
   ]
  },
  {
   "cell_type": "code",
   "execution_count": 10,
   "id": "49f220b3",
   "metadata": {},
   "outputs": [
    {
     "data": {
      "text/plain": [
       "'2024-08-17T15:11:38.535Z'"
      ]
     },
     "execution_count": 10,
     "metadata": {},
     "output_type": "execute_result"
    }
   ],
   "source": [
    "history[0]['played_at']"
   ]
  },
  {
   "cell_type": "code",
   "execution_count": 11,
   "id": "a7e3e817",
   "metadata": {},
   "outputs": [
    {
     "name": "stdout",
     "output_type": "stream",
     "text": [
      "None\n"
     ]
    }
   ],
   "source": [
    "print(history[0]['context'])"
   ]
  },
  {
   "cell_type": "markdown",
   "id": "11c177d0",
   "metadata": {},
   "source": [
    "# Extract, Transform, Load (ETL)"
   ]
  },
  {
   "cell_type": "markdown",
   "id": "e4c610a6",
   "metadata": {},
   "source": [
    "## Dimensions"
   ]
  },
  {
   "cell_type": "markdown",
   "id": "1fb1cacf",
   "metadata": {},
   "source": [
    "### DIM_USER"
   ]
  },
  {
   "cell_type": "code",
   "execution_count": 12,
   "id": "f81d36dc",
   "metadata": {},
   "outputs": [],
   "source": [
    "from dw_etl_scripts.dim import *"
   ]
  },
  {
   "cell_type": "markdown",
   "id": "f643a6fd",
   "metadata": {},
   "source": [
    "#### Load (Type 0 SCD)"
   ]
  },
  {
   "cell_type": "code",
   "execution_count": 13,
   "id": "72fb1e28",
   "metadata": {},
   "outputs": [],
   "source": [
    "# dim_user_load(spotify, spotify_authorisation.get_access_token())"
   ]
  },
  {
   "cell_type": "markdown",
   "id": "a9d06bd6",
   "metadata": {},
   "source": [
    "### DIM_ARTIST"
   ]
  },
  {
   "cell_type": "markdown",
   "id": "a73e774c",
   "metadata": {},
   "source": [
    "#### Load (Type 1 SCD)"
   ]
  },
  {
   "cell_type": "code",
   "execution_count": 14,
   "id": "b0fda33c",
   "metadata": {},
   "outputs": [],
   "source": [
    "dim_artist_load(spotify, spotify_authorisation.get_access_token(), cdc_time)"
   ]
  },
  {
   "cell_type": "markdown",
   "id": "d68134f1",
   "metadata": {},
   "source": [
    "### DIM_ALBUM"
   ]
  },
  {
   "cell_type": "code",
   "execution_count": 15,
   "id": "e69fc2c6",
   "metadata": {},
   "outputs": [],
   "source": [
    "dim_album_load(spotify, spotify_authorisation.get_access_token(), cdc_time)"
   ]
  },
  {
   "cell_type": "code",
   "execution_count": 120,
   "id": "5492f9d9",
   "metadata": {},
   "outputs": [],
   "source": [
    "album_list = [play['track']['album'] for play in history]"
   ]
  },
  {
   "cell_type": "code",
   "execution_count": 122,
   "id": "7e2b1368",
   "metadata": {},
   "outputs": [],
   "source": [
    "df_album = pd.DataFrame(album_list)\n",
    "df_album['cover_image_url'] = df_album['images'].apply(get_url)\n",
    "df_album = df_album.drop(columns=['href','uri','external_urls', 'images','artists','type'])\n",
    "df_album = df_album.drop_duplicates()\n",
    "df_album = df_album.rename(columns={'id':'album_id','name':'album_name'})\n",
    "# df_album"
   ]
  },
  {
   "cell_type": "markdown",
   "id": "eb9c8864",
   "metadata": {},
   "source": [
    "#### Load (Type 1 SCD)"
   ]
  },
  {
   "cell_type": "code",
   "execution_count": 123,
   "id": "a22f2153",
   "metadata": {},
   "outputs": [],
   "source": [
    "from sqlalchemy import MetaData, Table, Column, Integer, String, Text, Date\n",
    "\n",
    "metadata = MetaData()\n",
    "\n",
    "dim_album = Table(\n",
    "    'DIM_ALBUM', metadata,\n",
    "    Column('album_wid', Integer, primary_key=True, autoincrement=True),\n",
    "    Column('album_id', String(62), nullable=False, unique=True),\n",
    "    Column('album_type', String(20), nullable=False),\n",
    "    Column('album_name', Text, nullable=False),\n",
    "    Column('release_date', Date),\n",
    "    Column('release_date_precision', String(20)),\n",
    "    Column('total_tracks', Integer),\n",
    "    Column('cover_image_url', Text)\n",
    ")"
   ]
  },
  {
   "cell_type": "code",
   "execution_count": 124,
   "id": "6676c463",
   "metadata": {},
   "outputs": [],
   "source": [
    "sql_functions.save_to_sql(df_album, dim_album, key_cols = ['album_id'], wid = ['album_wid'], mode = 'upsert')"
   ]
  },
  {
   "cell_type": "markdown",
   "id": "2da54bec",
   "metadata": {},
   "source": [
    "### BRIDGE_ALBUM_ARTIST"
   ]
  },
  {
   "cell_type": "code",
   "execution_count": 125,
   "id": "1678e939",
   "metadata": {},
   "outputs": [],
   "source": [
    "dim_artist = sql_functions.read_from_sql('DIM_ARTIST')\n",
    "dim_album = sql_functions.read_from_sql('DIM_ALBUM')\n",
    "df_album = pd.DataFrame(album_list)\n",
    "df_album_map = df_album[['id','artists']]\n",
    "df_album_map = df_album_map.explode('artists')\n",
    "df_album_map['artist_id'] = df_album_map['artists'].apply(lambda x:x['id'])\n",
    "df_album_map = df_album_map.drop(columns=['artists'])\n",
    "# df_album_map"
   ]
  },
  {
   "cell_type": "code",
   "execution_count": 126,
   "id": "95df969f",
   "metadata": {},
   "outputs": [],
   "source": [
    "# Join with DIM_ARTIST, DIM_ALBUM to get ARTIST_WID, ALBUM_WID\n",
    "df_bridge_album_artist = df_album_map.merge(dim_artist, left_on='artist_id', right_on='spotify_id')\n",
    "df_bridge_album_artist = df_bridge_album_artist.merge(dim_album, left_on='id', right_on='album_id')\n",
    "df_bridge_album_artist = df_bridge_album_artist[['album_wid','artist_wid']]\n",
    "df_bridge_album_artist = df_bridge_album_artist.drop_duplicates()\n",
    "# df_bridge_album_artist"
   ]
  },
  {
   "cell_type": "markdown",
   "id": "bce462cc",
   "metadata": {},
   "source": [
    "#### Load (Type 1 SCD)"
   ]
  },
  {
   "cell_type": "code",
   "execution_count": 127,
   "id": "ded1d4eb",
   "metadata": {},
   "outputs": [],
   "source": [
    "from sqlalchemy import MetaData, Table, Column, Integer\n",
    "\n",
    "metadata = MetaData()\n",
    "\n",
    "bridge_album_artist = Table(\n",
    "    'BRIDGE_ALBUM_ARTIST', metadata,\n",
    "    Column('album_artist_map_wid', Integer, primary_key=True, autoincrement=True),\n",
    "    Column('album_wid', Integer, nullable=False),\n",
    "    Column('artist_wid', Integer, nullable=False)\n",
    ")"
   ]
  },
  {
   "cell_type": "code",
   "execution_count": 128,
   "id": "ba0390b8",
   "metadata": {},
   "outputs": [],
   "source": [
    "sql_functions.save_to_sql(\n",
    "    df_bridge_album_artist\n",
    "    , bridge_album_artist\n",
    "    , key_cols = ['album_wid', 'artist_wid']\n",
    "    , wid = ['album_artist_map_wid']\n",
    "    , mode = 'ignore'\n",
    ")"
   ]
  },
  {
   "cell_type": "markdown",
   "id": "e5d5a7b4",
   "metadata": {},
   "source": [
    "### DIM_SONG"
   ]
  },
  {
   "cell_type": "code",
   "execution_count": 129,
   "id": "7f9a0da7",
   "metadata": {},
   "outputs": [],
   "source": [
    "dim_album = sql_functions.read_from_sql('DIM_ALBUM')"
   ]
  },
  {
   "cell_type": "code",
   "execution_count": 130,
   "id": "6dc4ca9a",
   "metadata": {},
   "outputs": [
    {
     "data": {
      "text/plain": [
       "dict_keys(['album', 'artists', 'disc_number', 'duration_ms', 'explicit', 'external_ids', 'external_urls', 'href', 'id', 'is_local', 'name', 'popularity', 'preview_url', 'track_number', 'type', 'uri'])"
      ]
     },
     "execution_count": 130,
     "metadata": {},
     "output_type": "execute_result"
    }
   ],
   "source": [
    "history[0]['track'].keys()"
   ]
  },
  {
   "cell_type": "code",
   "execution_count": 131,
   "id": "83ffb2a8",
   "metadata": {},
   "outputs": [],
   "source": [
    "track_list = [play['track'] for play in history]"
   ]
  },
  {
   "cell_type": "code",
   "execution_count": 132,
   "id": "88a2c556",
   "metadata": {
    "scrolled": true
   },
   "outputs": [
    {
     "data": {
      "text/html": [
       "<div>\n",
       "<style scoped>\n",
       "    .dataframe tbody tr th:only-of-type {\n",
       "        vertical-align: middle;\n",
       "    }\n",
       "\n",
       "    .dataframe tbody tr th {\n",
       "        vertical-align: top;\n",
       "    }\n",
       "\n",
       "    .dataframe thead th {\n",
       "        text-align: right;\n",
       "    }\n",
       "</style>\n",
       "<table border=\"1\" class=\"dataframe\">\n",
       "  <thead>\n",
       "    <tr style=\"text-align: right;\">\n",
       "      <th></th>\n",
       "      <th>disc_number</th>\n",
       "      <th>duration_ms</th>\n",
       "      <th>explicit</th>\n",
       "      <th>song_id</th>\n",
       "      <th>is_local</th>\n",
       "      <th>name</th>\n",
       "      <th>preview_url</th>\n",
       "      <th>track_number</th>\n",
       "      <th>type</th>\n",
       "      <th>isrc_id</th>\n",
       "      <th>album_wid</th>\n",
       "    </tr>\n",
       "  </thead>\n",
       "  <tbody>\n",
       "    <tr>\n",
       "      <th>0</th>\n",
       "      <td>1</td>\n",
       "      <td>149706</td>\n",
       "      <td>False</td>\n",
       "      <td>6XQHlsNu6so4PdglFkJQRJ</td>\n",
       "      <td>False</td>\n",
       "      <td>City Of Stars - From \"La La Land\" Soundtrack</td>\n",
       "      <td>https://p.scdn.co/mp3-preview/fde76ee19ffd4123...</td>\n",
       "      <td>9</td>\n",
       "      <td>track</td>\n",
       "      <td>USUG11600656</td>\n",
       "      <td>71</td>\n",
       "    </tr>\n",
       "    <tr>\n",
       "      <th>2</th>\n",
       "      <td>1</td>\n",
       "      <td>235813</td>\n",
       "      <td>False</td>\n",
       "      <td>72R0X0h8YaxYNpegeoOl0M</td>\n",
       "      <td>False</td>\n",
       "      <td>Kiss Me Slowly</td>\n",
       "      <td>https://p.scdn.co/mp3-preview/6de18c73982456bc...</td>\n",
       "      <td>7</td>\n",
       "      <td>track</td>\n",
       "      <td>USUM71100714</td>\n",
       "      <td>72</td>\n",
       "    </tr>\n",
       "    <tr>\n",
       "      <th>4</th>\n",
       "      <td>1</td>\n",
       "      <td>206218</td>\n",
       "      <td>False</td>\n",
       "      <td>4ENjopIjOD5PKPb52NKNKo</td>\n",
       "      <td>False</td>\n",
       "      <td>Hero</td>\n",
       "      <td>https://p.scdn.co/mp3-preview/fea431c768d0d137...</td>\n",
       "      <td>1</td>\n",
       "      <td>track</td>\n",
       "      <td>QZXDB2300087</td>\n",
       "      <td>60</td>\n",
       "    </tr>\n",
       "    <tr>\n",
       "      <th>5</th>\n",
       "      <td>1</td>\n",
       "      <td>87000</td>\n",
       "      <td>False</td>\n",
       "      <td>6me7F0aaZjwDo6RJ5MrfBD</td>\n",
       "      <td>False</td>\n",
       "      <td>Evergreen</td>\n",
       "      <td>https://p.scdn.co/mp3-preview/fca7555fba8261b7...</td>\n",
       "      <td>1</td>\n",
       "      <td>track</td>\n",
       "      <td>SEYOK1732035</td>\n",
       "      <td>47</td>\n",
       "    </tr>\n",
       "    <tr>\n",
       "      <th>6</th>\n",
       "      <td>1</td>\n",
       "      <td>252818</td>\n",
       "      <td>False</td>\n",
       "      <td>456WNXWhDwYOSf5SpTuqxd</td>\n",
       "      <td>False</td>\n",
       "      <td>Dog Days Are Over</td>\n",
       "      <td>https://p.scdn.co/mp3-preview/f2e9f824fbfb697b...</td>\n",
       "      <td>1</td>\n",
       "      <td>track</td>\n",
       "      <td>GBUM70900209</td>\n",
       "      <td>66</td>\n",
       "    </tr>\n",
       "  </tbody>\n",
       "</table>\n",
       "</div>"
      ],
      "text/plain": [
       "   disc_number  duration_ms  explicit                 song_id  is_local  \\\n",
       "0            1       149706     False  6XQHlsNu6so4PdglFkJQRJ     False   \n",
       "2            1       235813     False  72R0X0h8YaxYNpegeoOl0M     False   \n",
       "4            1       206218     False  4ENjopIjOD5PKPb52NKNKo     False   \n",
       "5            1        87000     False  6me7F0aaZjwDo6RJ5MrfBD     False   \n",
       "6            1       252818     False  456WNXWhDwYOSf5SpTuqxd     False   \n",
       "\n",
       "                                           name  \\\n",
       "0  City Of Stars - From \"La La Land\" Soundtrack   \n",
       "2                                Kiss Me Slowly   \n",
       "4                                          Hero   \n",
       "5                                     Evergreen   \n",
       "6                             Dog Days Are Over   \n",
       "\n",
       "                                         preview_url  track_number   type  \\\n",
       "0  https://p.scdn.co/mp3-preview/fde76ee19ffd4123...             9  track   \n",
       "2  https://p.scdn.co/mp3-preview/6de18c73982456bc...             7  track   \n",
       "4  https://p.scdn.co/mp3-preview/fea431c768d0d137...             1  track   \n",
       "5  https://p.scdn.co/mp3-preview/fca7555fba8261b7...             1  track   \n",
       "6  https://p.scdn.co/mp3-preview/f2e9f824fbfb697b...             1  track   \n",
       "\n",
       "        isrc_id  album_wid  \n",
       "0  USUG11600656         71  \n",
       "2  USUM71100714         72  \n",
       "4  QZXDB2300087         60  \n",
       "5  SEYOK1732035         47  \n",
       "6  GBUM70900209         66  "
      ]
     },
     "execution_count": 132,
     "metadata": {},
     "output_type": "execute_result"
    }
   ],
   "source": [
    "df_songs = pd.DataFrame(track_list)\n",
    "df_songs = df_songs.explode('artists')\n",
    "df_songs['artist_id'] = df_songs['artists'].apply(lambda x: x['id'])\n",
    "df_songs['isrc_id'] = df_songs['external_ids'].apply(lambda x: x['isrc'])\n",
    "df_songs = df_songs.drop(columns=['href','uri','external_urls','artists','external_ids', 'artist_id', 'popularity'])\n",
    "df_songs['album_id'] = df_songs['album'].apply(lambda x:x['id'])\n",
    "df_songs = df_songs.merge(dim_album[['album_wid','album_id']], left_on='album_id', right_on='album_id')\n",
    "df_songs = df_songs.drop(columns=['album','album_id'])\n",
    "df_songs = df_songs.rename(columns={'id':'song_id'})\n",
    "df_songs = df_songs.drop_duplicates()\n",
    "df_songs"
   ]
  },
  {
   "cell_type": "markdown",
   "id": "19025329",
   "metadata": {},
   "source": [
    "#### Load (Type 1 SCD)"
   ]
  },
  {
   "cell_type": "code",
   "execution_count": 133,
   "id": "a8533925",
   "metadata": {},
   "outputs": [],
   "source": [
    "from sqlalchemy import BigInteger, Boolean, Text\n",
    "\n",
    "\n",
    "metadata = MetaData()\n",
    "\n",
    "dim_song = Table(\n",
    "    'DIM_SONG', metadata,\n",
    "    Column('song_wid', Integer, primary_key=True, autoincrement=True),\n",
    "    Column('song_id', String(62), nullable=False, unique=True),\n",
    "    Column('album_wid', Integer),\n",
    "    Column('disc_number', Integer),\n",
    "    Column('duration_ms', BigInteger, nullable=False),\n",
    "    Column('explicit', Boolean),\n",
    "    Column('is_local', Boolean),\n",
    "    Column('name', Text, nullable=False),\n",
    "    Column('preview_url', Text),\n",
    "    Column('track_number', Integer),\n",
    "    Column('type', String(50)),\n",
    "    Column('isrc_id', String(100))\n",
    ")"
   ]
  },
  {
   "cell_type": "code",
   "execution_count": 134,
   "id": "17bc19ff",
   "metadata": {},
   "outputs": [],
   "source": [
    "sql_functions.save_to_sql(df_songs, dim_song, key_cols = ['song_id'], wid = ['song_wid'], mode = 'upsert')"
   ]
  },
  {
   "cell_type": "markdown",
   "id": "9c0ee7dc",
   "metadata": {},
   "source": [
    "### FACT_PLAY"
   ]
  },
  {
   "cell_type": "code",
   "execution_count": 165,
   "id": "07575cb8",
   "metadata": {},
   "outputs": [
    {
     "data": {
      "text/html": [
       "<div>\n",
       "<style scoped>\n",
       "    .dataframe tbody tr th:only-of-type {\n",
       "        vertical-align: middle;\n",
       "    }\n",
       "\n",
       "    .dataframe tbody tr th {\n",
       "        vertical-align: top;\n",
       "    }\n",
       "\n",
       "    .dataframe thead th {\n",
       "        text-align: right;\n",
       "    }\n",
       "</style>\n",
       "<table border=\"1\" class=\"dataframe\">\n",
       "  <thead>\n",
       "    <tr style=\"text-align: right;\">\n",
       "      <th></th>\n",
       "      <th>song_wid</th>\n",
       "      <th>played_at</th>\n",
       "      <th>context_playlist</th>\n",
       "    </tr>\n",
       "  </thead>\n",
       "  <tbody>\n",
       "    <tr>\n",
       "      <th>0</th>\n",
       "      <td>89</td>\n",
       "      <td>2024-08-11 16:33:43.891000</td>\n",
       "      <td>https://api.spotify.com/v1/playlists/1TkXrIRsO...</td>\n",
       "    </tr>\n",
       "    <tr>\n",
       "      <th>1</th>\n",
       "      <td>90</td>\n",
       "      <td>2024-08-11 16:31:13.712000</td>\n",
       "      <td>https://api.spotify.com/v1/playlists/1TkXrIRsO...</td>\n",
       "    </tr>\n",
       "    <tr>\n",
       "      <th>2</th>\n",
       "      <td>90</td>\n",
       "      <td>2024-08-11 16:30:54.486000</td>\n",
       "      <td>https://api.spotify.com/v1/playlists/1TkXrIRsO...</td>\n",
       "    </tr>\n",
       "    <tr>\n",
       "      <th>3</th>\n",
       "      <td>50</td>\n",
       "      <td>2024-08-11 16:13:44.672000</td>\n",
       "      <td>None</td>\n",
       "    </tr>\n",
       "    <tr>\n",
       "      <th>4</th>\n",
       "      <td>36</td>\n",
       "      <td>2024-08-11 12:12:53.419000</td>\n",
       "      <td>None</td>\n",
       "    </tr>\n",
       "    <tr>\n",
       "      <th>5</th>\n",
       "      <td>87</td>\n",
       "      <td>2024-08-11 12:03:50.717000</td>\n",
       "      <td>None</td>\n",
       "    </tr>\n",
       "  </tbody>\n",
       "</table>\n",
       "</div>"
      ],
      "text/plain": [
       "   song_wid                   played_at  \\\n",
       "0        89  2024-08-11 16:33:43.891000   \n",
       "1        90  2024-08-11 16:31:13.712000   \n",
       "2        90  2024-08-11 16:30:54.486000   \n",
       "3        50  2024-08-11 16:13:44.672000   \n",
       "4        36  2024-08-11 12:12:53.419000   \n",
       "5        87  2024-08-11 12:03:50.717000   \n",
       "\n",
       "                                    context_playlist  \n",
       "0  https://api.spotify.com/v1/playlists/1TkXrIRsO...  \n",
       "1  https://api.spotify.com/v1/playlists/1TkXrIRsO...  \n",
       "2  https://api.spotify.com/v1/playlists/1TkXrIRsO...  \n",
       "3                                               None  \n",
       "4                                               None  \n",
       "5                                               None  "
      ]
     },
     "execution_count": 165,
     "metadata": {},
     "output_type": "execute_result"
    }
   ],
   "source": [
    "dim_song = sql_functions.read_from_sql('DIM_SONG')\n",
    "df_play = pd.DataFrame(history)\n",
    "df_play['song_id'] = df_play['track'].apply(lambda x:x['id'])\n",
    "df_play = df_play.merge(dim_song, 'left', on = 'song_id')\n",
    "df_play['context_playlist'] = df_play['context'].apply(lambda x:x['href'] if x and 'href' in x.keys() else None)\n",
    "df_play = df_play[['song_wid','played_at','context_playlist']]\n",
    "df_play['played_at'] = pd.to_datetime(df_play['played_at'])\n",
    "df_play['played_at'] = df_play['played_at'] + pd.Timedelta(hours=5, minutes=30)\n",
    "df_play['played_at'] = df_play['played_at'].apply(lambda x:x.strftime('%Y-%m-%d %H:%M:%S.%f'))\n",
    "df_play"
   ]
  },
  {
   "cell_type": "markdown",
   "id": "ca7acd19",
   "metadata": {},
   "source": [
    "#### Load"
   ]
  },
  {
   "cell_type": "code",
   "execution_count": 166,
   "id": "a3a89150",
   "metadata": {},
   "outputs": [],
   "source": [
    "from sqlalchemy import Table, Column, Integer, String, Text, DateTime\n",
    "\n",
    "# Define the metadata\n",
    "metadata = MetaData()\n",
    "\n",
    "# Define the FACT_PLAY table\n",
    "fact_play = Table(\n",
    "    'FACT_PLAY', metadata,\n",
    "    Column('play_wid', Integer, primary_key=True, autoincrement=True),\n",
    "    Column('song_wid', Integer, nullable=False),\n",
    "    Column('played_at', DateTime, nullable=False),\n",
    "    Column('context_playlist', Text, nullable=False)\n",
    ")"
   ]
  },
  {
   "cell_type": "code",
   "execution_count": 169,
   "id": "4c673bc2",
   "metadata": {},
   "outputs": [],
   "source": [
    "sql_functions.save_to_sql(df_play, fact_play, key_cols = ['song_wid','played_at'], wid = ['play_wid'], mode = 'append')"
   ]
  }
 ],
 "metadata": {
  "kernelspec": {
   "display_name": "Python 3 (ipykernel)",
   "language": "python",
   "name": "python3"
  },
  "language_info": {
   "codemirror_mode": {
    "name": "ipython",
    "version": 3
   },
   "file_extension": ".py",
   "mimetype": "text/x-python",
   "name": "python",
   "nbconvert_exporter": "python",
   "pygments_lexer": "ipython3",
   "version": "3.9.13"
  }
 },
 "nbformat": 4,
 "nbformat_minor": 5
}
