{
 "cells": [
  {
   "cell_type": "code",
   "execution_count": 1,
   "id": "90f23e5a",
   "metadata": {},
   "outputs": [],
   "source": [
    "import requests\n",
    "import base64\n",
    "import json"
   ]
  },
  {
   "cell_type": "code",
   "execution_count": 2,
   "id": "68a74422",
   "metadata": {
    "scrolled": false
   },
   "outputs": [],
   "source": [
    "with open('client-secrets-rnr.json','r+') as secrets_file:\n",
    "    secrets = json.load(secrets_file)\n",
    "\n",
    "client_id = secrets[\"client_id\"]\n",
    "client_secret = secrets[\"client_secret\"]\n",
    "redirect_url = secrets[\"redirect_url\"]"
   ]
  },
  {
   "cell_type": "markdown",
   "id": "d81f19fb",
   "metadata": {},
   "source": [
    "# OAuth Authorization"
   ]
  },
  {
   "cell_type": "code",
   "execution_count": 3,
   "id": "8e692053",
   "metadata": {
    "scrolled": false
   },
   "outputs": [
    {
     "name": "stdout",
     "output_type": "stream",
     "text": [
      " * Serving Flask app \"__main__\" (lazy loading)\n",
      " * Environment: production\n",
      "\u001b[31m   WARNING: This is a development server. Do not use it in a production deployment.\u001b[0m\n",
      "\u001b[2m   Use a production WSGI server instead.\u001b[0m\n",
      " * Debug mode: off\n"
     ]
    },
    {
     "name": "stderr",
     "output_type": "stream",
     "text": [
      " * Running on http://localhost:5050/ (Press CTRL+C to quit)\n",
      "127.0.0.1 - - [14/Feb/2024 00:18:49] \"GET / HTTP/1.1\" 302 -\n",
      "/var/folders/_m/s8jbyc4n0yjb3n2vnvp2pc4h0000gn/T/ipykernel_13314/3966248663.py:48: UserWarning: The 'environ['werkzeug.server.shutdown']' function is deprecated and will be removed in Werkzeug 2.1.\n",
      "  func()\n"
     ]
    }
   ],
   "source": [
    "import flask\n",
    "import urllib.parse as urlparse\n",
    "\n",
    "code = None\n",
    "app = flask.Flask(__name__)\n",
    "\n",
    "scopes = \" \".join([\n",
    "    \"user-read-playback-state\"\n",
    "    ,\"user-read-currently-playing\"\n",
    "    ,\"playlist-read-private\"\n",
    "    ,\"playlist-read-collaborative\"\n",
    "    ,\"user-read-playback-position\"\n",
    "    ,\"user-top-read\"\n",
    "    ,\"user-read-recently-played\"\n",
    "    ,\"user-library-read\"\n",
    "    ,\"user-read-email\"\n",
    "    ,\"user-read-private\"])\n",
    "\n",
    "@app.route(\"/\")\n",
    "def index():\n",
    "    \n",
    "    user_auth_url = 'https://accounts.spotify.com/authorize?' + urlparse.urlencode({\n",
    "        'client_id': client_id,\n",
    "        'response_type': 'code',\n",
    "        'scope': scopes,\n",
    "        'redirect_uri': redirect_url,\n",
    "    })  \n",
    "    return flask.redirect(user_auth_url)\n",
    "\n",
    "@app.route(\"/callback\")\n",
    "def callback():\n",
    "    code = flask.request.args.get('code')\n",
    "    if code is None:\n",
    "        err = flask.request.args.get('error')\n",
    "        shutdown_server()\n",
    "        return f\"Authorization failed with the following error: {err}\"\n",
    "    else:\n",
    "        with open('auth_code.txt','w+') as file:\n",
    "            file.write(code)\n",
    "\n",
    "        shutdown_server()\n",
    "        return \"<h1> Authorization successful. Please close this window. </h1>\"\n",
    "\n",
    "def shutdown_server():\n",
    "    func = flask.request.environ.get('werkzeug.server.shutdown')\n",
    "    if func is None:\n",
    "        raise RuntimeError('Not running with the Werkzeug Server')\n",
    "    func()\n",
    "\n",
    "if __name__ == \"__main__\":\n",
    "    app.run(host=\"localhost\", port=5050)"
   ]
  },
  {
   "cell_type": "markdown",
   "id": "8c1dbaaa",
   "metadata": {},
   "source": [
    "# Get Token"
   ]
  },
  {
   "cell_type": "code",
   "execution_count": 4,
   "id": "25169346",
   "metadata": {},
   "outputs": [],
   "source": [
    "def get_token():\n",
    "    auth_string = client_id + \":\" + client_secret\n",
    "    auth_bytes = auth_string.encode(\"utf-8\")\n",
    "    auth_encoded = str(base64.b64encode(auth_bytes), \"utf-8\")\n",
    "    \n",
    "    auth_api_url = \"https://accounts.spotify.com/api/token\"\n",
    "    headers = {\n",
    "        \"Authorization\": \"Basic \" + auth_encoded,\n",
    "        \"Content-type\": \"application/x-www-form-urlencoded\"\n",
    "    }\n",
    "    data = {\"grant_type\": \"client_credentials\"}\n",
    "    result = requests.post(auth_api_url, headers=headers, data=data)\n",
    "    json_results = json.loads(result.content)\n",
    "    token = json_results[\"access_token\"]\n",
    "    return(token)"
   ]
  },
  {
   "cell_type": "code",
   "execution_count": 18,
   "id": "05ecbd6b",
   "metadata": {},
   "outputs": [],
   "source": [
    "def get_auth_token():\n",
    "    auth_string = client_id + \":\" + client_secret\n",
    "    auth_bytes = auth_string.encode(\"utf-8\")\n",
    "    auth_encoded = str(base64.b64encode(auth_bytes), \"utf-8\")\n",
    "    \n",
    "    with open('auth_code.txt','r+') as file:\n",
    "        auth_code = file.read()\n",
    "    \n",
    "    token_endpoint = \"https://accounts.spotify.com/api/token\"\n",
    "    data = {\n",
    "        \"grant_type\":\"authorization_code\",\n",
    "        \"code\":auth_code,\n",
    "        \"redirect_uri\":redirect_url,\n",
    "    }\n",
    "    headers = {\n",
    "        \"Authorization\": \"Basic \" + auth_encoded,\n",
    "        \"Content-type\": \"application/x-www-form-urlencoded\"\n",
    "    }\n",
    "    \n",
    "    data = {\"grant_type\": \"client_credentials\"}\n",
    "    result = requests.post(token_endpoint, headers=headers, data=data)\n",
    "    json_results = json.loads(result.content)\n",
    "    return json_result"
   ]
  }
 ],
 "metadata": {
  "kernelspec": {
   "display_name": "Python 3 (ipykernel)",
   "language": "python",
   "name": "python3"
  },
  "language_info": {
   "codemirror_mode": {
    "name": "ipython",
    "version": 3
   },
   "file_extension": ".py",
   "mimetype": "text/x-python",
   "name": "python",
   "nbconvert_exporter": "python",
   "pygments_lexer": "ipython3",
   "version": "3.9.13"
  }
 },
 "nbformat": 4,
 "nbformat_minor": 5
}
