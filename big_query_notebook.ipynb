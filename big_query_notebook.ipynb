{
 "cells": [
  {
   "cell_type": "code",
   "execution_count": 40,
   "id": "634ed4c0",
   "metadata": {},
   "outputs": [],
   "source": [
    "import json\n",
    "from authorization import SpotifyAuth\n",
    "import spotify_functions as spotify\n",
    "import os\n",
    "import pandas as pd\n",
    "from google.cloud import bigquery\n",
    "from helpers.helpers import get_url"
   ]
  },
  {
   "cell_type": "code",
   "execution_count": 18,
   "id": "0b6d04ec",
   "metadata": {},
   "outputs": [
    {
     "name": "stdout",
     "output_type": "stream",
     "text": [
      "Running from time period: 1729254157594\n"
     ]
    }
   ],
   "source": [
    "import datetime\n",
    "yesterday = datetime.datetime.now() - datetime.timedelta(days=2)\n",
    "cdc_time = int(yesterday.timestamp()*1e3)\n",
    "print(f\"Running from time period: {cdc_time}\")"
   ]
  },
  {
   "cell_type": "code",
   "execution_count": 19,
   "id": "4ac2c7b8",
   "metadata": {},
   "outputs": [],
   "source": [
    "with open('client-secrets-rnr.json','r+') as secrets_file:\n",
    "    secrets = json.load(secrets_file)\n",
    "\n",
    "client_id = secrets[\"client_id\"]\n",
    "client_secret = secrets[\"client_secret\"]\n",
    "redirect_url = secrets[\"redirect_url\"]"
   ]
  },
  {
   "cell_type": "markdown",
   "id": "8acef04f",
   "metadata": {},
   "source": [
    "## Check records in the table"
   ]
  },
  {
   "cell_type": "code",
   "execution_count": 33,
   "id": "84f95079",
   "metadata": {},
   "outputs": [],
   "source": [
    "credentials_path = 'bigquery_pk.json'"
   ]
  },
  {
   "cell_type": "code",
   "execution_count": 34,
   "id": "7c1cefda",
   "metadata": {},
   "outputs": [],
   "source": [
    "os.environ['GOOGLE_APPLICATION_CREDENTIALS'] = credentials_path\n",
    "client = bigquery.Client()"
   ]
  },
  {
   "cell_type": "code",
   "execution_count": 44,
   "id": "3db4a210",
   "metadata": {},
   "outputs": [],
   "source": [
    "def get_new_records (dataframe, bq_client, bq_table, primary_keys):\n",
    "    \"\"\"\n",
    "    Determine the presence of records in the BQ Table.\n",
    "    Returns WID-populated dataframe to be loaded to table.\n",
    "    \n",
    "    Parameters:\n",
    "    ==========\n",
    "    dataframe    :    pandas DataFrame\n",
    "    dataframe containing rows to check for in BQ Table\n",
    "        \n",
    "    bq_table     :    BigQuery Table\n",
    "    BigQuery Table checking primary keys against\n",
    "    \n",
    "    primary_keys :    list or str\n",
    "    List of primary keys to check records presence against\n",
    "    \n",
    "    Returns:\n",
    "    ========\n",
    "    \n",
    "        i)  dataframe with WID columns if new records need to be uploaded\n",
    "        ii) None if all records already exist in BQ Table\n",
    "    \"\"\"\n",
    "    \n",
    "    # Type casting Primary Keys to list for seamless handling of data types\n",
    "    if not(isinstance(primary_keys, list)):\n",
    "        primary_keys = [primary_keys]\n",
    "        \n",
    "    \n",
    "    bq_df = bq_client.query(f\"SELECT * FROM `{bq_table}`\").to_dataframe()\n",
    "    \n",
    "    df_diff = dataframe.merge(bq_df.drop_duplicates(), on=primary_keys, how='left', indicator=True)\n",
    "    \n",
    "    return df_diff"
   ]
  },
  {
   "cell_type": "code",
   "execution_count": 45,
   "id": "6514e542",
   "metadata": {},
   "outputs": [
    {
     "data": {
      "text/html": [
       "<div>\n",
       "<style scoped>\n",
       "    .dataframe tbody tr th:only-of-type {\n",
       "        vertical-align: middle;\n",
       "    }\n",
       "\n",
       "    .dataframe tbody tr th {\n",
       "        vertical-align: top;\n",
       "    }\n",
       "\n",
       "    .dataframe thead th {\n",
       "        text-align: right;\n",
       "    }\n",
       "</style>\n",
       "<table border=\"1\" class=\"dataframe\">\n",
       "  <thead>\n",
       "    <tr style=\"text-align: right;\">\n",
       "      <th></th>\n",
       "      <th>display_name</th>\n",
       "      <th>type</th>\n",
       "      <th>country</th>\n",
       "      <th>product</th>\n",
       "      <th>spotify_url</th>\n",
       "      <th>profile_pic</th>\n",
       "    </tr>\n",
       "  </thead>\n",
       "  <tbody>\n",
       "    <tr>\n",
       "      <th>0</th>\n",
       "      <td>sdspot2034</td>\n",
       "      <td>user</td>\n",
       "      <td>IN</td>\n",
       "      <td>premium</td>\n",
       "      <td>https://open.spotify.com/user/sdspot2034</td>\n",
       "      <td>https://i.scdn.co/image/ab6775700000ee8580153a...</td>\n",
       "    </tr>\n",
       "  </tbody>\n",
       "</table>\n",
       "</div>"
      ],
      "text/plain": [
       "  display_name  type country  product  \\\n",
       "0   sdspot2034  user      IN  premium   \n",
       "\n",
       "                                spotify_url  \\\n",
       "0  https://open.spotify.com/user/sdspot2034   \n",
       "\n",
       "                                         profile_pic  \n",
       "0  https://i.scdn.co/image/ab6775700000ee8580153a...  "
      ]
     },
     "execution_count": 45,
     "metadata": {},
     "output_type": "execute_result"
    }
   ],
   "source": [
    "spotify_authorisation = SpotifyAuth(client_id=client_id, client_secret=client_secret, redirect_url=redirect_url)\n",
    "spotify_authorisation.set_access_token_from_file('access_token.json')\n",
    "\n",
    "user = [spotify.get_user_details(spotify_authorisation.get_access_token())]\n",
    "df_user = pd.DataFrame(user)\n",
    "df_user['spotify_url'] = df_user['external_urls'].apply(lambda x:x['spotify'])\n",
    "df_user['profile_pic'] = df_user['images'].apply(get_url, args=[300])\n",
    "df_user = df_user[['display_name','type','country','product','spotify_url','profile_pic']]\n",
    "df_user"
   ]
  },
  {
   "cell_type": "code",
   "execution_count": 46,
   "id": "c3cee63b",
   "metadata": {
    "scrolled": true
   },
   "outputs": [
    {
     "name": "stderr",
     "output_type": "stream",
     "text": [
      "/Users/shreyan/opt/anaconda3/lib/python3.9/site-packages/google/cloud/bigquery/table.py:2309: UserWarning: Unable to represent RANGE schema as struct using pandas ArrowDtype. Using `object` instead. To use ArrowDtype, use pandas >= 1.5 and pyarrow >= 10.0.1.\n",
      "  warnings.warn(_RANGE_PYARROW_WARNING)\n",
      "/Users/shreyan/opt/anaconda3/lib/python3.9/site-packages/google/cloud/bigquery/table.py:2323: UserWarning: Unable to represent RANGE schema as struct using pandas ArrowDtype. Using `object` instead. To use ArrowDtype, use pandas >= 1.5 and pyarrow >= 10.0.1.\n",
      "  warnings.warn(_RANGE_PYARROW_WARNING)\n",
      "/Users/shreyan/opt/anaconda3/lib/python3.9/site-packages/google/cloud/bigquery/table.py:2337: UserWarning: Unable to represent RANGE schema as struct using pandas ArrowDtype. Using `object` instead. To use ArrowDtype, use pandas >= 1.5 and pyarrow >= 10.0.1.\n",
      "  warnings.warn(_RANGE_PYARROW_WARNING)\n",
      "/Users/shreyan/opt/anaconda3/lib/python3.9/site-packages/google/cloud/bigquery/table.py:1727: UserWarning: BigQuery Storage module not found, fetch data with the REST endpoint instead.\n",
      "  warnings.warn(\n"
     ]
    },
    {
     "data": {
      "text/html": [
       "<div>\n",
       "<style scoped>\n",
       "    .dataframe tbody tr th:only-of-type {\n",
       "        vertical-align: middle;\n",
       "    }\n",
       "\n",
       "    .dataframe tbody tr th {\n",
       "        vertical-align: top;\n",
       "    }\n",
       "\n",
       "    .dataframe thead th {\n",
       "        text-align: right;\n",
       "    }\n",
       "</style>\n",
       "<table border=\"1\" class=\"dataframe\">\n",
       "  <thead>\n",
       "    <tr style=\"text-align: right;\">\n",
       "      <th></th>\n",
       "      <th>display_name_x</th>\n",
       "      <th>type_x</th>\n",
       "      <th>country_x</th>\n",
       "      <th>product_x</th>\n",
       "      <th>spotify_url</th>\n",
       "      <th>profile_pic_x</th>\n",
       "      <th>user_wid</th>\n",
       "      <th>display_name_y</th>\n",
       "      <th>type_y</th>\n",
       "      <th>country_y</th>\n",
       "      <th>product_y</th>\n",
       "      <th>profile_pic_y</th>\n",
       "      <th>_merge</th>\n",
       "    </tr>\n",
       "  </thead>\n",
       "  <tbody>\n",
       "    <tr>\n",
       "      <th>0</th>\n",
       "      <td>sdspot2034</td>\n",
       "      <td>user</td>\n",
       "      <td>IN</td>\n",
       "      <td>premium</td>\n",
       "      <td>https://open.spotify.com/user/sdspot2034</td>\n",
       "      <td>https://i.scdn.co/image/ab6775700000ee8580153a...</td>\n",
       "      <td>1</td>\n",
       "      <td>sdspot2034</td>\n",
       "      <td>user</td>\n",
       "      <td>IN</td>\n",
       "      <td>premium</td>\n",
       "      <td>https://i.scdn.co/image/ab6775700000ee8580153a...</td>\n",
       "      <td>both</td>\n",
       "    </tr>\n",
       "  </tbody>\n",
       "</table>\n",
       "</div>"
      ],
      "text/plain": [
       "  display_name_x type_x country_x product_x  \\\n",
       "0     sdspot2034   user        IN   premium   \n",
       "\n",
       "                                spotify_url  \\\n",
       "0  https://open.spotify.com/user/sdspot2034   \n",
       "\n",
       "                                       profile_pic_x  user_wid display_name_y  \\\n",
       "0  https://i.scdn.co/image/ab6775700000ee8580153a...         1     sdspot2034   \n",
       "\n",
       "  type_y country_y product_y  \\\n",
       "0   user        IN   premium   \n",
       "\n",
       "                                       profile_pic_y _merge  \n",
       "0  https://i.scdn.co/image/ab6775700000ee8580153a...   both  "
      ]
     },
     "execution_count": 46,
     "metadata": {},
     "output_type": "execute_result"
    }
   ],
   "source": [
    "get_new_records(df_user, client, bigquery.Table(\"rhyme-and-reason.Spotify_db.DIM_USER\"),['spotify_url'])"
   ]
  },
  {
   "cell_type": "code",
   "execution_count": null,
   "id": "9157d8ef",
   "metadata": {},
   "outputs": [],
   "source": []
  },
  {
   "cell_type": "code",
   "execution_count": null,
   "id": "112c40d4",
   "metadata": {},
   "outputs": [],
   "source": []
  },
  {
   "cell_type": "code",
   "execution_count": null,
   "id": "f955a7de",
   "metadata": {},
   "outputs": [],
   "source": []
  },
  {
   "cell_type": "code",
   "execution_count": null,
   "id": "d5bf2aaa",
   "metadata": {},
   "outputs": [],
   "source": []
  },
  {
   "cell_type": "code",
   "execution_count": null,
   "id": "7328e1da",
   "metadata": {},
   "outputs": [],
   "source": []
  }
 ],
 "metadata": {
  "kernelspec": {
   "display_name": "Python 3 (ipykernel)",
   "language": "python",
   "name": "python3"
  },
  "language_info": {
   "codemirror_mode": {
    "name": "ipython",
    "version": 3
   },
   "file_extension": ".py",
   "mimetype": "text/x-python",
   "name": "python",
   "nbconvert_exporter": "python",
   "pygments_lexer": "ipython3",
   "version": "3.9.13"
  }
 },
 "nbformat": 4,
 "nbformat_minor": 5
}
